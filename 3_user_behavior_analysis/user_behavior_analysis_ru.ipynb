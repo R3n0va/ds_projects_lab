{
 "cells": [
  {
   "cell_type": "markdown",
   "id": "ad8e949a",
   "metadata": {},
   "source": [
    "### Проект: Статистический анализ данных\n",
    "Нам передали данные популярного сервиса аренды самокатов GoFast о некоторых пользователях из нескольких городов, а также об их поездках. Необходимо проанализировать данные и проверьте некоторые гипотезы, которые могут помочь бизнесу вырасти.   \n",
    "Чтобы совершать поездки по городу, пользователи сервиса GoFast пользуются мобильным приложением. Сервисом можно пользоваться:\n",
    "- без подписки\n",
    "    - абонентская плата отсутствует;\n",
    "    - стоимость одной минуты поездки — 8 рублей;\n",
    "    - стоимость старта (начала поездки) — 50 рублей;\n",
    "- с подпиской Ultra\n",
    "    - абонентская плата — 199 рублей в месяц;\n",
    "    - стоимость одной минуты поездки — 6 рублей;\n",
    "    - стоимость старта — бесплатно.\n",
    "    \n",
    "### **Описание данных**\n",
    "В основных данных есть информация о пользователях, их поездках и подписках.   \n",
    "\n",
    "**Пользователи — users_go.csv** \n",
    "- **user_id** - уникальный идентификатор пользователя\n",
    "- **name** - имя пользователя\n",
    "- **age** - возраст\n",
    "- **city** - город\n",
    "- **subscription_type** - тип подписки (free, ultra)\n",
    "\n",
    "**Поездки — rides_go.csv**   \n",
    "- **user_id** - уникальный идентификатор пользователя\n",
    "- **distance** - расстояние, которое пользователь проехал в текущей сессии (в метрах)\n",
    "- **duration** - продолжительность сессии (в минутах) — время с того момента, как пользователь нажал кнопку «Начать поездку» до момента, как он нажал кнопку «Завершить поездку»\n",
    "- **date** - дата совершения поездки\n",
    "\n",
    "**Подписки — subscriptions_go.csv**\n",
    "- **subscription_type** - тип подписки\n",
    "- **minute_price** - стоимость одной минуты поездки по данной подписке\n",
    "- **start_ride_price** - стоимость начала поездки\n",
    "- **subscription_fee** - стоимость ежемесячного платежа"
   ]
  },
  {
   "cell_type": "code",
   "execution_count": 1,
   "id": "72576667",
   "metadata": {},
   "outputs": [],
   "source": [
    "import pandas as pd\n",
    "import matplotlib.pyplot as plt\n",
    "import numpy as np\n",
    "from scipy import stats as st"
   ]
  },
  {
   "cell_type": "markdown",
   "id": "c42cbe00",
   "metadata": {},
   "source": [
    "#### Шаг 1. Загрузка данных"
   ]
  },
  {
   "cell_type": "code",
   "execution_count": 2,
   "id": "eff9f206",
   "metadata": {},
   "outputs": [],
   "source": [
    "users = pd.read_csv('/datasets/users_go.csv')\n",
    "rides = pd.read_csv('/datasets/rides_go.csv')\n",
    "subs = pd.read_csv('/datasets/subscriptions_go.csv')"
   ]
  },
  {
   "cell_type": "code",
   "execution_count": 3,
   "id": "ec6bb37f",
   "metadata": {},
   "outputs": [
    {
     "data": {
      "text/html": [
       "<div>\n",
       "<style scoped>\n",
       "    .dataframe tbody tr th:only-of-type {\n",
       "        vertical-align: middle;\n",
       "    }\n",
       "\n",
       "    .dataframe tbody tr th {\n",
       "        vertical-align: top;\n",
       "    }\n",
       "\n",
       "    .dataframe thead th {\n",
       "        text-align: right;\n",
       "    }\n",
       "</style>\n",
       "<table border=\"1\" class=\"dataframe\">\n",
       "  <thead>\n",
       "    <tr style=\"text-align: right;\">\n",
       "      <th></th>\n",
       "      <th>user_id</th>\n",
       "      <th>name</th>\n",
       "      <th>age</th>\n",
       "      <th>city</th>\n",
       "      <th>subscription_type</th>\n",
       "    </tr>\n",
       "  </thead>\n",
       "  <tbody>\n",
       "    <tr>\n",
       "      <th>0</th>\n",
       "      <td>1</td>\n",
       "      <td>Кира</td>\n",
       "      <td>22</td>\n",
       "      <td>Тюмень</td>\n",
       "      <td>ultra</td>\n",
       "    </tr>\n",
       "    <tr>\n",
       "      <th>1</th>\n",
       "      <td>2</td>\n",
       "      <td>Станислав</td>\n",
       "      <td>31</td>\n",
       "      <td>Омск</td>\n",
       "      <td>ultra</td>\n",
       "    </tr>\n",
       "    <tr>\n",
       "      <th>2</th>\n",
       "      <td>3</td>\n",
       "      <td>Алексей</td>\n",
       "      <td>20</td>\n",
       "      <td>Москва</td>\n",
       "      <td>ultra</td>\n",
       "    </tr>\n",
       "    <tr>\n",
       "      <th>3</th>\n",
       "      <td>4</td>\n",
       "      <td>Константин</td>\n",
       "      <td>26</td>\n",
       "      <td>Ростов-на-Дону</td>\n",
       "      <td>ultra</td>\n",
       "    </tr>\n",
       "    <tr>\n",
       "      <th>4</th>\n",
       "      <td>5</td>\n",
       "      <td>Адель</td>\n",
       "      <td>28</td>\n",
       "      <td>Омск</td>\n",
       "      <td>ultra</td>\n",
       "    </tr>\n",
       "  </tbody>\n",
       "</table>\n",
       "</div>"
      ],
      "text/plain": [
       "   user_id        name  age            city subscription_type\n",
       "0        1        Кира   22          Тюмень             ultra\n",
       "1        2   Станислав   31            Омск             ultra\n",
       "2        3     Алексей   20          Москва             ultra\n",
       "3        4  Константин   26  Ростов-на-Дону             ultra\n",
       "4        5       Адель   28            Омск             ultra"
      ]
     },
     "execution_count": 3,
     "metadata": {},
     "output_type": "execute_result"
    }
   ],
   "source": [
    "users.head()"
   ]
  },
  {
   "cell_type": "code",
   "execution_count": 4,
   "id": "c1f28ae8",
   "metadata": {},
   "outputs": [
    {
     "name": "stdout",
     "output_type": "stream",
     "text": [
      "<class 'pandas.core.frame.DataFrame'>\n",
      "RangeIndex: 1565 entries, 0 to 1564\n",
      "Data columns (total 5 columns):\n",
      " #   Column             Non-Null Count  Dtype \n",
      "---  ------             --------------  ----- \n",
      " 0   user_id            1565 non-null   int64 \n",
      " 1   name               1565 non-null   object\n",
      " 2   age                1565 non-null   int64 \n",
      " 3   city               1565 non-null   object\n",
      " 4   subscription_type  1565 non-null   object\n",
      "dtypes: int64(2), object(3)\n",
      "memory usage: 61.3+ KB\n"
     ]
    }
   ],
   "source": [
    "users.info()"
   ]
  },
  {
   "cell_type": "code",
   "execution_count": 5,
   "id": "03ba1810",
   "metadata": {
    "scrolled": true
   },
   "outputs": [
    {
     "data": {
      "text/html": [
       "<div>\n",
       "<style scoped>\n",
       "    .dataframe tbody tr th:only-of-type {\n",
       "        vertical-align: middle;\n",
       "    }\n",
       "\n",
       "    .dataframe tbody tr th {\n",
       "        vertical-align: top;\n",
       "    }\n",
       "\n",
       "    .dataframe thead th {\n",
       "        text-align: right;\n",
       "    }\n",
       "</style>\n",
       "<table border=\"1\" class=\"dataframe\">\n",
       "  <thead>\n",
       "    <tr style=\"text-align: right;\">\n",
       "      <th></th>\n",
       "      <th>user_id</th>\n",
       "      <th>distance</th>\n",
       "      <th>duration</th>\n",
       "      <th>date</th>\n",
       "    </tr>\n",
       "  </thead>\n",
       "  <tbody>\n",
       "    <tr>\n",
       "      <th>0</th>\n",
       "      <td>1</td>\n",
       "      <td>4409.919140</td>\n",
       "      <td>25.599769</td>\n",
       "      <td>2021-01-01</td>\n",
       "    </tr>\n",
       "    <tr>\n",
       "      <th>1</th>\n",
       "      <td>1</td>\n",
       "      <td>2617.592153</td>\n",
       "      <td>15.816871</td>\n",
       "      <td>2021-01-18</td>\n",
       "    </tr>\n",
       "    <tr>\n",
       "      <th>2</th>\n",
       "      <td>1</td>\n",
       "      <td>754.159807</td>\n",
       "      <td>6.232113</td>\n",
       "      <td>2021-04-20</td>\n",
       "    </tr>\n",
       "    <tr>\n",
       "      <th>3</th>\n",
       "      <td>1</td>\n",
       "      <td>2694.783254</td>\n",
       "      <td>18.511000</td>\n",
       "      <td>2021-08-11</td>\n",
       "    </tr>\n",
       "    <tr>\n",
       "      <th>4</th>\n",
       "      <td>1</td>\n",
       "      <td>4028.687306</td>\n",
       "      <td>26.265803</td>\n",
       "      <td>2021-08-28</td>\n",
       "    </tr>\n",
       "  </tbody>\n",
       "</table>\n",
       "</div>"
      ],
      "text/plain": [
       "   user_id     distance   duration        date\n",
       "0        1  4409.919140  25.599769  2021-01-01\n",
       "1        1  2617.592153  15.816871  2021-01-18\n",
       "2        1   754.159807   6.232113  2021-04-20\n",
       "3        1  2694.783254  18.511000  2021-08-11\n",
       "4        1  4028.687306  26.265803  2021-08-28"
      ]
     },
     "execution_count": 5,
     "metadata": {},
     "output_type": "execute_result"
    }
   ],
   "source": [
    "rides.head()"
   ]
  },
  {
   "cell_type": "code",
   "execution_count": 6,
   "id": "571f52f1",
   "metadata": {},
   "outputs": [
    {
     "name": "stdout",
     "output_type": "stream",
     "text": [
      "<class 'pandas.core.frame.DataFrame'>\n",
      "RangeIndex: 18068 entries, 0 to 18067\n",
      "Data columns (total 4 columns):\n",
      " #   Column    Non-Null Count  Dtype  \n",
      "---  ------    --------------  -----  \n",
      " 0   user_id   18068 non-null  int64  \n",
      " 1   distance  18068 non-null  float64\n",
      " 2   duration  18068 non-null  float64\n",
      " 3   date      18068 non-null  object \n",
      "dtypes: float64(2), int64(1), object(1)\n",
      "memory usage: 564.8+ KB\n"
     ]
    }
   ],
   "source": [
    "rides.info()"
   ]
  },
  {
   "cell_type": "code",
   "execution_count": 7,
   "id": "c723dbca",
   "metadata": {},
   "outputs": [
    {
     "data": {
      "text/html": [
       "<div>\n",
       "<style scoped>\n",
       "    .dataframe tbody tr th:only-of-type {\n",
       "        vertical-align: middle;\n",
       "    }\n",
       "\n",
       "    .dataframe tbody tr th {\n",
       "        vertical-align: top;\n",
       "    }\n",
       "\n",
       "    .dataframe thead th {\n",
       "        text-align: right;\n",
       "    }\n",
       "</style>\n",
       "<table border=\"1\" class=\"dataframe\">\n",
       "  <thead>\n",
       "    <tr style=\"text-align: right;\">\n",
       "      <th></th>\n",
       "      <th>subscription_type</th>\n",
       "      <th>minute_price</th>\n",
       "      <th>start_ride_price</th>\n",
       "      <th>subscription_fee</th>\n",
       "    </tr>\n",
       "  </thead>\n",
       "  <tbody>\n",
       "    <tr>\n",
       "      <th>0</th>\n",
       "      <td>free</td>\n",
       "      <td>8</td>\n",
       "      <td>50</td>\n",
       "      <td>0</td>\n",
       "    </tr>\n",
       "    <tr>\n",
       "      <th>1</th>\n",
       "      <td>ultra</td>\n",
       "      <td>6</td>\n",
       "      <td>0</td>\n",
       "      <td>199</td>\n",
       "    </tr>\n",
       "  </tbody>\n",
       "</table>\n",
       "</div>"
      ],
      "text/plain": [
       "  subscription_type  minute_price  start_ride_price  subscription_fee\n",
       "0              free             8                50                 0\n",
       "1             ultra             6                 0               199"
      ]
     },
     "execution_count": 7,
     "metadata": {},
     "output_type": "execute_result"
    }
   ],
   "source": [
    "subs.head()"
   ]
  },
  {
   "cell_type": "code",
   "execution_count": 8,
   "id": "717bfa28",
   "metadata": {},
   "outputs": [
    {
     "name": "stdout",
     "output_type": "stream",
     "text": [
      "<class 'pandas.core.frame.DataFrame'>\n",
      "RangeIndex: 2 entries, 0 to 1\n",
      "Data columns (total 4 columns):\n",
      " #   Column             Non-Null Count  Dtype \n",
      "---  ------             --------------  ----- \n",
      " 0   subscription_type  2 non-null      object\n",
      " 1   minute_price       2 non-null      int64 \n",
      " 2   start_ride_price   2 non-null      int64 \n",
      " 3   subscription_fee   2 non-null      int64 \n",
      "dtypes: int64(3), object(1)\n",
      "memory usage: 192.0+ bytes\n"
     ]
    }
   ],
   "source": [
    "subs.info()"
   ]
  },
  {
   "cell_type": "markdown",
   "id": "deb0e3eb",
   "metadata": {},
   "source": [
    "Пользователи   содержит 5 столбцов и 1565 строк   \n",
    "Поездки   содержит 4 столбца и 18068 строк   \n",
    "Подписки   содержит 4 столбца и 2 строки   \n",
    "Пропусков в данных нет, проверку дубликатов и изменение формата даты произведем на этапе предобработки далее."
   ]
  },
  {
   "cell_type": "markdown",
   "id": "e95ebca7",
   "metadata": {},
   "source": [
    "#### Шаг 2. Предобработка данных"
   ]
  },
  {
   "cell_type": "markdown",
   "id": "93cfd324",
   "metadata": {},
   "source": [
    "1. Приведем столбец **date** датафрейма **rides** к типу даты pandas"
   ]
  },
  {
   "cell_type": "code",
   "execution_count": 9,
   "id": "af6d202c",
   "metadata": {},
   "outputs": [],
   "source": [
    "rides['date'] = pd.to_datetime(rides['date'])"
   ]
  },
  {
   "cell_type": "markdown",
   "id": "dfc38180",
   "metadata": {},
   "source": [
    "2. Создадим новый столбец с номером месяца на основе столбца **date**"
   ]
  },
  {
   "cell_type": "code",
   "execution_count": 10,
   "id": "88e34441",
   "metadata": {},
   "outputs": [],
   "source": [
    "rides['month'] = rides['date'].dt.month"
   ]
  },
  {
   "cell_type": "markdown",
   "id": "dc90a413",
   "metadata": {},
   "source": [
    "3. Пропущенных значений в датафреймах нет (мы в этом убедились на этапе оценки датафреймов), проверим на наличие дубликатов"
   ]
  },
  {
   "cell_type": "code",
   "execution_count": 11,
   "id": "2857b4c5",
   "metadata": {},
   "outputs": [
    {
     "data": {
      "text/plain": [
       "31"
      ]
     },
     "execution_count": 11,
     "metadata": {},
     "output_type": "execute_result"
    }
   ],
   "source": [
    "duplicates_users = users.duplicated().sum()\n",
    "duplicates_users"
   ]
  },
  {
   "cell_type": "code",
   "execution_count": 12,
   "id": "f78a6de8",
   "metadata": {},
   "outputs": [
    {
     "data": {
      "text/plain": [
       "0"
      ]
     },
     "execution_count": 12,
     "metadata": {},
     "output_type": "execute_result"
    }
   ],
   "source": [
    "duplicates_rides = rides.duplicated().sum()\n",
    "duplicates_rides"
   ]
  },
  {
   "cell_type": "code",
   "execution_count": 13,
   "id": "57a19827",
   "metadata": {},
   "outputs": [
    {
     "data": {
      "text/plain": [
       "0"
      ]
     },
     "execution_count": 13,
     "metadata": {},
     "output_type": "execute_result"
    }
   ],
   "source": [
    "duplicates_subs = subs.duplicated().sum()\n",
    "duplicates_subs"
   ]
  },
  {
   "cell_type": "markdown",
   "id": "314c3c6a",
   "metadata": {},
   "source": [
    "В датафрейме обнаружено 31 полный дубликат - удалим эти повторения и проверим результат"
   ]
  },
  {
   "cell_type": "code",
   "execution_count": 14,
   "id": "12783a6a",
   "metadata": {},
   "outputs": [
    {
     "data": {
      "text/plain": [
       "0"
      ]
     },
     "execution_count": 14,
     "metadata": {},
     "output_type": "execute_result"
    }
   ],
   "source": [
    "users.drop_duplicates(inplace=True)\n",
    "duplicates_users = users.duplicated().sum()\n",
    "duplicates_users"
   ]
  },
  {
   "cell_type": "markdown",
   "id": "8fd9f33a",
   "metadata": {},
   "source": [
    "На этапе предобработки данных мы   \n",
    "- привели столбец дата к формату pandas date\n",
    "- вывели номер месяца в отдельный столбец\n",
    "- убедились в отсутствии пропусков\n",
    "- нашли и обработали (удалили) повторения"
   ]
  },
  {
   "cell_type": "markdown",
   "id": "212593c7",
   "metadata": {},
   "source": [
    "#### Шаг 3. Исследовательский анализ данных"
   ]
  },
  {
   "cell_type": "markdown",
   "id": "e971b7d5",
   "metadata": {},
   "source": [
    "Визуализируем общую информацию о пользователях и поездках."
   ]
  },
  {
   "cell_type": "markdown",
   "id": "320df395",
   "metadata": {},
   "source": [
    "1. Частота встречаемости городов"
   ]
  },
  {
   "cell_type": "code",
   "execution_count": 15,
   "id": "b86ac1c9",
   "metadata": {},
   "outputs": [
    {
     "data": {
      "text/plain": [
       "Пятигорск         219\n",
       "Екатеринбург      204\n",
       "Ростов-на-Дону    198\n",
       "Краснодар         193\n",
       "Сочи              189\n",
       "Омск              183\n",
       "Тюмень            180\n",
       "Москва            168\n",
       "Name: city, dtype: int64"
      ]
     },
     "execution_count": 15,
     "metadata": {},
     "output_type": "execute_result"
    }
   ],
   "source": [
    "users['city'].value_counts()"
   ]
  },
  {
   "cell_type": "code",
   "execution_count": 16,
   "id": "c829d216",
   "metadata": {},
   "outputs": [
    {
     "data": {
      "image/png": "[encoded data removed]",
      "text/plain": [
       "<Figure size 720x432 with 1 Axes>"
      ]
     },
     "metadata": {
      "needs_background": "light"
     },
     "output_type": "display_data"
    }
   ],
   "source": [
    "plt.figure(figsize=(10, 6))\n",
    "users['city'].value_counts().plot(kind='bar')\n",
    "plt.title('Частота встречаемости городов')\n",
    "plt.xlabel('Город')\n",
    "plt.ylabel('Частота')\n",
    "plt.xticks(rotation=90)\n",
    "plt.grid(axis='y', linestyle='--', alpha=0.7)\n",
    "plt.tight_layout()\n",
    "plt.show()"
   ]
  },
  {
   "cell_type": "markdown",
   "id": "a99a21e4",
   "metadata": {},
   "source": [
    "Больше всего пользователей в Пятигорске и меньше всего в Москве."
   ]
  },
  {
   "cell_type": "markdown",
   "id": "9b587a9e",
   "metadata": {},
   "source": [
    "2. Соотношение пользователей с подпиской и без подписки."
   ]
  },
  {
   "cell_type": "code",
   "execution_count": 17,
   "id": "b66d70a4",
   "metadata": {},
   "outputs": [
    {
     "data": {
      "text/plain": [
       "free     835\n",
       "ultra    699\n",
       "Name: subscription_type, dtype: int64"
      ]
     },
     "execution_count": 17,
     "metadata": {},
     "output_type": "execute_result"
    }
   ],
   "source": [
    "users['subscription_type'].value_counts()"
   ]
  },
  {
   "cell_type": "code",
   "execution_count": 18,
   "id": "b1faa2a5",
   "metadata": {},
   "outputs": [
    {
     "data": {
      "image/png": "[encoded data removed]",
      "text/plain": [
       "<Figure size 432x432 with 1 Axes>"
      ]
     },
     "metadata": {},
     "output_type": "display_data"
    }
   ],
   "source": [
    "plt.figure(figsize=(6, 6))\n",
    "users['subscription_type'].value_counts().plot(\n",
    "    kind='pie',\n",
    "    autopct='%1.0f%%',\n",
    "    colors=['lightblue', 'pink'])\n",
    "plt.title('Соотношение пользователей с подпиской и без подписки')\n",
    "plt.show()"
   ]
  },
  {
   "cell_type": "markdown",
   "id": "47d4a0b6",
   "metadata": {},
   "source": [
    "Пользователей без подписки больше половины - 54%"
   ]
  },
  {
   "cell_type": "markdown",
   "id": "6cbb329a",
   "metadata": {},
   "source": [
    "3. Возраст пользователей."
   ]
  },
  {
   "cell_type": "code",
   "execution_count": 19,
   "id": "f6f68c8c",
   "metadata": {},
   "outputs": [
    {
     "data": {
      "text/plain": [
       "25    145\n",
       "24    132\n",
       "26    131\n",
       "23    129\n",
       "27    119\n",
       "22    119\n",
       "28    112\n",
       "21     93\n",
       "20     71\n",
       "30     68\n",
       "29     68\n",
       "31     48\n",
       "19     47\n",
       "18     46\n",
       "32     41\n",
       "33     39\n",
       "17     26\n",
       "34     19\n",
       "16     19\n",
       "35     15\n",
       "15     13\n",
       "14      9\n",
       "13      8\n",
       "36      6\n",
       "12      4\n",
       "38      3\n",
       "37      2\n",
       "39      1\n",
       "43      1\n",
       "Name: age, dtype: int64"
      ]
     },
     "execution_count": 19,
     "metadata": {},
     "output_type": "execute_result"
    }
   ],
   "source": [
    "users['age'].value_counts()"
   ]
  },
  {
   "cell_type": "code",
   "execution_count": 20,
   "id": "32f7b7b5",
   "metadata": {},
   "outputs": [
    {
     "data": {
      "image/png": "[encoded data removed]",
      "text/plain": [
       "<Figure size 720x432 with 1 Axes>"
      ]
     },
     "metadata": {
      "needs_background": "light"
     },
     "output_type": "display_data"
    }
   ],
   "source": [
    "plt.figure(figsize=(10, 6))\n",
    "users['age'].plot(kind='hist')\n",
    "plt.title('Возраст пользователей')\n",
    "plt.xlabel('Возраст')\n",
    "plt.ylabel('Число пользователей')\n",
    "plt.grid(linestyle='--', alpha=0.7)\n",
    "plt.tight_layout()\n",
    "plt.show()"
   ]
  },
  {
   "cell_type": "code",
   "execution_count": 21,
   "id": "5ea2ba47",
   "metadata": {},
   "outputs": [
    {
     "data": {
      "image/png": "[encoded data removed]",
      "text/plain": [
       "<Figure size 720x432 with 1 Axes>"
      ]
     },
     "metadata": {
      "needs_background": "light"
     },
     "output_type": "display_data"
    }
   ],
   "source": [
    "plt.figure(figsize=(10, 6))\n",
    "users['age'].plot(kind='box')\n",
    "plt.title('Возраст пользователей, размах')\n",
    "plt.grid(linestyle='--', alpha=0.7)\n",
    "plt.tight_layout()\n",
    "plt.show()"
   ]
  },
  {
   "cell_type": "code",
   "execution_count": 22,
   "id": "190f531a",
   "metadata": {},
   "outputs": [
    {
     "data": {
      "text/plain": [
       "count    1534.000000\n",
       "mean       24.903520\n",
       "std         4.572367\n",
       "min        12.000000\n",
       "25%        22.000000\n",
       "50%        25.000000\n",
       "75%        28.000000\n",
       "max        43.000000\n",
       "Name: age, dtype: float64"
      ]
     },
     "execution_count": 22,
     "metadata": {},
     "output_type": "execute_result"
    }
   ],
   "source": [
    "users['age'].describe()"
   ]
  },
  {
   "cell_type": "markdown",
   "id": "521ec585",
   "metadata": {},
   "source": [
    "Большая часть пользователей в возрасте от 22 до 28 лет, есть выбросы. Минимальный возраст 12 лет, максимальный 43."
   ]
  },
  {
   "cell_type": "markdown",
   "id": "deefaf74",
   "metadata": {},
   "source": [
    "4. Расстояние, которое пользователь преодолел за одну поездку."
   ]
  },
  {
   "cell_type": "code",
   "execution_count": 23,
   "id": "f2f97935",
   "metadata": {},
   "outputs": [
    {
     "data": {
      "image/png": "[encoded data removed]",
      "text/plain": [
       "<Figure size 720x432 with 1 Axes>"
      ]
     },
     "metadata": {
      "needs_background": "light"
     },
     "output_type": "display_data"
    }
   ],
   "source": [
    "plt.figure(figsize=(10, 6))\n",
    "rides['distance'].plot(kind='hist', bins =100)\n",
    "plt.title('Расстояние одной поездки')\n",
    "plt.xlabel('Расстояние, метры')\n",
    "plt.ylabel('Количество поездок')\n",
    "plt.grid(linestyle='--', alpha=0.7)\n",
    "plt.tight_layout()\n",
    "plt.show()"
   ]
  },
  {
   "cell_type": "code",
   "execution_count": 24,
   "id": "98cf0e4b",
   "metadata": {},
   "outputs": [
    {
     "data": {
      "image/png": "[encoded data removed]",
      "text/plain": [
       "<Figure size 720x432 with 1 Axes>"
      ]
     },
     "metadata": {
      "needs_background": "light"
     },
     "output_type": "display_data"
    }
   ],
   "source": [
    "plt.figure(figsize=(10, 6))\n",
    "rides['distance'].plot(kind='box', whis = 2)\n",
    "plt.title('Расстояние одной поездки, размах')\n",
    "plt.grid(linestyle='--', alpha=0.7)\n",
    "plt.tight_layout()\n",
    "plt.show()"
   ]
  },
  {
   "cell_type": "code",
   "execution_count": 25,
   "id": "1eae6518",
   "metadata": {},
   "outputs": [
    {
     "data": {
      "text/plain": [
       "count    18068.000000\n",
       "mean      3070.659976\n",
       "std       1116.831209\n",
       "min          0.855683\n",
       "25%       2543.226360\n",
       "50%       3133.609994\n",
       "75%       3776.222735\n",
       "max       7211.007745\n",
       "Name: distance, dtype: float64"
      ]
     },
     "execution_count": 25,
     "metadata": {},
     "output_type": "execute_result"
    }
   ],
   "source": [
    "rides['distance'].describe()"
   ]
  },
  {
   "cell_type": "markdown",
   "id": "641c7f1c",
   "metadata": {},
   "source": [
    "Большая часть поездок от ~2600 до ~3800 метров, есть выбросы. Минимальное расстояние 86 сантиметров, максимальное ~7.2 км."
   ]
  },
  {
   "cell_type": "markdown",
   "id": "b77b82ff",
   "metadata": {},
   "source": [
    "5. Продолжительность поездок"
   ]
  },
  {
   "cell_type": "code",
   "execution_count": 26,
   "id": "be44c0f9",
   "metadata": {},
   "outputs": [
    {
     "data": {
      "image/png": "[encoded data removed]",
      "text/plain": [
       "<Figure size 720x432 with 1 Axes>"
      ]
     },
     "metadata": {
      "needs_background": "light"
     },
     "output_type": "display_data"
    }
   ],
   "source": [
    "plt.figure(figsize=(10, 6))\n",
    "rides['duration'].plot(kind='hist', bins = 20)\n",
    "plt.title('Продолжительность одной поездки')\n",
    "plt.xlabel('Продолжительность, минуты')\n",
    "plt.ylabel('Количество поездок')\n",
    "plt.grid(linestyle='--', alpha=0.7)\n",
    "plt.tight_layout()\n",
    "plt.show()"
   ]
  },
  {
   "cell_type": "code",
   "execution_count": 27,
   "id": "f28c2d03",
   "metadata": {},
   "outputs": [
    {
     "data": {
      "image/png": "[encoded data removed]",
      "text/plain": [
       "<Figure size 720x432 with 1 Axes>"
      ]
     },
     "metadata": {
      "needs_background": "light"
     },
     "output_type": "display_data"
    }
   ],
   "source": [
    "plt.figure(figsize=(10, 6))\n",
    "rides['duration'].plot(kind='box')\n",
    "plt.title('Продолжительность одной поездки, размах')\n",
    "plt.grid(linestyle='--', alpha=0.7)\n",
    "plt.tight_layout()\n",
    "plt.show()"
   ]
  },
  {
   "cell_type": "code",
   "execution_count": 28,
   "id": "b786a833",
   "metadata": {},
   "outputs": [
    {
     "data": {
      "text/plain": [
       "count    18068.000000\n",
       "mean        17.805011\n",
       "std          6.091051\n",
       "min          0.500000\n",
       "25%         13.597563\n",
       "50%         17.678395\n",
       "75%         21.724800\n",
       "max         40.823963\n",
       "Name: duration, dtype: float64"
      ]
     },
     "execution_count": 28,
     "metadata": {},
     "output_type": "execute_result"
    }
   ],
   "source": [
    "rides['duration'].describe()"
   ]
  },
  {
   "cell_type": "markdown",
   "id": "d064ee8f",
   "metadata": {},
   "source": [
    "После визуализации данных о поездках и пользователях мы установили:\n",
    "- больше всего пользователей из Пятигорска, меньше всего из Москвы, распределение нормальное, без выбросов\n",
    "- пользователей без подписки 54%, с подпиской 46%\n",
    "- основная возрастная категоря пользователей от 22 до 28 лет, распределение нормальное, есть незначительное количество выбросов\n",
    "- большая часть поездок от ~2600 до ~3800 метров, распределение нормальное\n",
    "- больше всего поездок в интервале от ~14 до ~22 минут, распределение нормальное. Минимальное время поездки полминуты, максимальное ~41 минуты."
   ]
  },
  {
   "cell_type": "markdown",
   "id": "4ef51331",
   "metadata": {},
   "source": [
    "#### Шаг 4. Объединение данных"
   ]
  },
  {
   "cell_type": "markdown",
   "id": "c68a2126",
   "metadata": {},
   "source": [
    "1. Объединим данные о пользователях, поездках и подписках в один датафрейм. "
   ]
  },
  {
   "cell_type": "code",
   "execution_count": 29,
   "id": "6bf288b5",
   "metadata": {},
   "outputs": [
    {
     "name": "stdout",
     "output_type": "stream",
     "text": [
      "<class 'pandas.core.frame.DataFrame'>\n",
      "Int64Index: 18068 entries, 0 to 18067\n",
      "Data columns (total 12 columns):\n",
      " #   Column             Non-Null Count  Dtype         \n",
      "---  ------             --------------  -----         \n",
      " 0   user_id            18068 non-null  int64         \n",
      " 1   distance           18068 non-null  float64       \n",
      " 2   duration           18068 non-null  float64       \n",
      " 3   date               18068 non-null  datetime64[ns]\n",
      " 4   month              18068 non-null  int64         \n",
      " 5   name               18068 non-null  object        \n",
      " 6   age                18068 non-null  int64         \n",
      " 7   city               18068 non-null  object        \n",
      " 8   subscription_type  18068 non-null  object        \n",
      " 9   minute_price       18068 non-null  int64         \n",
      " 10  start_ride_price   18068 non-null  int64         \n",
      " 11  subscription_fee   18068 non-null  int64         \n",
      "dtypes: datetime64[ns](1), float64(2), int64(6), object(3)\n",
      "memory usage: 1.8+ MB\n"
     ]
    }
   ],
   "source": [
    "merged = pd.merge(rides, users, on='user_id')\n",
    "merged = pd.merge(merged, subs, on='subscription_type')\n",
    "merged.info()"
   ]
  },
  {
   "cell_type": "markdown",
   "id": "d48a18b4",
   "metadata": {},
   "source": [
    "2. Создадим ещё два датафрейма из датафрейма, созданного на предыдущем этапе"
   ]
  },
  {
   "cell_type": "markdown",
   "id": "449bfc9b",
   "metadata": {},
   "source": [
    "- c данными о пользователях без подписки"
   ]
  },
  {
   "cell_type": "code",
   "execution_count": 30,
   "id": "5d53a750",
   "metadata": {},
   "outputs": [
    {
     "data": {
      "text/html": [
       "<div>\n",
       "<style scoped>\n",
       "    .dataframe tbody tr th:only-of-type {\n",
       "        vertical-align: middle;\n",
       "    }\n",
       "\n",
       "    .dataframe tbody tr th {\n",
       "        vertical-align: top;\n",
       "    }\n",
       "\n",
       "    .dataframe thead th {\n",
       "        text-align: right;\n",
       "    }\n",
       "</style>\n",
       "<table border=\"1\" class=\"dataframe\">\n",
       "  <thead>\n",
       "    <tr style=\"text-align: right;\">\n",
       "      <th></th>\n",
       "      <th>user_id</th>\n",
       "      <th>distance</th>\n",
       "      <th>duration</th>\n",
       "      <th>date</th>\n",
       "      <th>month</th>\n",
       "      <th>name</th>\n",
       "      <th>age</th>\n",
       "      <th>city</th>\n",
       "      <th>subscription_type</th>\n",
       "      <th>minute_price</th>\n",
       "      <th>start_ride_price</th>\n",
       "      <th>subscription_fee</th>\n",
       "    </tr>\n",
       "  </thead>\n",
       "  <tbody>\n",
       "    <tr>\n",
       "      <th>6500</th>\n",
       "      <td>700</td>\n",
       "      <td>2515.690719</td>\n",
       "      <td>14.944286</td>\n",
       "      <td>2021-01-02</td>\n",
       "      <td>1</td>\n",
       "      <td>Айдар</td>\n",
       "      <td>22</td>\n",
       "      <td>Омск</td>\n",
       "      <td>free</td>\n",
       "      <td>8</td>\n",
       "      <td>50</td>\n",
       "      <td>0</td>\n",
       "    </tr>\n",
       "    <tr>\n",
       "      <th>6501</th>\n",
       "      <td>700</td>\n",
       "      <td>846.932642</td>\n",
       "      <td>16.234663</td>\n",
       "      <td>2021-02-01</td>\n",
       "      <td>2</td>\n",
       "      <td>Айдар</td>\n",
       "      <td>22</td>\n",
       "      <td>Омск</td>\n",
       "      <td>free</td>\n",
       "      <td>8</td>\n",
       "      <td>50</td>\n",
       "      <td>0</td>\n",
       "    </tr>\n",
       "    <tr>\n",
       "      <th>6502</th>\n",
       "      <td>700</td>\n",
       "      <td>4004.434142</td>\n",
       "      <td>20.016628</td>\n",
       "      <td>2021-02-04</td>\n",
       "      <td>2</td>\n",
       "      <td>Айдар</td>\n",
       "      <td>22</td>\n",
       "      <td>Омск</td>\n",
       "      <td>free</td>\n",
       "      <td>8</td>\n",
       "      <td>50</td>\n",
       "      <td>0</td>\n",
       "    </tr>\n",
       "    <tr>\n",
       "      <th>6503</th>\n",
       "      <td>700</td>\n",
       "      <td>1205.911290</td>\n",
       "      <td>9.782872</td>\n",
       "      <td>2021-02-10</td>\n",
       "      <td>2</td>\n",
       "      <td>Айдар</td>\n",
       "      <td>22</td>\n",
       "      <td>Омск</td>\n",
       "      <td>free</td>\n",
       "      <td>8</td>\n",
       "      <td>50</td>\n",
       "      <td>0</td>\n",
       "    </tr>\n",
       "    <tr>\n",
       "      <th>6504</th>\n",
       "      <td>700</td>\n",
       "      <td>3047.379435</td>\n",
       "      <td>17.427673</td>\n",
       "      <td>2021-02-14</td>\n",
       "      <td>2</td>\n",
       "      <td>Айдар</td>\n",
       "      <td>22</td>\n",
       "      <td>Омск</td>\n",
       "      <td>free</td>\n",
       "      <td>8</td>\n",
       "      <td>50</td>\n",
       "      <td>0</td>\n",
       "    </tr>\n",
       "  </tbody>\n",
       "</table>\n",
       "</div>"
      ],
      "text/plain": [
       "      user_id     distance   duration       date  month   name  age  city  \\\n",
       "6500      700  2515.690719  14.944286 2021-01-02      1  Айдар   22  Омск   \n",
       "6501      700   846.932642  16.234663 2021-02-01      2  Айдар   22  Омск   \n",
       "6502      700  4004.434142  20.016628 2021-02-04      2  Айдар   22  Омск   \n",
       "6503      700  1205.911290   9.782872 2021-02-10      2  Айдар   22  Омск   \n",
       "6504      700  3047.379435  17.427673 2021-02-14      2  Айдар   22  Омск   \n",
       "\n",
       "     subscription_type  minute_price  start_ride_price  subscription_fee  \n",
       "6500              free             8                50                 0  \n",
       "6501              free             8                50                 0  \n",
       "6502              free             8                50                 0  \n",
       "6503              free             8                50                 0  \n",
       "6504              free             8                50                 0  "
      ]
     },
     "execution_count": 30,
     "metadata": {},
     "output_type": "execute_result"
    }
   ],
   "source": [
    "subs_free = merged.loc[merged['subscription_type'] == 'free']\n",
    "subs_free.head()"
   ]
  },
  {
   "cell_type": "markdown",
   "id": "3eeb625c",
   "metadata": {},
   "source": [
    "- с данными о пользователях с подпиской"
   ]
  },
  {
   "cell_type": "code",
   "execution_count": 31,
   "id": "6301f1b4",
   "metadata": {},
   "outputs": [
    {
     "data": {
      "text/html": [
       "<div>\n",
       "<style scoped>\n",
       "    .dataframe tbody tr th:only-of-type {\n",
       "        vertical-align: middle;\n",
       "    }\n",
       "\n",
       "    .dataframe tbody tr th {\n",
       "        vertical-align: top;\n",
       "    }\n",
       "\n",
       "    .dataframe thead th {\n",
       "        text-align: right;\n",
       "    }\n",
       "</style>\n",
       "<table border=\"1\" class=\"dataframe\">\n",
       "  <thead>\n",
       "    <tr style=\"text-align: right;\">\n",
       "      <th></th>\n",
       "      <th>user_id</th>\n",
       "      <th>distance</th>\n",
       "      <th>duration</th>\n",
       "      <th>date</th>\n",
       "      <th>month</th>\n",
       "      <th>name</th>\n",
       "      <th>age</th>\n",
       "      <th>city</th>\n",
       "      <th>subscription_type</th>\n",
       "      <th>minute_price</th>\n",
       "      <th>start_ride_price</th>\n",
       "      <th>subscription_fee</th>\n",
       "    </tr>\n",
       "  </thead>\n",
       "  <tbody>\n",
       "    <tr>\n",
       "      <th>0</th>\n",
       "      <td>1</td>\n",
       "      <td>4409.919140</td>\n",
       "      <td>25.599769</td>\n",
       "      <td>2021-01-01</td>\n",
       "      <td>1</td>\n",
       "      <td>Кира</td>\n",
       "      <td>22</td>\n",
       "      <td>Тюмень</td>\n",
       "      <td>ultra</td>\n",
       "      <td>6</td>\n",
       "      <td>0</td>\n",
       "      <td>199</td>\n",
       "    </tr>\n",
       "    <tr>\n",
       "      <th>1</th>\n",
       "      <td>1</td>\n",
       "      <td>2617.592153</td>\n",
       "      <td>15.816871</td>\n",
       "      <td>2021-01-18</td>\n",
       "      <td>1</td>\n",
       "      <td>Кира</td>\n",
       "      <td>22</td>\n",
       "      <td>Тюмень</td>\n",
       "      <td>ultra</td>\n",
       "      <td>6</td>\n",
       "      <td>0</td>\n",
       "      <td>199</td>\n",
       "    </tr>\n",
       "    <tr>\n",
       "      <th>2</th>\n",
       "      <td>1</td>\n",
       "      <td>754.159807</td>\n",
       "      <td>6.232113</td>\n",
       "      <td>2021-04-20</td>\n",
       "      <td>4</td>\n",
       "      <td>Кира</td>\n",
       "      <td>22</td>\n",
       "      <td>Тюмень</td>\n",
       "      <td>ultra</td>\n",
       "      <td>6</td>\n",
       "      <td>0</td>\n",
       "      <td>199</td>\n",
       "    </tr>\n",
       "    <tr>\n",
       "      <th>3</th>\n",
       "      <td>1</td>\n",
       "      <td>2694.783254</td>\n",
       "      <td>18.511000</td>\n",
       "      <td>2021-08-11</td>\n",
       "      <td>8</td>\n",
       "      <td>Кира</td>\n",
       "      <td>22</td>\n",
       "      <td>Тюмень</td>\n",
       "      <td>ultra</td>\n",
       "      <td>6</td>\n",
       "      <td>0</td>\n",
       "      <td>199</td>\n",
       "    </tr>\n",
       "    <tr>\n",
       "      <th>4</th>\n",
       "      <td>1</td>\n",
       "      <td>4028.687306</td>\n",
       "      <td>26.265803</td>\n",
       "      <td>2021-08-28</td>\n",
       "      <td>8</td>\n",
       "      <td>Кира</td>\n",
       "      <td>22</td>\n",
       "      <td>Тюмень</td>\n",
       "      <td>ultra</td>\n",
       "      <td>6</td>\n",
       "      <td>0</td>\n",
       "      <td>199</td>\n",
       "    </tr>\n",
       "  </tbody>\n",
       "</table>\n",
       "</div>"
      ],
      "text/plain": [
       "   user_id     distance   duration       date  month  name  age    city  \\\n",
       "0        1  4409.919140  25.599769 2021-01-01      1  Кира   22  Тюмень   \n",
       "1        1  2617.592153  15.816871 2021-01-18      1  Кира   22  Тюмень   \n",
       "2        1   754.159807   6.232113 2021-04-20      4  Кира   22  Тюмень   \n",
       "3        1  2694.783254  18.511000 2021-08-11      8  Кира   22  Тюмень   \n",
       "4        1  4028.687306  26.265803 2021-08-28      8  Кира   22  Тюмень   \n",
       "\n",
       "  subscription_type  minute_price  start_ride_price  subscription_fee  \n",
       "0             ultra             6                 0               199  \n",
       "1             ultra             6                 0               199  \n",
       "2             ultra             6                 0               199  \n",
       "3             ultra             6                 0               199  \n",
       "4             ultra             6                 0               199  "
      ]
     },
     "execution_count": 31,
     "metadata": {},
     "output_type": "execute_result"
    }
   ],
   "source": [
    "subs_ultra = merged.loc[merged['subscription_type'] == 'ultra']\n",
    "subs_ultra.head()"
   ]
  },
  {
   "cell_type": "markdown",
   "id": "d596f69b",
   "metadata": {},
   "source": [
    "3. Визуализируем информацию о расстоянии и времени поездок для пользователей обеих категорий"
   ]
  },
  {
   "cell_type": "code",
   "execution_count": 32,
   "id": "d6e7e3c6",
   "metadata": {},
   "outputs": [
    {
     "data": {
      "image/png": "[encoded data removed]",
      "text/plain": [
       "<Figure size 720x432 with 1 Axes>"
      ]
     },
     "metadata": {
      "needs_background": "light"
     },
     "output_type": "display_data"
    },
    {
     "data": {
      "image/png": "[encoded data removed]",
      "text/plain": [
       "<Figure size 720x432 with 1 Axes>"
      ]
     },
     "metadata": {
      "needs_background": "light"
     },
     "output_type": "display_data"
    }
   ],
   "source": [
    "plt.figure(figsize=(10, 6))\n",
    "plt.hist(subs_free['distance'], bins=20, alpha=0.5, label='Без подписки', color='skyblue')\n",
    "plt.hist(subs_ultra['distance'], bins=20, alpha=0.5, label='С подпиской', color='green')\n",
    "plt.title('Распределение расстояния поездок для пользователей')\n",
    "plt.xlabel('Расстояние, м')\n",
    "plt.ylabel('Частота')\n",
    "plt.tight_layout()\n",
    "plt.legend()\n",
    "plt.grid(linestyle='--', alpha=0.7)\n",
    "plt.show()\n",
    "\n",
    "plt.figure(figsize=(10, 6))\n",
    "plt.hist(subs_free['duration'], bins=20, alpha=0.5, label='С подпиской', color='skyblue')\n",
    "plt.hist(subs_ultra['duration'], bins=20, alpha=0.5, label='Без подписки', color='green')\n",
    "plt.title('Распределение времени поездок для пользователей')\n",
    "plt.xlabel('Время, мин')\n",
    "plt.ylabel('Частота')\n",
    "plt.legend()\n",
    "plt.tight_layout()\n",
    "plt.grid(linestyle='--', alpha=0.7)\n",
    "plt.show()"
   ]
  },
  {
   "cell_type": "markdown",
   "id": "beb6ab81",
   "metadata": {},
   "source": [
    "Объединили данные о пользователях, поездках и тарифах в один датафрейм - merged.\n",
    "\n",
    "Создали еще два датафрейма\n",
    "- subs_free - информация о пользователях без подписки\n",
    "- subs_ultra - информация о пользователях с платной подпиской   \n",
    "\n",
    "Визуализировали информацию о расстоянии и времени для пользователей с бесплатной подпиской и платной.   \n",
    "Пользователи без подписки за одну поездку проезжают приблизительно от 2 до 4.5 километров и тратят на это от 10 до 25 минут. Есть поездки меньше и больше, как по дистанции так и по времени   \n",
    "Пользователи с подпиской за одну поездку проезжают приблизительно от 2.5 до 3.5 километров, с временем поездки от 12 до 23 минут\n",
    "Пользователи без подписки ездят дальше и дольше, чем пользователи с подпиской."
   ]
  },
  {
   "cell_type": "markdown",
   "id": "402d620f",
   "metadata": {},
   "source": [
    "#### Шаг 5. Подсчёт выручки"
   ]
  },
  {
   "cell_type": "markdown",
   "id": "244652ef",
   "metadata": {},
   "source": [
    "1. Создадим датафрейм с агрегированными данными о поездках на основе датафрейма с объединёнными данными и найдем суммарное расстояние, количество поездок и суммарное время для каждого пользователя за каждый месяц."
   ]
  },
  {
   "cell_type": "code",
   "execution_count": 33,
   "id": "86254717",
   "metadata": {},
   "outputs": [
    {
     "data": {
      "text/html": [
       "<div>\n",
       "<style scoped>\n",
       "    .dataframe tbody tr th:only-of-type {\n",
       "        vertical-align: middle;\n",
       "    }\n",
       "\n",
       "    .dataframe tbody tr th {\n",
       "        vertical-align: top;\n",
       "    }\n",
       "\n",
       "    .dataframe thead th {\n",
       "        text-align: right;\n",
       "    }\n",
       "</style>\n",
       "<table border=\"1\" class=\"dataframe\">\n",
       "  <thead>\n",
       "    <tr style=\"text-align: right;\">\n",
       "      <th></th>\n",
       "      <th></th>\n",
       "      <th>distance</th>\n",
       "      <th>duration</th>\n",
       "      <th>rides</th>\n",
       "      <th>subscription_type</th>\n",
       "    </tr>\n",
       "    <tr>\n",
       "      <th>user_id</th>\n",
       "      <th>month</th>\n",
       "      <th></th>\n",
       "      <th></th>\n",
       "      <th></th>\n",
       "      <th></th>\n",
       "    </tr>\n",
       "  </thead>\n",
       "  <tbody>\n",
       "    <tr>\n",
       "      <th rowspan=\"5\" valign=\"top\">1</th>\n",
       "      <th>1</th>\n",
       "      <td>7027.511294</td>\n",
       "      <td>41.416640</td>\n",
       "      <td>2</td>\n",
       "      <td>ultra</td>\n",
       "    </tr>\n",
       "    <tr>\n",
       "      <th>4</th>\n",
       "      <td>754.159807</td>\n",
       "      <td>6.232113</td>\n",
       "      <td>1</td>\n",
       "      <td>ultra</td>\n",
       "    </tr>\n",
       "    <tr>\n",
       "      <th>8</th>\n",
       "      <td>6723.470560</td>\n",
       "      <td>44.776802</td>\n",
       "      <td>2</td>\n",
       "      <td>ultra</td>\n",
       "    </tr>\n",
       "    <tr>\n",
       "      <th>10</th>\n",
       "      <td>5809.911100</td>\n",
       "      <td>31.578017</td>\n",
       "      <td>2</td>\n",
       "      <td>ultra</td>\n",
       "    </tr>\n",
       "    <tr>\n",
       "      <th>11</th>\n",
       "      <td>7003.499363</td>\n",
       "      <td>53.397424</td>\n",
       "      <td>3</td>\n",
       "      <td>ultra</td>\n",
       "    </tr>\n",
       "    <tr>\n",
       "      <th>...</th>\n",
       "      <th>...</th>\n",
       "      <td>...</td>\n",
       "      <td>...</td>\n",
       "      <td>...</td>\n",
       "      <td>...</td>\n",
       "    </tr>\n",
       "    <tr>\n",
       "      <th rowspan=\"5\" valign=\"top\">1534</th>\n",
       "      <th>6</th>\n",
       "      <td>3409.468534</td>\n",
       "      <td>24.812678</td>\n",
       "      <td>2</td>\n",
       "      <td>free</td>\n",
       "    </tr>\n",
       "    <tr>\n",
       "      <th>8</th>\n",
       "      <td>7622.453034</td>\n",
       "      <td>47.205960</td>\n",
       "      <td>2</td>\n",
       "      <td>free</td>\n",
       "    </tr>\n",
       "    <tr>\n",
       "      <th>9</th>\n",
       "      <td>4928.173852</td>\n",
       "      <td>22.560373</td>\n",
       "      <td>1</td>\n",
       "      <td>free</td>\n",
       "    </tr>\n",
       "    <tr>\n",
       "      <th>11</th>\n",
       "      <td>13350.015305</td>\n",
       "      <td>76.342174</td>\n",
       "      <td>4</td>\n",
       "      <td>free</td>\n",
       "    </tr>\n",
       "    <tr>\n",
       "      <th>12</th>\n",
       "      <td>2371.711192</td>\n",
       "      <td>15.893917</td>\n",
       "      <td>1</td>\n",
       "      <td>free</td>\n",
       "    </tr>\n",
       "  </tbody>\n",
       "</table>\n",
       "<p>11331 rows × 4 columns</p>\n",
       "</div>"
      ],
      "text/plain": [
       "                   distance   duration  rides subscription_type\n",
       "user_id month                                                  \n",
       "1       1       7027.511294  41.416640      2             ultra\n",
       "        4        754.159807   6.232113      1             ultra\n",
       "        8       6723.470560  44.776802      2             ultra\n",
       "        10      5809.911100  31.578017      2             ultra\n",
       "        11      7003.499363  53.397424      3             ultra\n",
       "...                     ...        ...    ...               ...\n",
       "1534    6       3409.468534  24.812678      2              free\n",
       "        8       7622.453034  47.205960      2              free\n",
       "        9       4928.173852  22.560373      1              free\n",
       "        11     13350.015305  76.342174      4              free\n",
       "        12      2371.711192  15.893917      1              free\n",
       "\n",
       "[11331 rows x 4 columns]"
      ]
     },
     "execution_count": 33,
     "metadata": {},
     "output_type": "execute_result"
    }
   ],
   "source": [
    "agg_merged = pd.pivot_table(merged,\n",
    "                           index=['user_id', 'month'],\n",
    "                           values = ['distance', 'name', 'duration', 'subscription_type'],\n",
    "                           aggfunc = {'distance': sum, \n",
    "                                      'name' : len,\n",
    "                                      'duration' : sum, \n",
    "                                      'subscription_type' : min})\n",
    "agg_merged.rename(columns = {'name' : 'rides'}, inplace = True)\n",
    "agg_merged"
   ]
  },
  {
   "cell_type": "markdown",
   "id": "f085e732",
   "metadata": {},
   "source": [
    "2. Добавим столбец с помесячной выручкой, которую принёс каждый пользователь"
   ]
  },
  {
   "cell_type": "code",
   "execution_count": 34,
   "id": "661c1fd4",
   "metadata": {},
   "outputs": [
    {
     "data": {
      "text/html": [
       "<div>\n",
       "<style scoped>\n",
       "    .dataframe tbody tr th:only-of-type {\n",
       "        vertical-align: middle;\n",
       "    }\n",
       "\n",
       "    .dataframe tbody tr th {\n",
       "        vertical-align: top;\n",
       "    }\n",
       "\n",
       "    .dataframe thead th {\n",
       "        text-align: right;\n",
       "    }\n",
       "</style>\n",
       "<table border=\"1\" class=\"dataframe\">\n",
       "  <thead>\n",
       "    <tr style=\"text-align: right;\">\n",
       "      <th></th>\n",
       "      <th>user_id</th>\n",
       "      <th>distance</th>\n",
       "      <th>duration</th>\n",
       "      <th>date</th>\n",
       "      <th>month</th>\n",
       "      <th>name</th>\n",
       "      <th>age</th>\n",
       "      <th>city</th>\n",
       "      <th>subscription_type</th>\n",
       "      <th>minute_price</th>\n",
       "      <th>start_ride_price</th>\n",
       "      <th>subscription_fee</th>\n",
       "    </tr>\n",
       "  </thead>\n",
       "  <tbody>\n",
       "    <tr>\n",
       "      <th>0</th>\n",
       "      <td>1</td>\n",
       "      <td>4409.919140</td>\n",
       "      <td>26.0</td>\n",
       "      <td>2021-01-01</td>\n",
       "      <td>1</td>\n",
       "      <td>Кира</td>\n",
       "      <td>22</td>\n",
       "      <td>Тюмень</td>\n",
       "      <td>ultra</td>\n",
       "      <td>6</td>\n",
       "      <td>0</td>\n",
       "      <td>199</td>\n",
       "    </tr>\n",
       "    <tr>\n",
       "      <th>1</th>\n",
       "      <td>1</td>\n",
       "      <td>2617.592153</td>\n",
       "      <td>16.0</td>\n",
       "      <td>2021-01-18</td>\n",
       "      <td>1</td>\n",
       "      <td>Кира</td>\n",
       "      <td>22</td>\n",
       "      <td>Тюмень</td>\n",
       "      <td>ultra</td>\n",
       "      <td>6</td>\n",
       "      <td>0</td>\n",
       "      <td>199</td>\n",
       "    </tr>\n",
       "    <tr>\n",
       "      <th>2</th>\n",
       "      <td>1</td>\n",
       "      <td>754.159807</td>\n",
       "      <td>7.0</td>\n",
       "      <td>2021-04-20</td>\n",
       "      <td>4</td>\n",
       "      <td>Кира</td>\n",
       "      <td>22</td>\n",
       "      <td>Тюмень</td>\n",
       "      <td>ultra</td>\n",
       "      <td>6</td>\n",
       "      <td>0</td>\n",
       "      <td>199</td>\n",
       "    </tr>\n",
       "    <tr>\n",
       "      <th>3</th>\n",
       "      <td>1</td>\n",
       "      <td>2694.783254</td>\n",
       "      <td>19.0</td>\n",
       "      <td>2021-08-11</td>\n",
       "      <td>8</td>\n",
       "      <td>Кира</td>\n",
       "      <td>22</td>\n",
       "      <td>Тюмень</td>\n",
       "      <td>ultra</td>\n",
       "      <td>6</td>\n",
       "      <td>0</td>\n",
       "      <td>199</td>\n",
       "    </tr>\n",
       "    <tr>\n",
       "      <th>4</th>\n",
       "      <td>1</td>\n",
       "      <td>4028.687306</td>\n",
       "      <td>27.0</td>\n",
       "      <td>2021-08-28</td>\n",
       "      <td>8</td>\n",
       "      <td>Кира</td>\n",
       "      <td>22</td>\n",
       "      <td>Тюмень</td>\n",
       "      <td>ultra</td>\n",
       "      <td>6</td>\n",
       "      <td>0</td>\n",
       "      <td>199</td>\n",
       "    </tr>\n",
       "    <tr>\n",
       "      <th>...</th>\n",
       "      <td>...</td>\n",
       "      <td>...</td>\n",
       "      <td>...</td>\n",
       "      <td>...</td>\n",
       "      <td>...</td>\n",
       "      <td>...</td>\n",
       "      <td>...</td>\n",
       "      <td>...</td>\n",
       "      <td>...</td>\n",
       "      <td>...</td>\n",
       "      <td>...</td>\n",
       "      <td>...</td>\n",
       "    </tr>\n",
       "    <tr>\n",
       "      <th>18063</th>\n",
       "      <td>1534</td>\n",
       "      <td>3781.098080</td>\n",
       "      <td>20.0</td>\n",
       "      <td>2021-11-04</td>\n",
       "      <td>11</td>\n",
       "      <td>Альберт</td>\n",
       "      <td>25</td>\n",
       "      <td>Краснодар</td>\n",
       "      <td>free</td>\n",
       "      <td>8</td>\n",
       "      <td>50</td>\n",
       "      <td>0</td>\n",
       "    </tr>\n",
       "    <tr>\n",
       "      <th>18064</th>\n",
       "      <td>1534</td>\n",
       "      <td>2840.423057</td>\n",
       "      <td>22.0</td>\n",
       "      <td>2021-11-16</td>\n",
       "      <td>11</td>\n",
       "      <td>Альберт</td>\n",
       "      <td>25</td>\n",
       "      <td>Краснодар</td>\n",
       "      <td>free</td>\n",
       "      <td>8</td>\n",
       "      <td>50</td>\n",
       "      <td>0</td>\n",
       "    </tr>\n",
       "    <tr>\n",
       "      <th>18065</th>\n",
       "      <td>1534</td>\n",
       "      <td>3826.185507</td>\n",
       "      <td>19.0</td>\n",
       "      <td>2021-11-18</td>\n",
       "      <td>11</td>\n",
       "      <td>Альберт</td>\n",
       "      <td>25</td>\n",
       "      <td>Краснодар</td>\n",
       "      <td>free</td>\n",
       "      <td>8</td>\n",
       "      <td>50</td>\n",
       "      <td>0</td>\n",
       "    </tr>\n",
       "    <tr>\n",
       "      <th>18066</th>\n",
       "      <td>1534</td>\n",
       "      <td>2902.308661</td>\n",
       "      <td>17.0</td>\n",
       "      <td>2021-11-27</td>\n",
       "      <td>11</td>\n",
       "      <td>Альберт</td>\n",
       "      <td>25</td>\n",
       "      <td>Краснодар</td>\n",
       "      <td>free</td>\n",
       "      <td>8</td>\n",
       "      <td>50</td>\n",
       "      <td>0</td>\n",
       "    </tr>\n",
       "    <tr>\n",
       "      <th>18067</th>\n",
       "      <td>1534</td>\n",
       "      <td>2371.711192</td>\n",
       "      <td>16.0</td>\n",
       "      <td>2021-12-29</td>\n",
       "      <td>12</td>\n",
       "      <td>Альберт</td>\n",
       "      <td>25</td>\n",
       "      <td>Краснодар</td>\n",
       "      <td>free</td>\n",
       "      <td>8</td>\n",
       "      <td>50</td>\n",
       "      <td>0</td>\n",
       "    </tr>\n",
       "  </tbody>\n",
       "</table>\n",
       "<p>18068 rows × 12 columns</p>\n",
       "</div>"
      ],
      "text/plain": [
       "       user_id     distance  duration       date  month     name  age  \\\n",
       "0            1  4409.919140      26.0 2021-01-01      1     Кира   22   \n",
       "1            1  2617.592153      16.0 2021-01-18      1     Кира   22   \n",
       "2            1   754.159807       7.0 2021-04-20      4     Кира   22   \n",
       "3            1  2694.783254      19.0 2021-08-11      8     Кира   22   \n",
       "4            1  4028.687306      27.0 2021-08-28      8     Кира   22   \n",
       "...        ...          ...       ...        ...    ...      ...  ...   \n",
       "18063     1534  3781.098080      20.0 2021-11-04     11  Альберт   25   \n",
       "18064     1534  2840.423057      22.0 2021-11-16     11  Альберт   25   \n",
       "18065     1534  3826.185507      19.0 2021-11-18     11  Альберт   25   \n",
       "18066     1534  2902.308661      17.0 2021-11-27     11  Альберт   25   \n",
       "18067     1534  2371.711192      16.0 2021-12-29     12  Альберт   25   \n",
       "\n",
       "            city subscription_type  minute_price  start_ride_price  \\\n",
       "0         Тюмень             ultra             6                 0   \n",
       "1         Тюмень             ultra             6                 0   \n",
       "2         Тюмень             ultra             6                 0   \n",
       "3         Тюмень             ultra             6                 0   \n",
       "4         Тюмень             ultra             6                 0   \n",
       "...          ...               ...           ...               ...   \n",
       "18063  Краснодар              free             8                50   \n",
       "18064  Краснодар              free             8                50   \n",
       "18065  Краснодар              free             8                50   \n",
       "18066  Краснодар              free             8                50   \n",
       "18067  Краснодар              free             8                50   \n",
       "\n",
       "       subscription_fee  \n",
       "0                   199  \n",
       "1                   199  \n",
       "2                   199  \n",
       "3                   199  \n",
       "4                   199  \n",
       "...                 ...  \n",
       "18063                 0  \n",
       "18064                 0  \n",
       "18065                 0  \n",
       "18066                 0  \n",
       "18067                 0  \n",
       "\n",
       "[18068 rows x 12 columns]"
      ]
     },
     "execution_count": 34,
     "metadata": {},
     "output_type": "execute_result"
    }
   ],
   "source": [
    "# округлим продолжительность поездок до целого числа\n",
    "merged['duration'] = np.ceil(merged['duration'])\n",
    "merged"
   ]
  },
  {
   "cell_type": "markdown",
   "id": "3322ae01",
   "metadata": {},
   "source": [
    "Добавим выручку от каждой поездки"
   ]
  },
  {
   "cell_type": "code",
   "execution_count": 35,
   "id": "e64cd273",
   "metadata": {},
   "outputs": [],
   "source": [
    "merged['income'] = merged.apply(\n",
    "    lambda row: row['start_ride_price'] +\n",
    "    row['minute_price'] * row['duration'],\n",
    "    axis=1\n",
    ")"
   ]
  },
  {
   "cell_type": "code",
   "execution_count": 36,
   "id": "dfa29b96",
   "metadata": {},
   "outputs": [
    {
     "data": {
      "text/html": [
       "<div>\n",
       "<style scoped>\n",
       "    .dataframe tbody tr th:only-of-type {\n",
       "        vertical-align: middle;\n",
       "    }\n",
       "\n",
       "    .dataframe tbody tr th {\n",
       "        vertical-align: top;\n",
       "    }\n",
       "\n",
       "    .dataframe thead th {\n",
       "        text-align: right;\n",
       "    }\n",
       "</style>\n",
       "<table border=\"1\" class=\"dataframe\">\n",
       "  <thead>\n",
       "    <tr style=\"text-align: right;\">\n",
       "      <th></th>\n",
       "      <th></th>\n",
       "      <th>distance</th>\n",
       "      <th>duration</th>\n",
       "      <th>rides</th>\n",
       "      <th>subscription_type</th>\n",
       "      <th>income</th>\n",
       "    </tr>\n",
       "    <tr>\n",
       "      <th>user_id</th>\n",
       "      <th>month</th>\n",
       "      <th></th>\n",
       "      <th></th>\n",
       "      <th></th>\n",
       "      <th></th>\n",
       "      <th></th>\n",
       "    </tr>\n",
       "  </thead>\n",
       "  <tbody>\n",
       "    <tr>\n",
       "      <th rowspan=\"5\" valign=\"top\">1</th>\n",
       "      <th>1</th>\n",
       "      <td>7027.511294</td>\n",
       "      <td>41.416640</td>\n",
       "      <td>2</td>\n",
       "      <td>ultra</td>\n",
       "      <td>451.0</td>\n",
       "    </tr>\n",
       "    <tr>\n",
       "      <th>4</th>\n",
       "      <td>754.159807</td>\n",
       "      <td>6.232113</td>\n",
       "      <td>1</td>\n",
       "      <td>ultra</td>\n",
       "      <td>241.0</td>\n",
       "    </tr>\n",
       "    <tr>\n",
       "      <th>8</th>\n",
       "      <td>6723.470560</td>\n",
       "      <td>44.776802</td>\n",
       "      <td>2</td>\n",
       "      <td>ultra</td>\n",
       "      <td>475.0</td>\n",
       "    </tr>\n",
       "    <tr>\n",
       "      <th>10</th>\n",
       "      <td>5809.911100</td>\n",
       "      <td>31.578017</td>\n",
       "      <td>2</td>\n",
       "      <td>ultra</td>\n",
       "      <td>391.0</td>\n",
       "    </tr>\n",
       "    <tr>\n",
       "      <th>11</th>\n",
       "      <td>7003.499363</td>\n",
       "      <td>53.397424</td>\n",
       "      <td>3</td>\n",
       "      <td>ultra</td>\n",
       "      <td>535.0</td>\n",
       "    </tr>\n",
       "  </tbody>\n",
       "</table>\n",
       "</div>"
      ],
      "text/plain": [
       "                  distance   duration  rides subscription_type  income\n",
       "user_id month                                                         \n",
       "1       1      7027.511294  41.416640      2             ultra   451.0\n",
       "        4       754.159807   6.232113      1             ultra   241.0\n",
       "        8      6723.470560  44.776802      2             ultra   475.0\n",
       "        10     5809.911100  31.578017      2             ultra   391.0\n",
       "        11     7003.499363  53.397424      3             ultra   535.0"
      ]
     },
     "execution_count": 36,
     "metadata": {},
     "output_type": "execute_result"
    }
   ],
   "source": [
    "agg_income = pd.pivot_table(merged,\n",
    "                            index=['user_id', 'month'],\n",
    "                            values=['income'],\n",
    "                            aggfunc={'income': sum})\n",
    "\n",
    "agg_merged['income'] = agg_income['income']\n",
    "agg_merged.loc[agg_merged['subscription_type'] == 'ultra', 'income'] += 199\n",
    "agg_merged.head()"
   ]
  },
  {
   "cell_type": "markdown",
   "id": "41545ac0",
   "metadata": {},
   "source": [
    "#### Шаг 6. Проверка гипотез"
   ]
  },
  {
   "cell_type": "markdown",
   "id": "bf0328bb",
   "metadata": {},
   "source": [
    "1. Тратят ли пользователи с подпиской больше времени на поездки? \n",
    "\n",
    "Проверим гипотезу: пользователи с подпиской тратят больше времени на поездки, чем пользователи без подписки.\n",
    "\n",
    "H_0: Время duration пользователей на подписке ultra = время duration пользователей на подписке free\n",
    "\n",
    "H_1: Время duration пользователей на подписке ultra > время duration пользователей на подписке free\n",
    "\n",
    "alpha = 0.05"
   ]
  },
  {
   "cell_type": "code",
   "execution_count": 37,
   "id": "7cae26dd",
   "metadata": {},
   "outputs": [
    {
     "name": "stdout",
     "output_type": "stream",
     "text": [
      "1.2804098316645618e-34\n",
      "Отвергаем нулевую гипотезу\n"
     ]
    }
   ],
   "source": [
    "ultra = subs_ultra['duration'] \n",
    "\n",
    "free = subs_free['duration']\n",
    "\n",
    "results = st.ttest_ind(\n",
    "    ultra,\n",
    "    free,\n",
    "    alternative = 'greater'\n",
    ")\n",
    "\n",
    "alpha = 0.05\n",
    "\n",
    "print(results.pvalue)\n",
    "\n",
    "if results.pvalue > alpha:\n",
    "    print('Не удалось отвергнуть нулевую гипотезу')\n",
    "else:\n",
    "    print('Отвергаем нулевую гипотезу')"
   ]
  },
  {
   "cell_type": "markdown",
   "id": "14d8926b",
   "metadata": {},
   "source": [
    "2. Расстояние одной поездки в 3130 метров — оптимальное с точки зрения износа самоката.\n",
    "\n",
    "Проверим гипотезу: расстояние, которое проезжают пользователи с подпиской за одну поездку, не превышает 3130 метров.\n",
    "\n",
    "H_0: Расстояние пользователей c подпиской = 3130 метров\n",
    "\n",
    "H_1: Расстояние пользователей c подпиской > 3130 метров\n",
    "\n",
    "alpha = 0.05"
   ]
  },
  {
   "cell_type": "code",
   "execution_count": 38,
   "id": "23ea867b",
   "metadata": {},
   "outputs": [
    {
     "name": "stdout",
     "output_type": "stream",
     "text": [
      "0.9195368847849785\n",
      "Не удалось отвергнуть нулевую гипотезу\n"
     ]
    }
   ],
   "source": [
    "ultra_distance = subs_ultra['distance'] \n",
    "\n",
    "target_distance = 3130\n",
    "\n",
    "alpha = 0.05\n",
    "\n",
    "results = st.ttest_1samp(\n",
    "    ultra_distance, \n",
    "    target_distance,\n",
    "    alternative='greater'\n",
    ")\n",
    "\n",
    "print(results.pvalue)\n",
    "\n",
    "if results.pvalue > alpha:\n",
    "    print('Не удалось отвергнуть нулевую гипотезу')\n",
    "else:\n",
    "    print('Отвергаем нулевую гипотезу')"
   ]
  },
  {
   "cell_type": "markdown",
   "id": "9a273e15",
   "metadata": {},
   "source": [
    "Не удалось отвергнуть нулевую гипотезу. Мы можем утверждать, что расстояние, которое проехали пользователи на тарифе ultra, не превышает 3130 метров."
   ]
  },
  {
   "cell_type": "markdown",
   "id": "888558b4",
   "metadata": {},
   "source": [
    "3. Помесячная выручка от пользователей с подпиской по месяцам выше, чем выручка от пользователей без подписки\n",
    "\n",
    "Проверим гипотезу:\n",
    "\n",
    "H_0: Выручка от пользователей с подпиской = выручке пользователей без подписки\n",
    "\n",
    "H_1: Выручка от пользователей с подпиской > выручке пользователей без подписки\n",
    "\n",
    "alpha = 0.05"
   ]
  },
  {
   "cell_type": "code",
   "execution_count": 39,
   "id": "2d79f646",
   "metadata": {},
   "outputs": [
    {
     "name": "stdout",
     "output_type": "stream",
     "text": [
      "1.8850394384715216e-31\n",
      "Отвергаем нулевую гипотезу\n"
     ]
    }
   ],
   "source": [
    "income_ultra = agg_merged.loc[agg_merged['subscription_type'] == 'ultra', 'income']\n",
    "\n",
    "income_free = agg_merged.loc[agg_merged['subscription_type'] == 'free', 'income']\n",
    "\n",
    "results = st.ttest_ind(\n",
    "    income_ultra,\n",
    "    income_free,\n",
    "    alternative = 'greater'\n",
    ")\n",
    "\n",
    "alpha = 0.05\n",
    "\n",
    "print(results.pvalue)\n",
    "\n",
    "if results.pvalue > alpha:\n",
    "    print('Не удалось отвергнуть нулевую гипотезу')\n",
    "else:\n",
    "    print('Отвергаем нулевую гипотезу')"
   ]
  },
  {
   "cell_type": "markdown",
   "id": "087020ce",
   "metadata": {},
   "source": [
    "Отвергаем нулевую гипотезу - можем утверждать, что выручка от пользователей с подпиской по месяцам выше, чем выручка от пользователей без подписки"
   ]
  },
  {
   "cell_type": "markdown",
   "id": "4951fc94",
   "metadata": {},
   "source": [
    "4. Предлагаю использовать гипотезу о равенстве средних для зависимых выборок.\n",
    "\n",
    "Формулировка:\n",
    "\n",
    "H0 : μ1 = μ2   \n",
    "H1 : μ1 != μ2   \n",
    "μ1 и μ2 - средние значения количества обращений в техподдержку до и после изменения.\n",
    "\n",
    "Метод, который необходимо использовать при сравнении - scipy.stats.ttest_rel"
   ]
  },
  {
   "cell_type": "markdown",
   "id": "a216350d",
   "metadata": {},
   "source": [
    "### Выводы\n",
    "Нам передали данные популярного сервиса аренды самокатов GoFast о некоторых пользователях из нескольких городов, а также об их поездках. Необходимо проанализировать данные и проверьте некоторые гипотезы, которые могут помочь бизнесу вырасти.   \n",
    "Чтобы совершать поездки по городу, пользователи сервиса GoFast пользуются мобильным приложением. Сервисом можно пользоваться:\n",
    "- без подписки\n",
    "    - абонентская плата отсутствует;\n",
    "    - стоимость одной минуты поездки — 8 рублей;\n",
    "    - стоимость старта (начала поездки) — 50 рублей;\n",
    "- с подпиской Ultra\n",
    "    - абонентская плата — 199 рублей в месяц;\n",
    "    - стоимость одной минуты поездки — 6 рублей;\n",
    "    - стоимость старта — бесплатно.\n",
    "    \n",
    "**Описание данных**\n",
    "В основных данных есть информация о пользователях, их поездках и подписках.   \n",
    "\n",
    "**Пользователи — users_go.csv** \n",
    "- **user_id** - уникальный идентификатор пользователя\n",
    "- **name** - имя пользователя\n",
    "- **age** - возраст\n",
    "- **city** - город\n",
    "- **subscription_type** - тип подписки (free, ultra)\n",
    "\n",
    "**Поездки — rides_go.csv**   \n",
    "- **user_id** - уникальный идентификатор пользователя\n",
    "- **distance** - расстояние, которое пользователь проехал в текущей сессии (в метрах)\n",
    "- **duration** - продолжительность сессии (в минутах) — время с того момента, как пользователь нажал кнопку «Начать поездку» до момента, как он нажал кнопку «Завершить поездку»\n",
    "- **date** - дата совершения поездки\n",
    "\n",
    "**Подписки — subscriptions_go.csv**\n",
    "- **subscription_type** - тип подписки\n",
    "- **minute_price** - стоимость одной минуты поездки по данной подписке\n",
    "- **start_ride_price** - стоимость начала поездки\n",
    "- **subscription_fee** - стоимость ежемесячного платежа\n",
    "\n",
    "**1.Шаг загрузка и изучение:**   \n",
    "Пользователи   содержит 5 столбцов и 1565 строк   \n",
    "Поездки   содержит 4 столбца и 18068 строк   \n",
    "Подписки   содержит 4 столбца и 2 строки   \n",
    "Пропусков в данных нет, проверку дубликатов и изменение формата даты произведем на этапе предобработки далее.\n",
    "\n",
    "**2.Шаг предобработка:**   \n",
    "На данном этапе\n",
    "- привели столбец дата к формату pandas date\n",
    "- вывели номер месяца в отдельный столбец\n",
    "- убедились в отсутствии пропусков\n",
    "- нашли и обработали (удалили) повторения\n",
    "\n",
    "**3.Шаг визуализация:**   \n",
    "После визуализации данных о поездках и пользователях мы установили:\n",
    "- больше всего пользователей из Пятигорска, меньше всего из Москвы, распределение нормальное, без выбросов\n",
    "- пользователей без подписки 54%, с подпиской 46%\n",
    "- основная возрастная категоря пользователей от 22 до 28 лет, распределение нормальное, есть незначительное количество выбросов\n",
    "- большая часть поездок от ~2600 до ~3800 метров, распределение нормальное\n",
    "- больше всего поездок в интервале от ~14 до ~22 минут, распределение нормальное\n",
    "\n",
    "**4.Шаг объединение:**   \n",
    "Объединили данные о пользователях, поездках и тарифах в один датафрейм - merged.\n",
    "\n",
    "Создали еще два датафрейма\n",
    "- subs_free - информация о пользователях без подписки\n",
    "- subs_ultra - информация о пользователях с платной подпиской   \n",
    "\n",
    "Визуализировали информацию о расстоянии и времени для пользователей с бесплатной подпиской и платной.   \n",
    "Пользователи без подписки за одну поездку проезжают приблизительно от 2 до 4.5 километров и тратят на это от 10 до 25 минут. Есть поездки меньше и больше, как по дистанции так и по времени   \n",
    "Пользователи с подпиской за одну поездку проезжают приблизительно от 2.5 до 3.5 километров, с временем поездки от 12 до 23 минут\n",
    "Пользователи без подписки ездят дальше и дольше, чем пользователи с подпиской.\n",
    "\n",
    "**5.Шаг подсчет выручки:**   \n",
    "Создали датафрейм с агрегированными данными о поездках на основе датафрейма с объединёнными данными и найдем суммарное расстояние, количество поездок и суммарное время для каждого пользователя за каждый месяц.   \n",
    "Добавили столбец с помесячной выручкой, которую принёс каждый пользователь\n",
    "\n",
    "**6.Шаг проверка гипотез:**\n",
    "- пользователи с подпиской тратят больше времени на поездки, чем пользователи без подписки. - Отвергли нулевую гипотезу\n",
    "- расстояние, которое проезжают пользователи с подпиской за одну поездку, не превышает 3130 метров - Не удалось отвергнуть нулевую гипотезу\n",
    "- помесячная выручка от пользователей с подпиской по месяцам выше, чем выручка от пользователей без подписки - Отвергли нулевую гипотезу"
   ]
  }
 ],
 "metadata": {
  "ExecuteTimeLog": [
   {
    "duration": 408,
    "start_time": "2024-03-05T08:57:07.493Z"
   },
   {
    "duration": 289,
    "start_time": "2024-03-05T08:57:08.607Z"
   },
   {
    "duration": 15,
    "start_time": "2024-03-05T08:57:09.720Z"
   },
   {
    "duration": 11,
    "start_time": "2024-03-05T08:57:11.601Z"
   },
   {
    "duration": 10,
    "start_time": "2024-03-05T08:57:12.242Z"
   },
   {
    "duration": 3,
    "start_time": "2024-03-05T08:58:54.901Z"
   },
   {
    "duration": 68,
    "start_time": "2024-03-05T08:58:55.662Z"
   },
   {
    "duration": 9,
    "start_time": "2024-03-05T08:58:56.164Z"
   },
   {
    "duration": 11,
    "start_time": "2024-03-05T08:58:57.051Z"
   },
   {
    "duration": 9,
    "start_time": "2024-03-05T08:58:58.200Z"
   },
   {
    "duration": 14,
    "start_time": "2024-03-05T08:58:58.998Z"
   },
   {
    "duration": 8,
    "start_time": "2024-03-05T08:59:00.581Z"
   },
   {
    "duration": 10,
    "start_time": "2024-03-05T08:59:01.681Z"
   },
   {
    "duration": 3,
    "start_time": "2024-03-05T09:23:28.858Z"
   },
   {
    "duration": 67,
    "start_time": "2024-03-05T09:23:29.854Z"
   },
   {
    "duration": 9,
    "start_time": "2024-03-05T09:23:30.472Z"
   },
   {
    "duration": 11,
    "start_time": "2024-03-05T09:23:31.140Z"
   },
   {
    "duration": 7,
    "start_time": "2024-03-05T09:23:31.902Z"
   },
   {
    "duration": 11,
    "start_time": "2024-03-05T09:23:32.772Z"
   },
   {
    "duration": 7,
    "start_time": "2024-03-05T09:23:33.587Z"
   },
   {
    "duration": 10,
    "start_time": "2024-03-05T09:23:36.504Z"
   },
   {
    "duration": 67,
    "start_time": "2024-03-05T09:23:43.504Z"
   },
   {
    "duration": 17,
    "start_time": "2024-03-05T09:23:52.149Z"
   },
   {
    "duration": 55,
    "start_time": "2024-03-05T09:24:05.069Z"
   },
   {
    "duration": 13,
    "start_time": "2024-03-05T09:26:39.823Z"
   },
   {
    "duration": 6,
    "start_time": "2024-03-05T09:26:42.175Z"
   },
   {
    "duration": 10,
    "start_time": "2024-03-05T09:26:54.923Z"
   },
   {
    "duration": 7,
    "start_time": "2024-03-05T09:29:01.652Z"
   },
   {
    "duration": 6,
    "start_time": "2024-03-05T09:29:56.358Z"
   },
   {
    "duration": 5,
    "start_time": "2024-03-05T09:33:37.298Z"
   },
   {
    "duration": 8,
    "start_time": "2024-03-05T09:33:56.868Z"
   },
   {
    "duration": 12,
    "start_time": "2024-03-05T09:34:58.660Z"
   },
   {
    "duration": 5,
    "start_time": "2024-03-05T09:35:34.237Z"
   },
   {
    "duration": 13,
    "start_time": "2024-03-05T09:35:42.531Z"
   },
   {
    "duration": 6,
    "start_time": "2024-03-05T09:35:43.594Z"
   },
   {
    "duration": 7,
    "start_time": "2024-03-05T09:35:44.831Z"
   },
   {
    "duration": 9,
    "start_time": "2024-03-05T09:35:45.541Z"
   },
   {
    "duration": 5,
    "start_time": "2024-03-05T09:35:46.363Z"
   },
   {
    "duration": 14,
    "start_time": "2024-03-05T09:37:59.119Z"
   },
   {
    "duration": 11,
    "start_time": "2024-03-05T09:39:04.146Z"
   },
   {
    "duration": 12,
    "start_time": "2024-03-05T09:39:09.663Z"
   },
   {
    "duration": 14,
    "start_time": "2024-03-05T09:39:22.297Z"
   },
   {
    "duration": 14,
    "start_time": "2024-03-05T09:39:30.282Z"
   },
   {
    "duration": 13,
    "start_time": "2024-03-05T09:39:39.580Z"
   },
   {
    "duration": 33,
    "start_time": "2024-03-05T09:41:19.984Z"
   },
   {
    "duration": 6,
    "start_time": "2024-03-05T09:41:39.182Z"
   },
   {
    "duration": 14,
    "start_time": "2024-03-05T09:42:54.900Z"
   },
   {
    "duration": 8,
    "start_time": "2024-03-05T09:43:16.443Z"
   },
   {
    "duration": 7,
    "start_time": "2024-03-05T09:49:01.870Z"
   },
   {
    "duration": 406,
    "start_time": "2024-03-05T09:50:36.728Z"
   },
   {
    "duration": 23,
    "start_time": "2024-03-05T09:51:32.823Z"
   },
   {
    "duration": 7,
    "start_time": "2024-03-05T09:52:25.748Z"
   },
   {
    "duration": 411,
    "start_time": "2024-03-05T09:52:28.848Z"
   },
   {
    "duration": 292,
    "start_time": "2024-03-05T10:00:26.365Z"
   },
   {
    "duration": 309,
    "start_time": "2024-03-05T10:00:40.633Z"
   },
   {
    "duration": 299,
    "start_time": "2024-03-05T10:00:56.631Z"
   },
   {
    "duration": 283,
    "start_time": "2024-03-05T10:01:03.058Z"
   },
   {
    "duration": 293,
    "start_time": "2024-03-05T10:01:10.026Z"
   },
   {
    "duration": 283,
    "start_time": "2024-03-05T10:01:17.254Z"
   },
   {
    "duration": 6,
    "start_time": "2024-03-05T10:02:19.590Z"
   },
   {
    "duration": 313,
    "start_time": "2024-03-05T10:02:43.717Z"
   },
   {
    "duration": 284,
    "start_time": "2024-03-05T10:03:01.258Z"
   },
   {
    "duration": 252,
    "start_time": "2024-03-05T10:03:15.194Z"
   },
   {
    "duration": 1627,
    "start_time": "2024-03-05T10:37:22.848Z"
   },
   {
    "duration": 7,
    "start_time": "2024-03-05T10:37:29.760Z"
   },
   {
    "duration": 1571,
    "start_time": "2024-03-05T10:37:51.358Z"
   },
   {
    "duration": 5,
    "start_time": "2024-03-05T10:38:08.962Z"
   },
   {
    "duration": 182,
    "start_time": "2024-03-05T10:39:45.863Z"
   },
   {
    "duration": 86,
    "start_time": "2024-03-05T10:41:07.822Z"
   },
   {
    "duration": 13,
    "start_time": "2024-03-05T10:42:44.109Z"
   },
   {
    "duration": 89,
    "start_time": "2024-03-05T10:43:11.639Z"
   },
   {
    "duration": 95,
    "start_time": "2024-03-05T10:43:19.386Z"
   },
   {
    "duration": 89,
    "start_time": "2024-03-05T10:43:32.932Z"
   },
   {
    "duration": 88,
    "start_time": "2024-03-05T10:43:40.399Z"
   },
   {
    "duration": 121,
    "start_time": "2024-03-05T10:43:51.330Z"
   },
   {
    "duration": 118,
    "start_time": "2024-03-05T10:45:01.735Z"
   },
   {
    "duration": 131,
    "start_time": "2024-03-05T10:45:10.080Z"
   },
   {
    "duration": 109,
    "start_time": "2024-03-05T10:46:14.541Z"
   },
   {
    "duration": 116,
    "start_time": "2024-03-05T10:46:20.462Z"
   },
   {
    "duration": 95,
    "start_time": "2024-03-05T10:46:29.369Z"
   },
   {
    "duration": 170,
    "start_time": "2024-03-05T10:46:36.544Z"
   },
   {
    "duration": 92,
    "start_time": "2024-03-05T10:47:16.006Z"
   },
   {
    "duration": 12,
    "start_time": "2024-03-05T10:48:57.450Z"
   },
   {
    "duration": 6,
    "start_time": "2024-03-05T10:49:34.081Z"
   },
   {
    "duration": 299,
    "start_time": "2024-03-05T10:50:59.567Z"
   },
   {
    "duration": 99,
    "start_time": "2024-03-05T10:52:10.734Z"
   },
   {
    "duration": 297,
    "start_time": "2024-03-05T10:52:17.368Z"
   },
   {
    "duration": 304,
    "start_time": "2024-03-05T10:52:46.693Z"
   },
   {
    "duration": 336,
    "start_time": "2024-03-05T10:52:55.114Z"
   },
   {
    "duration": 277,
    "start_time": "2024-03-05T10:56:10.045Z"
   },
   {
    "duration": 349,
    "start_time": "2024-03-05T10:56:26.995Z"
   },
   {
    "duration": 418,
    "start_time": "2024-03-05T10:57:38.226Z"
   },
   {
    "duration": 356,
    "start_time": "2024-03-05T10:57:49.837Z"
   },
   {
    "duration": 383,
    "start_time": "2024-03-05T10:57:57.184Z"
   },
   {
    "duration": 285,
    "start_time": "2024-03-05T10:58:04.676Z"
   },
   {
    "duration": 333,
    "start_time": "2024-03-05T10:58:12.610Z"
   },
   {
    "duration": 321,
    "start_time": "2024-03-05T10:58:26.988Z"
   },
   {
    "duration": 8,
    "start_time": "2024-03-05T10:59:49.251Z"
   },
   {
    "duration": 291,
    "start_time": "2024-03-05T11:03:56.070Z"
   },
   {
    "duration": 324,
    "start_time": "2024-03-05T11:04:07.985Z"
   },
   {
    "duration": 381,
    "start_time": "2024-03-05T11:04:19.352Z"
   },
   {
    "duration": 416,
    "start_time": "2024-03-05T11:04:38.622Z"
   },
   {
    "duration": 407,
    "start_time": "2024-03-05T11:05:21.768Z"
   },
   {
    "duration": 506,
    "start_time": "2024-03-05T11:08:08.400Z"
   },
   {
    "duration": 369,
    "start_time": "2024-03-05T11:08:17.566Z"
   },
   {
    "duration": 399,
    "start_time": "2024-03-05T11:10:27.790Z"
   },
   {
    "duration": 410,
    "start_time": "2024-03-05T11:10:30.892Z"
   },
   {
    "duration": 512,
    "start_time": "2024-03-05T11:10:40.768Z"
   },
   {
    "duration": 492,
    "start_time": "2024-03-05T11:10:49.747Z"
   },
   {
    "duration": 300,
    "start_time": "2024-03-05T11:14:09.198Z"
   },
   {
    "duration": 393,
    "start_time": "2024-03-05T11:14:48.692Z"
   },
   {
    "duration": 450,
    "start_time": "2024-03-05T11:15:26.241Z"
   },
   {
    "duration": 259,
    "start_time": "2024-03-05T11:16:23.867Z"
   },
   {
    "duration": 129,
    "start_time": "2024-03-05T11:17:49.791Z"
   },
   {
    "duration": 337,
    "start_time": "2024-03-05T11:18:00.115Z"
   },
   {
    "duration": 148,
    "start_time": "2024-03-05T11:18:25.705Z"
   },
   {
    "duration": 244,
    "start_time": "2024-03-05T11:18:51.395Z"
   },
   {
    "duration": 139,
    "start_time": "2024-03-05T11:19:01.408Z"
   },
   {
    "duration": 298,
    "start_time": "2024-03-05T11:19:08.930Z"
   },
   {
    "duration": 426,
    "start_time": "2024-03-05T11:20:48.502Z"
   },
   {
    "duration": 597,
    "start_time": "2024-03-05T11:21:04.768Z"
   },
   {
    "duration": 300,
    "start_time": "2024-03-05T11:24:48.485Z"
   },
   {
    "duration": 277,
    "start_time": "2024-03-05T11:24:55.707Z"
   },
   {
    "duration": 289,
    "start_time": "2024-03-05T11:25:04.253Z"
   },
   {
    "duration": 278,
    "start_time": "2024-03-05T11:25:31.365Z"
   },
   {
    "duration": 286,
    "start_time": "2024-03-05T11:27:00.494Z"
   },
   {
    "duration": 273,
    "start_time": "2024-03-05T11:27:22.115Z"
   },
   {
    "duration": 244,
    "start_time": "2024-03-05T11:27:32.672Z"
   },
   {
    "duration": 118,
    "start_time": "2024-03-05T11:27:39.348Z"
   },
   {
    "duration": 221,
    "start_time": "2024-03-05T11:27:55.102Z"
   },
   {
    "duration": 276,
    "start_time": "2024-03-05T11:28:29.639Z"
   },
   {
    "duration": 326,
    "start_time": "2024-03-05T11:28:46.701Z"
   },
   {
    "duration": 15,
    "start_time": "2024-03-05T11:35:57.860Z"
   },
   {
    "duration": 21,
    "start_time": "2024-03-05T11:36:05.737Z"
   },
   {
    "duration": 18,
    "start_time": "2024-03-05T11:36:15.679Z"
   },
   {
    "duration": 18,
    "start_time": "2024-03-05T11:36:28.913Z"
   },
   {
    "duration": 19,
    "start_time": "2024-03-05T11:36:36.499Z"
   },
   {
    "duration": 24,
    "start_time": "2024-03-05T11:39:01.660Z"
   },
   {
    "duration": 28,
    "start_time": "2024-03-05T11:43:00.594Z"
   },
   {
    "duration": 26,
    "start_time": "2024-03-05T11:44:29.575Z"
   },
   {
    "duration": 17,
    "start_time": "2024-03-05T11:46:40.978Z"
   },
   {
    "duration": 22,
    "start_time": "2024-03-05T11:47:24.628Z"
   },
   {
    "duration": 260,
    "start_time": "2024-03-05T11:50:20.920Z"
   },
   {
    "duration": 255,
    "start_time": "2024-03-05T11:50:34.497Z"
   },
   {
    "duration": 254,
    "start_time": "2024-03-05T11:50:50.286Z"
   },
   {
    "duration": 293,
    "start_time": "2024-03-05T11:50:58.396Z"
   },
   {
    "duration": 423,
    "start_time": "2024-03-05T11:51:36.039Z"
   },
   {
    "duration": 644,
    "start_time": "2024-03-05T11:52:27.063Z"
   },
   {
    "duration": 856,
    "start_time": "2024-03-05T11:52:38.112Z"
   },
   {
    "duration": 931,
    "start_time": "2024-03-05T11:52:59.237Z"
   },
   {
    "duration": 901,
    "start_time": "2024-03-05T11:53:37.456Z"
   },
   {
    "duration": 873,
    "start_time": "2024-03-05T11:53:44.478Z"
   },
   {
    "duration": 4,
    "start_time": "2024-03-05T12:30:48.213Z"
   },
   {
    "duration": 10,
    "start_time": "2024-03-05T12:32:12.005Z"
   },
   {
    "duration": 16,
    "start_time": "2024-03-05T12:32:30.006Z"
   },
   {
    "duration": 904,
    "start_time": "2024-03-05T12:32:44.214Z"
   },
   {
    "duration": 927,
    "start_time": "2024-03-05T12:32:51.566Z"
   },
   {
    "duration": 940,
    "start_time": "2024-03-05T12:34:40.829Z"
   },
   {
    "duration": 906,
    "start_time": "2024-03-05T12:34:58.493Z"
   },
   {
    "duration": 948,
    "start_time": "2024-03-05T12:37:38.155Z"
   },
   {
    "duration": 866,
    "start_time": "2024-03-05T12:38:02.202Z"
   },
   {
    "duration": 4,
    "start_time": "2024-03-05T12:41:03.105Z"
   },
   {
    "duration": 16,
    "start_time": "2024-03-05T12:41:15.881Z"
   },
   {
    "duration": 1652,
    "start_time": "2024-03-05T12:47:11.400Z"
   },
   {
    "duration": 389,
    "start_time": "2024-03-05T12:48:57.237Z"
   },
   {
    "duration": 24,
    "start_time": "2024-03-05T12:50:18.628Z"
   },
   {
    "duration": 28,
    "start_time": "2024-03-05T12:58:06.181Z"
   },
   {
    "duration": 257,
    "start_time": "2024-03-05T13:00:17.282Z"
   },
   {
    "duration": 33,
    "start_time": "2024-03-05T13:03:08.875Z"
   },
   {
    "duration": 29,
    "start_time": "2024-03-05T13:03:18.573Z"
   },
   {
    "duration": 46,
    "start_time": "2024-03-05T13:03:24.647Z"
   },
   {
    "duration": 30,
    "start_time": "2024-03-05T13:05:47.337Z"
   },
   {
    "duration": 30,
    "start_time": "2024-03-05T13:06:00.413Z"
   },
   {
    "duration": 28,
    "start_time": "2024-03-05T13:06:09.348Z"
   },
   {
    "duration": 10,
    "start_time": "2024-03-05T13:11:14.602Z"
   },
   {
    "duration": 511,
    "start_time": "2024-03-05T13:12:06.456Z"
   },
   {
    "duration": 5,
    "start_time": "2024-03-05T13:12:16.445Z"
   },
   {
    "duration": 6,
    "start_time": "2024-03-05T13:17:50.008Z"
   },
   {
    "duration": 9,
    "start_time": "2024-03-05T13:22:13.343Z"
   },
   {
    "duration": 31,
    "start_time": "2024-03-05T13:22:48.000Z"
   },
   {
    "duration": 29,
    "start_time": "2024-03-05T13:22:53.143Z"
   },
   {
    "duration": 8,
    "start_time": "2024-03-05T13:24:27.528Z"
   },
   {
    "duration": 11,
    "start_time": "2024-03-05T13:48:45.812Z"
   },
   {
    "duration": 6,
    "start_time": "2024-03-05T13:49:04.704Z"
   },
   {
    "duration": 5,
    "start_time": "2024-03-05T13:49:46.739Z"
   },
   {
    "duration": 5,
    "start_time": "2024-03-05T13:49:54.379Z"
   },
   {
    "duration": 9,
    "start_time": "2024-03-05T13:50:17.950Z"
   },
   {
    "duration": 1073,
    "start_time": "2024-03-05T14:08:01.566Z"
   },
   {
    "duration": 68,
    "start_time": "2024-03-05T14:08:02.640Z"
   },
   {
    "duration": 56,
    "start_time": "2024-03-05T14:08:02.709Z"
   },
   {
    "duration": 48,
    "start_time": "2024-03-05T14:08:02.767Z"
   },
   {
    "duration": 55,
    "start_time": "2024-03-05T14:08:02.817Z"
   },
   {
    "duration": 56,
    "start_time": "2024-03-05T14:08:02.874Z"
   },
   {
    "duration": 140,
    "start_time": "2024-03-05T14:08:02.931Z"
   },
   {
    "duration": 84,
    "start_time": "2024-03-05T14:08:03.073Z"
   },
   {
    "duration": 36,
    "start_time": "2024-03-05T14:08:03.158Z"
   },
   {
    "duration": 43,
    "start_time": "2024-03-05T14:08:03.197Z"
   },
   {
    "duration": 51,
    "start_time": "2024-03-05T14:08:03.241Z"
   },
   {
    "duration": 50,
    "start_time": "2024-03-05T14:08:03.293Z"
   },
   {
    "duration": 44,
    "start_time": "2024-03-05T14:08:03.345Z"
   },
   {
    "duration": 91,
    "start_time": "2024-03-05T14:08:03.391Z"
   },
   {
    "duration": 58,
    "start_time": "2024-03-05T14:08:03.484Z"
   },
   {
    "duration": 322,
    "start_time": "2024-03-05T14:08:03.544Z"
   },
   {
    "duration": 6,
    "start_time": "2024-03-05T14:08:03.867Z"
   },
   {
    "duration": 125,
    "start_time": "2024-03-05T14:08:03.874Z"
   },
   {
    "duration": 5,
    "start_time": "2024-03-05T14:08:04.000Z"
   },
   {
    "duration": 350,
    "start_time": "2024-03-05T14:08:04.007Z"
   },
   {
    "duration": 249,
    "start_time": "2024-03-05T14:08:04.359Z"
   },
   {
    "duration": 481,
    "start_time": "2024-03-05T14:08:04.610Z"
   },
   {
    "duration": 234,
    "start_time": "2024-03-05T14:08:05.094Z"
   },
   {
    "duration": 346,
    "start_time": "2024-03-05T14:08:05.329Z"
   },
   {
    "duration": 244,
    "start_time": "2024-03-05T14:08:05.677Z"
   },
   {
    "duration": 101,
    "start_time": "2024-03-05T14:08:05.923Z"
   },
   {
    "duration": 0,
    "start_time": "2024-03-05T14:08:06.025Z"
   },
   {
    "duration": 0,
    "start_time": "2024-03-05T14:08:06.027Z"
   },
   {
    "duration": 0,
    "start_time": "2024-03-05T14:08:06.027Z"
   },
   {
    "duration": 0,
    "start_time": "2024-03-05T14:08:06.028Z"
   },
   {
    "duration": 0,
    "start_time": "2024-03-05T14:08:06.029Z"
   },
   {
    "duration": 0,
    "start_time": "2024-03-05T14:08:06.030Z"
   },
   {
    "duration": 0,
    "start_time": "2024-03-05T14:08:06.031Z"
   },
   {
    "duration": 0,
    "start_time": "2024-03-05T14:08:06.032Z"
   },
   {
    "duration": 0,
    "start_time": "2024-03-05T14:08:06.033Z"
   },
   {
    "duration": 0,
    "start_time": "2024-03-05T14:08:06.034Z"
   },
   {
    "duration": 294,
    "start_time": "2024-03-05T14:21:37.747Z"
   },
   {
    "duration": 281,
    "start_time": "2024-03-05T14:21:44.151Z"
   },
   {
    "duration": 101,
    "start_time": "2024-03-05T14:22:26.958Z"
   },
   {
    "duration": 100,
    "start_time": "2024-03-05T14:23:04.447Z"
   },
   {
    "duration": 96,
    "start_time": "2024-03-05T14:23:40.139Z"
   },
   {
    "duration": 140,
    "start_time": "2024-03-05T14:24:18.090Z"
   },
   {
    "duration": 103,
    "start_time": "2024-03-05T14:25:30.366Z"
   },
   {
    "duration": 103,
    "start_time": "2024-03-05T14:25:34.946Z"
   },
   {
    "duration": 93,
    "start_time": "2024-03-05T14:25:44.065Z"
   },
   {
    "duration": 110,
    "start_time": "2024-03-05T14:25:49.316Z"
   },
   {
    "duration": 106,
    "start_time": "2024-03-05T14:26:12.490Z"
   },
   {
    "duration": 28,
    "start_time": "2024-03-05T14:30:32.490Z"
   },
   {
    "duration": 3,
    "start_time": "2024-03-05T14:31:16.023Z"
   },
   {
    "duration": 1198,
    "start_time": "2024-03-05T14:31:50.860Z"
   },
   {
    "duration": 69,
    "start_time": "2024-03-05T14:31:54.823Z"
   },
   {
    "duration": 14,
    "start_time": "2024-03-05T14:31:55.586Z"
   },
   {
    "duration": 12,
    "start_time": "2024-03-05T14:31:57.037Z"
   },
   {
    "duration": 8,
    "start_time": "2024-03-05T14:31:57.987Z"
   },
   {
    "duration": 11,
    "start_time": "2024-03-05T14:31:59.289Z"
   },
   {
    "duration": 7,
    "start_time": "2024-03-05T14:32:00.186Z"
   },
   {
    "duration": 11,
    "start_time": "2024-03-05T14:32:00.952Z"
   },
   {
    "duration": 10,
    "start_time": "2024-03-05T14:32:07.295Z"
   },
   {
    "duration": 6,
    "start_time": "2024-03-05T14:32:11.372Z"
   },
   {
    "duration": 5,
    "start_time": "2024-03-05T14:32:14.156Z"
   },
   {
    "duration": 8,
    "start_time": "2024-03-05T14:32:14.977Z"
   },
   {
    "duration": 7,
    "start_time": "2024-03-05T14:32:15.698Z"
   },
   {
    "duration": 8,
    "start_time": "2024-03-05T14:32:17.136Z"
   },
   {
    "duration": 5,
    "start_time": "2024-03-05T14:32:25.119Z"
   },
   {
    "duration": 282,
    "start_time": "2024-03-05T14:32:26.976Z"
   },
   {
    "duration": 5,
    "start_time": "2024-03-05T14:32:33.411Z"
   },
   {
    "duration": 98,
    "start_time": "2024-03-05T14:32:35.882Z"
   },
   {
    "duration": 5,
    "start_time": "2024-03-05T14:32:39.658Z"
   },
   {
    "duration": 331,
    "start_time": "2024-03-05T14:32:40.408Z"
   },
   {
    "duration": 205,
    "start_time": "2024-03-05T14:32:41.805Z"
   },
   {
    "duration": 529,
    "start_time": "2024-03-05T14:32:53.969Z"
   },
   {
    "duration": 277,
    "start_time": "2024-03-05T14:32:55.418Z"
   },
   {
    "duration": 377,
    "start_time": "2024-03-05T14:33:00.903Z"
   },
   {
    "duration": 267,
    "start_time": "2024-03-05T14:33:02.074Z"
   },
   {
    "duration": 101,
    "start_time": "2024-03-05T14:33:07.427Z"
   },
   {
    "duration": 26,
    "start_time": "2024-03-05T14:33:27.559Z"
   },
   {
    "duration": 1161,
    "start_time": "2024-03-05T15:30:18.375Z"
   },
   {
    "duration": 74,
    "start_time": "2024-03-05T15:30:19.538Z"
   },
   {
    "duration": 12,
    "start_time": "2024-03-05T15:30:19.614Z"
   },
   {
    "duration": 26,
    "start_time": "2024-03-05T15:30:19.628Z"
   },
   {
    "duration": 14,
    "start_time": "2024-03-05T15:30:19.655Z"
   },
   {
    "duration": 32,
    "start_time": "2024-03-05T15:30:19.670Z"
   },
   {
    "duration": 11,
    "start_time": "2024-03-05T15:30:19.703Z"
   },
   {
    "duration": 10,
    "start_time": "2024-03-05T15:30:19.716Z"
   },
   {
    "duration": 12,
    "start_time": "2024-03-05T15:30:19.728Z"
   },
   {
    "duration": 17,
    "start_time": "2024-03-05T15:30:19.744Z"
   },
   {
    "duration": 8,
    "start_time": "2024-03-05T15:30:19.763Z"
   },
   {
    "duration": 19,
    "start_time": "2024-03-05T15:30:19.772Z"
   },
   {
    "duration": 21,
    "start_time": "2024-03-05T15:30:19.792Z"
   },
   {
    "duration": 9,
    "start_time": "2024-03-05T15:30:19.814Z"
   },
   {
    "duration": 10,
    "start_time": "2024-03-05T15:30:19.825Z"
   },
   {
    "duration": 324,
    "start_time": "2024-03-05T15:30:19.837Z"
   },
   {
    "duration": 6,
    "start_time": "2024-03-05T15:30:20.162Z"
   },
   {
    "duration": 109,
    "start_time": "2024-03-05T15:30:20.170Z"
   },
   {
    "duration": 19,
    "start_time": "2024-03-05T15:30:20.281Z"
   },
   {
    "duration": 364,
    "start_time": "2024-03-05T15:30:20.302Z"
   },
   {
    "duration": 262,
    "start_time": "2024-03-05T15:30:20.668Z"
   },
   {
    "duration": 501,
    "start_time": "2024-03-05T15:30:20.932Z"
   },
   {
    "duration": 301,
    "start_time": "2024-03-05T15:30:21.434Z"
   },
   {
    "duration": 383,
    "start_time": "2024-03-05T15:30:21.737Z"
   },
   {
    "duration": 223,
    "start_time": "2024-03-05T15:30:22.122Z"
   },
   {
    "duration": 72,
    "start_time": "2024-03-05T15:30:22.346Z"
   },
   {
    "duration": 15,
    "start_time": "2024-03-05T15:30:22.419Z"
   },
   {
    "duration": 13,
    "start_time": "2024-03-05T15:30:22.438Z"
   },
   {
    "duration": 945,
    "start_time": "2024-03-05T15:30:22.453Z"
   },
   {
    "duration": 1028,
    "start_time": "2024-03-05T15:30:23.400Z"
   },
   {
    "duration": 18,
    "start_time": "2024-03-05T15:30:24.430Z"
   },
   {
    "duration": 478,
    "start_time": "2024-03-05T15:30:24.449Z"
   },
   {
    "duration": 24,
    "start_time": "2024-03-05T15:30:24.929Z"
   },
   {
    "duration": 5,
    "start_time": "2024-03-05T15:30:24.955Z"
   },
   {
    "duration": 25,
    "start_time": "2024-03-05T15:30:24.961Z"
   },
   {
    "duration": 40,
    "start_time": "2024-03-05T15:30:24.988Z"
   },
   {
    "duration": 55,
    "start_time": "2024-03-05T15:48:28.682Z"
   },
   {
    "duration": 1336,
    "start_time": "2024-03-05T15:48:51.709Z"
   },
   {
    "duration": 304,
    "start_time": "2024-03-05T15:48:53.284Z"
   },
   {
    "duration": 23,
    "start_time": "2024-03-05T15:48:54.784Z"
   },
   {
    "duration": 11,
    "start_time": "2024-03-05T15:48:55.475Z"
   },
   {
    "duration": 8,
    "start_time": "2024-03-05T15:48:56.046Z"
   },
   {
    "duration": 25,
    "start_time": "2024-03-05T15:48:56.584Z"
   },
   {
    "duration": 8,
    "start_time": "2024-03-05T15:48:57.076Z"
   },
   {
    "duration": 13,
    "start_time": "2024-03-05T15:48:57.502Z"
   },
   {
    "duration": 8,
    "start_time": "2024-03-05T15:49:02.831Z"
   },
   {
    "duration": 6,
    "start_time": "2024-03-05T15:49:05.255Z"
   },
   {
    "duration": 6,
    "start_time": "2024-03-05T15:49:06.770Z"
   },
   {
    "duration": 9,
    "start_time": "2024-03-05T15:49:07.620Z"
   },
   {
    "duration": 5,
    "start_time": "2024-03-05T15:49:08.616Z"
   },
   {
    "duration": 8,
    "start_time": "2024-03-05T15:49:10.174Z"
   },
   {
    "duration": 7,
    "start_time": "2024-03-05T15:49:14.733Z"
   },
   {
    "duration": 358,
    "start_time": "2024-03-05T15:49:15.413Z"
   },
   {
    "duration": 5,
    "start_time": "2024-03-05T15:49:19.864Z"
   },
   {
    "duration": 93,
    "start_time": "2024-03-05T15:49:21.041Z"
   },
   {
    "duration": 5,
    "start_time": "2024-03-05T15:49:24.631Z"
   },
   {
    "duration": 336,
    "start_time": "2024-03-05T15:49:25.411Z"
   },
   {
    "duration": 251,
    "start_time": "2024-03-05T15:49:26.079Z"
   },
   {
    "duration": 494,
    "start_time": "2024-03-05T15:49:31.209Z"
   },
   {
    "duration": 235,
    "start_time": "2024-03-05T15:49:31.707Z"
   },
   {
    "duration": 424,
    "start_time": "2024-03-05T15:49:34.446Z"
   },
   {
    "duration": 249,
    "start_time": "2024-03-05T15:49:35.820Z"
   },
   {
    "duration": 32,
    "start_time": "2024-03-05T15:49:41.687Z"
   },
   {
    "duration": 16,
    "start_time": "2024-03-05T16:01:31.657Z"
   },
   {
    "duration": 15,
    "start_time": "2024-03-05T16:01:33.273Z"
   },
   {
    "duration": 870,
    "start_time": "2024-03-05T16:01:39.505Z"
   },
   {
    "duration": 922,
    "start_time": "2024-03-05T16:01:50.428Z"
   },
   {
    "duration": 26,
    "start_time": "2024-03-05T16:01:59.329Z"
   },
   {
    "duration": 254,
    "start_time": "2024-03-05T16:02:03.716Z"
   },
   {
    "duration": 52,
    "start_time": "2024-03-05T16:02:04.254Z"
   },
   {
    "duration": 6,
    "start_time": "2024-03-05T16:06:28.198Z"
   },
   {
    "duration": 5,
    "start_time": "2024-03-05T16:06:31.130Z"
   },
   {
    "duration": 9,
    "start_time": "2024-03-05T16:09:29.725Z"
   },
   {
    "duration": 1113,
    "start_time": "2024-03-05T16:25:37.476Z"
   },
   {
    "duration": 65,
    "start_time": "2024-03-05T16:25:43.013Z"
   },
   {
    "duration": 11,
    "start_time": "2024-03-05T16:25:43.958Z"
   },
   {
    "duration": 19,
    "start_time": "2024-03-05T16:25:45.086Z"
   },
   {
    "duration": 10,
    "start_time": "2024-03-05T16:25:45.933Z"
   },
   {
    "duration": 11,
    "start_time": "2024-03-05T16:25:50.481Z"
   },
   {
    "duration": 6,
    "start_time": "2024-03-05T16:25:51.533Z"
   },
   {
    "duration": 9,
    "start_time": "2024-03-05T16:25:53.310Z"
   },
   {
    "duration": 8,
    "start_time": "2024-03-05T16:26:01.081Z"
   },
   {
    "duration": 5,
    "start_time": "2024-03-05T16:26:10.786Z"
   },
   {
    "duration": 8,
    "start_time": "2024-03-05T16:26:13.874Z"
   },
   {
    "duration": 9,
    "start_time": "2024-03-05T16:26:14.522Z"
   },
   {
    "duration": 5,
    "start_time": "2024-03-05T16:26:20.854Z"
   },
   {
    "duration": 12,
    "start_time": "2024-03-05T16:26:31.607Z"
   },
   {
    "duration": 5,
    "start_time": "2024-03-05T16:26:46.060Z"
   },
   {
    "duration": 268,
    "start_time": "2024-03-05T16:26:47.100Z"
   },
   {
    "duration": 6,
    "start_time": "2024-03-05T16:26:58.953Z"
   },
   {
    "duration": 89,
    "start_time": "2024-03-05T16:27:00.854Z"
   },
   {
    "duration": 5,
    "start_time": "2024-03-05T16:27:06.306Z"
   },
   {
    "duration": 318,
    "start_time": "2024-03-05T16:27:11.365Z"
   },
   {
    "duration": 203,
    "start_time": "2024-03-05T16:27:19.728Z"
   },
   {
    "duration": 8,
    "start_time": "2024-03-05T16:27:54.607Z"
   },
   {
    "duration": 8,
    "start_time": "2024-03-05T16:29:36.610Z"
   },
   {
    "duration": 10,
    "start_time": "2024-03-05T16:30:58.439Z"
   },
   {
    "duration": 24,
    "start_time": "2024-03-05T16:31:48.750Z"
   },
   {
    "duration": 15,
    "start_time": "2024-03-05T16:32:20.030Z"
   },
   {
    "duration": 13,
    "start_time": "2024-03-05T16:32:21.420Z"
   },
   {
    "duration": 830,
    "start_time": "2024-03-05T16:32:24.649Z"
   },
   {
    "duration": 859,
    "start_time": "2024-03-05T16:32:31.816Z"
   },
   {
    "duration": 23,
    "start_time": "2024-03-05T16:32:35.386Z"
   },
   {
    "duration": 311,
    "start_time": "2024-03-05T16:32:38.606Z"
   },
   {
    "duration": 31,
    "start_time": "2024-03-05T16:32:39.451Z"
   },
   {
    "duration": 879,
    "start_time": "2024-03-05T16:33:08.283Z"
   },
   {
    "duration": 19,
    "start_time": "2024-03-05T16:33:15.528Z"
   },
   {
    "duration": 248,
    "start_time": "2024-03-05T16:33:17.974Z"
   },
   {
    "duration": 23,
    "start_time": "2024-03-05T16:33:18.627Z"
   },
   {
    "duration": 5,
    "start_time": "2024-03-05T16:33:29.470Z"
   },
   {
    "duration": 7,
    "start_time": "2024-03-05T16:33:33.389Z"
   },
   {
    "duration": 11,
    "start_time": "2024-03-05T16:33:52.166Z"
   },
   {
    "duration": 1018,
    "start_time": "2024-03-06T05:37:05.708Z"
   },
   {
    "duration": 72,
    "start_time": "2024-03-06T05:37:06.728Z"
   },
   {
    "duration": 12,
    "start_time": "2024-03-06T05:37:06.801Z"
   },
   {
    "duration": 22,
    "start_time": "2024-03-06T05:37:06.815Z"
   },
   {
    "duration": 11,
    "start_time": "2024-03-06T05:37:06.839Z"
   },
   {
    "duration": 19,
    "start_time": "2024-03-06T05:37:06.851Z"
   },
   {
    "duration": 6,
    "start_time": "2024-03-06T05:37:06.872Z"
   },
   {
    "duration": 13,
    "start_time": "2024-03-06T05:37:06.880Z"
   },
   {
    "duration": 8,
    "start_time": "2024-03-06T05:37:06.894Z"
   },
   {
    "duration": 4,
    "start_time": "2024-03-06T05:37:06.904Z"
   },
   {
    "duration": 6,
    "start_time": "2024-03-06T05:37:06.910Z"
   },
   {
    "duration": 8,
    "start_time": "2024-03-06T05:37:06.918Z"
   },
   {
    "duration": 37,
    "start_time": "2024-03-06T05:37:06.928Z"
   },
   {
    "duration": 8,
    "start_time": "2024-03-06T05:37:06.967Z"
   },
   {
    "duration": 7,
    "start_time": "2024-03-06T05:37:06.977Z"
   },
   {
    "duration": 322,
    "start_time": "2024-03-06T05:37:06.986Z"
   },
   {
    "duration": 5,
    "start_time": "2024-03-06T05:37:07.310Z"
   },
   {
    "duration": 99,
    "start_time": "2024-03-06T05:37:07.317Z"
   },
   {
    "duration": 6,
    "start_time": "2024-03-06T05:37:07.418Z"
   },
   {
    "duration": 329,
    "start_time": "2024-03-06T05:37:07.425Z"
   },
   {
    "duration": 256,
    "start_time": "2024-03-06T05:37:07.756Z"
   },
   {
    "duration": 8,
    "start_time": "2024-03-06T05:37:08.014Z"
   },
   {
    "duration": 493,
    "start_time": "2024-03-06T05:37:08.023Z"
   },
   {
    "duration": 267,
    "start_time": "2024-03-06T05:37:08.518Z"
   },
   {
    "duration": 8,
    "start_time": "2024-03-06T05:37:08.786Z"
   },
   {
    "duration": 373,
    "start_time": "2024-03-06T05:37:08.795Z"
   },
   {
    "duration": 232,
    "start_time": "2024-03-06T05:37:09.170Z"
   },
   {
    "duration": 7,
    "start_time": "2024-03-06T05:37:09.405Z"
   },
   {
    "duration": 22,
    "start_time": "2024-03-06T05:37:09.414Z"
   },
   {
    "duration": 38,
    "start_time": "2024-03-06T05:37:09.437Z"
   },
   {
    "duration": 14,
    "start_time": "2024-03-06T05:37:09.476Z"
   },
   {
    "duration": 830,
    "start_time": "2024-03-06T05:37:09.491Z"
   },
   {
    "duration": 843,
    "start_time": "2024-03-06T05:37:10.322Z"
   },
   {
    "duration": 17,
    "start_time": "2024-03-06T05:37:11.167Z"
   },
   {
    "duration": 236,
    "start_time": "2024-03-06T05:37:11.185Z"
   },
   {
    "duration": 23,
    "start_time": "2024-03-06T05:37:11.423Z"
   },
   {
    "duration": 5,
    "start_time": "2024-03-06T05:37:11.447Z"
   },
   {
    "duration": 5,
    "start_time": "2024-03-06T05:37:11.464Z"
   },
   {
    "duration": 7,
    "start_time": "2024-03-06T05:37:11.470Z"
   }
  ],
  "kernelspec": {
   "display_name": "Python 3 (ipykernel)",
   "language": "python",
   "name": "python3"
  },
  "language_info": {
   "codemirror_mode": {
    "name": "ipython",
    "version": 3
   },
   "file_extension": ".py",
   "mimetype": "text/x-python",
   "name": "python",
   "nbconvert_exporter": "python",
   "pygments_lexer": "ipython3",
   "version": "3.9.5"
  },
  "toc": {
   "base_numbering": 1,
   "nav_menu": {},
   "number_sections": true,
   "sideBar": true,
   "skip_h1_title": true,
   "title_cell": "Table of Contents",
   "title_sidebar": "Contents",
   "toc_cell": false,
   "toc_position": {},
   "toc_section_display": true,
   "toc_window_display": false
  }
 },
 "nbformat": 4,
 "nbformat_minor": 5
}
