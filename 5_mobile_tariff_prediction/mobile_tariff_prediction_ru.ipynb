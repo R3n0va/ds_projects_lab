{
 "cells": [
  {
   "cell_type": "markdown",
   "metadata": {},
   "source": [
    "# **План проекта**        \n",
    "        \n",
    "[Описание проекта](#Рекомендация-тарифов)   \n",
    "\n",
    "[1 Загрузка и изучение данных](#Откройте-и-изучите-файл)   \n",
    "\n",
    "[2 Подготовка данных](#Разбейте-данные-на-выборки)   \n",
    "\n",
    "[3 Исследование моделей](#Исследуйте-модели)   \n",
    "- [3.1 Модель DecisionTreeClassifier](#Модель-DecisionTreeClassifier)\n",
    "- [3.2 Модель RandomForestClassifier](#Модель-RandomForestClassifier)\n",
    "- [3.3 Модель LogisticRegression](#Модель-LogisticRegression)\n",
    "- [3.4 Результаты исследования](#Результаты-исследования-моделей)\n",
    "\n",
    "[4 Проверка моделей на тестовой выборке](#Проверьте-модель-на-тестовой-выборке)  \n",
    "\n",
    "[5 Проверка на адекватность](#(бонус)-Проверьте-модели-на-адекватность)   \n",
    "\n",
    "[6 Выводы](#Выводы)"
   ]
  },
  {
   "cell_type": "markdown",
   "metadata": {},
   "source": [
    "# Описание проекта   \n",
    "**\"Рекомендация тарифов\"**\n",
    "\n",
    "\n",
    "Оператор мобильной связи «Мегалайн» выяснил: многие клиенты пользуются архивными тарифами. Они хотят построить систему, способную проанализировать поведение клиентов и предложить пользователям новый тариф: «Смарт» или «Ультра».   \n",
    "В вашем распоряжении данные о поведении клиентов, которые уже перешли на эти тарифы. Нужно построить модель для задачи классификации, которая выберет подходящий тариф.   \n",
    "Необходимо исследовать модели и выбрать ту, которая покажет максимально большое значениеме accuracy. Доля правильных ответов должна быть не ниже 0.75.\n",
    "\n",
    "**Необходимо**:   \n",
    "1. Загрузить и изучить данные.\n",
    "2. Подготовить данные.\n",
    "3. Исследовать модели (больше одной).\n",
    "4. Проверить качество модели на тестовой выборке.\n",
    "5. Проверить модель на адекватность\n",
    "6. Сделать выводы из полученных результатов.\n",
    "\n",
    "\n",
    "**Задача**:   \n",
    "- Нужно построить модель для задачи классификации, которая выберет подходящий тариф для потенциальных клиентов\n",
    "\n",
    "**Описание данных**   \n",
    "Каждый объект в наборе данных — это информация о поведении одного пользователя за месяц.   \n",
    "Известно:   \n",
    "*сalls* — количество звонков,   \n",
    "*minutes* — суммарная длительность звонков в минутах,   \n",
    "*messages* — количество sms-сообщений,   \n",
    "*mb_used* — израсходованный интернет-трафик в Мб,   \n",
    "*is_ultra* — каким тарифом пользовался в течение месяца («Ультра» — 1, «Смарт» — 0).   "
   ]
  },
  {
   "cell_type": "markdown",
   "metadata": {},
   "source": [
    "## Откройте и изучите файл"
   ]
  },
  {
   "cell_type": "code",
   "execution_count": 1,
   "metadata": {},
   "outputs": [],
   "source": [
    "import pandas as pd\n",
    "from sklearn.model_selection import train_test_split\n",
    "from sklearn.tree import DecisionTreeClassifier\n",
    "from sklearn.ensemble import RandomForestClassifier\n",
    "from sklearn.linear_model import LogisticRegression\n",
    "from sklearn.dummy import DummyClassifier\n",
    "import matplotlib.pyplot as plt\n",
    "from sklearn.tree import plot_tree"
   ]
  },
  {
   "cell_type": "code",
   "execution_count": null,
   "metadata": {},
   "outputs": [
    {
     "name": "stdout",
     "output_type": "stream",
     "text": [
      "Первые строки:\n"
     ]
    },
    {
     "data": {
      "text/html": [
       "<div>\n",
       "<style scoped>\n",
       "    .dataframe tbody tr th:only-of-type {\n",
       "        vertical-align: middle;\n",
       "    }\n",
       "\n",
       "    .dataframe tbody tr th {\n",
       "        vertical-align: top;\n",
       "    }\n",
       "\n",
       "    .dataframe thead th {\n",
       "        text-align: right;\n",
       "    }\n",
       "</style>\n",
       "<table border=\"1\" class=\"dataframe\">\n",
       "  <thead>\n",
       "    <tr style=\"text-align: right;\">\n",
       "      <th></th>\n",
       "      <th>calls</th>\n",
       "      <th>minutes</th>\n",
       "      <th>messages</th>\n",
       "      <th>mb_used</th>\n",
       "      <th>is_ultra</th>\n",
       "    </tr>\n",
       "  </thead>\n",
       "  <tbody>\n",
       "    <tr>\n",
       "      <th>0</th>\n",
       "      <td>40.0</td>\n",
       "      <td>311.90</td>\n",
       "      <td>83.0</td>\n",
       "      <td>19915.42</td>\n",
       "      <td>0</td>\n",
       "    </tr>\n",
       "    <tr>\n",
       "      <th>1</th>\n",
       "      <td>85.0</td>\n",
       "      <td>516.75</td>\n",
       "      <td>56.0</td>\n",
       "      <td>22696.96</td>\n",
       "      <td>0</td>\n",
       "    </tr>\n",
       "    <tr>\n",
       "      <th>2</th>\n",
       "      <td>77.0</td>\n",
       "      <td>467.66</td>\n",
       "      <td>86.0</td>\n",
       "      <td>21060.45</td>\n",
       "      <td>0</td>\n",
       "    </tr>\n",
       "    <tr>\n",
       "      <th>3</th>\n",
       "      <td>106.0</td>\n",
       "      <td>745.53</td>\n",
       "      <td>81.0</td>\n",
       "      <td>8437.39</td>\n",
       "      <td>1</td>\n",
       "    </tr>\n",
       "    <tr>\n",
       "      <th>4</th>\n",
       "      <td>66.0</td>\n",
       "      <td>418.74</td>\n",
       "      <td>1.0</td>\n",
       "      <td>14502.75</td>\n",
       "      <td>0</td>\n",
       "    </tr>\n",
       "  </tbody>\n",
       "</table>\n",
       "</div>"
      ],
      "text/plain": [
       "   calls  minutes  messages   mb_used  is_ultra\n",
       "0   40.0   311.90      83.0  19915.42         0\n",
       "1   85.0   516.75      56.0  22696.96         0\n",
       "2   77.0   467.66      86.0  21060.45         0\n",
       "3  106.0   745.53      81.0   8437.39         1\n",
       "4   66.0   418.74       1.0  14502.75         0"
      ]
     },
     "metadata": {},
     "output_type": "display_data"
    },
    {
     "name": "stdout",
     "output_type": "stream",
     "text": [
      "\n",
      "\n",
      "Описательная статистика:\n"
     ]
    },
    {
     "data": {
      "text/html": [
       "<div>\n",
       "<style scoped>\n",
       "    .dataframe tbody tr th:only-of-type {\n",
       "        vertical-align: middle;\n",
       "    }\n",
       "\n",
       "    .dataframe tbody tr th {\n",
       "        vertical-align: top;\n",
       "    }\n",
       "\n",
       "    .dataframe thead th {\n",
       "        text-align: right;\n",
       "    }\n",
       "</style>\n",
       "<table border=\"1\" class=\"dataframe\">\n",
       "  <thead>\n",
       "    <tr style=\"text-align: right;\">\n",
       "      <th></th>\n",
       "      <th>calls</th>\n",
       "      <th>minutes</th>\n",
       "      <th>messages</th>\n",
       "      <th>mb_used</th>\n",
       "      <th>is_ultra</th>\n",
       "    </tr>\n",
       "  </thead>\n",
       "  <tbody>\n",
       "    <tr>\n",
       "      <th>count</th>\n",
       "      <td>3214.000000</td>\n",
       "      <td>3214.000000</td>\n",
       "      <td>3214.000000</td>\n",
       "      <td>3214.000000</td>\n",
       "      <td>3214.000000</td>\n",
       "    </tr>\n",
       "    <tr>\n",
       "      <th>mean</th>\n",
       "      <td>63.038892</td>\n",
       "      <td>438.208787</td>\n",
       "      <td>38.281269</td>\n",
       "      <td>17207.673836</td>\n",
       "      <td>0.306472</td>\n",
       "    </tr>\n",
       "    <tr>\n",
       "      <th>std</th>\n",
       "      <td>33.236368</td>\n",
       "      <td>234.569872</td>\n",
       "      <td>36.148326</td>\n",
       "      <td>7570.968246</td>\n",
       "      <td>0.461100</td>\n",
       "    </tr>\n",
       "    <tr>\n",
       "      <th>min</th>\n",
       "      <td>0.000000</td>\n",
       "      <td>0.000000</td>\n",
       "      <td>0.000000</td>\n",
       "      <td>0.000000</td>\n",
       "      <td>0.000000</td>\n",
       "    </tr>\n",
       "    <tr>\n",
       "      <th>25%</th>\n",
       "      <td>40.000000</td>\n",
       "      <td>274.575000</td>\n",
       "      <td>9.000000</td>\n",
       "      <td>12491.902500</td>\n",
       "      <td>0.000000</td>\n",
       "    </tr>\n",
       "    <tr>\n",
       "      <th>50%</th>\n",
       "      <td>62.000000</td>\n",
       "      <td>430.600000</td>\n",
       "      <td>30.000000</td>\n",
       "      <td>16943.235000</td>\n",
       "      <td>0.000000</td>\n",
       "    </tr>\n",
       "    <tr>\n",
       "      <th>75%</th>\n",
       "      <td>82.000000</td>\n",
       "      <td>571.927500</td>\n",
       "      <td>57.000000</td>\n",
       "      <td>21424.700000</td>\n",
       "      <td>1.000000</td>\n",
       "    </tr>\n",
       "    <tr>\n",
       "      <th>max</th>\n",
       "      <td>244.000000</td>\n",
       "      <td>1632.060000</td>\n",
       "      <td>224.000000</td>\n",
       "      <td>49745.730000</td>\n",
       "      <td>1.000000</td>\n",
       "    </tr>\n",
       "  </tbody>\n",
       "</table>\n",
       "</div>"
      ],
      "text/plain": [
       "             calls      minutes     messages       mb_used     is_ultra\n",
       "count  3214.000000  3214.000000  3214.000000   3214.000000  3214.000000\n",
       "mean     63.038892   438.208787    38.281269  17207.673836     0.306472\n",
       "std      33.236368   234.569872    36.148326   7570.968246     0.461100\n",
       "min       0.000000     0.000000     0.000000      0.000000     0.000000\n",
       "25%      40.000000   274.575000     9.000000  12491.902500     0.000000\n",
       "50%      62.000000   430.600000    30.000000  16943.235000     0.000000\n",
       "75%      82.000000   571.927500    57.000000  21424.700000     1.000000\n",
       "max     244.000000  1632.060000   224.000000  49745.730000     1.000000"
      ]
     },
     "metadata": {},
     "output_type": "display_data"
    },
    {
     "name": "stdout",
     "output_type": "stream",
     "text": [
      "\n",
      "\n",
      "Информация о DataFrame:\n",
      "<class 'pandas.core.frame.DataFrame'>\n",
      "RangeIndex: 3214 entries, 0 to 3213\n",
      "Data columns (total 5 columns):\n",
      " #   Column    Non-Null Count  Dtype  \n",
      "---  ------    --------------  -----  \n",
      " 0   calls     3214 non-null   float64\n",
      " 1   minutes   3214 non-null   float64\n",
      " 2   messages  3214 non-null   float64\n",
      " 3   mb_used   3214 non-null   float64\n",
      " 4   is_ultra  3214 non-null   int64  \n",
      "dtypes: float64(4), int64(1)\n",
      "memory usage: 125.7 KB\n",
      "\n",
      "\n",
      "Пропущенные значения не найдены.\n",
      "Дубликатов не найдено.\n"
     ]
    }
   ],
   "source": [
    "df = pd.read_csv('/datasets/users_behavior.csv')\n",
    "https://code.s3.yandex.net/datasets/users_behavior.csv\n",
    "\n",
    "def dataframe_info(df, head=True, describe=True, info=True, missing_values=True, duplicates=True):\n",
    "    if head:\n",
    "        print(\"Первые строки:\")\n",
    "        display(df.head())\n",
    "        print(\"\\n\")\n",
    "    \n",
    "    if describe:\n",
    "        print(\"Описательная статистика:\")\n",
    "        display(df.describe())\n",
    "        print(\"\\n\")\n",
    "    \n",
    "    if info:\n",
    "        print(\"Информация о DataFrame:\")\n",
    "        df.info()\n",
    "        print(\"\\n\")\n",
    "        \n",
    "    \n",
    "    if missing_values:\n",
    "        missing_values_count = df.isna().sum()\n",
    "        if missing_values_count.sum() > 0:\n",
    "            print(\"Пропущенные значения:\")\n",
    "            display(missing_values_count)\n",
    "            print(\"\\n\")\n",
    "        else:\n",
    "            print(\"Пропущенные значения не найдены.\")\n",
    "            \n",
    "    if duplicates:\n",
    "        duplicates_count = df.duplicated().sum()\n",
    "        if duplicates_count > 0:\n",
    "            print(\"Количество дубликатов:\", duplicates_count)\n",
    "            print(\"Дубликаты:\")\n",
    "            display(df[df.duplicated()])\n",
    "            print(\"\\n\")\n",
    "        else:\n",
    "            print(\"Дубликатов не найдено.\")\n",
    "\n",
    "dataframe_info(df, head=True, describe=True, duplicates=True, missing_values=True, info=True)"
   ]
  },
  {
   "cell_type": "markdown",
   "metadata": {},
   "source": [
    "Количество звонков и сообщений не может быть дробным, изменим тип значений в этих столбцах и проверим результат"
   ]
  },
  {
   "cell_type": "code",
   "execution_count": 3,
   "metadata": {},
   "outputs": [
    {
     "name": "stdout",
     "output_type": "stream",
     "text": [
      "<class 'pandas.core.frame.DataFrame'>\n",
      "RangeIndex: 3214 entries, 0 to 3213\n",
      "Data columns (total 5 columns):\n",
      " #   Column    Non-Null Count  Dtype  \n",
      "---  ------    --------------  -----  \n",
      " 0   calls     3214 non-null   int64  \n",
      " 1   minutes   3214 non-null   float64\n",
      " 2   messages  3214 non-null   int64  \n",
      " 3   mb_used   3214 non-null   float64\n",
      " 4   is_ultra  3214 non-null   int64  \n",
      "dtypes: float64(2), int64(3)\n",
      "memory usage: 125.7 KB\n"
     ]
    }
   ],
   "source": [
    "df['messages'], df['calls'] = df['messages'].astype(\"int\"), df['calls'].astype('int')\n",
    "df.info()"
   ]
  },
  {
   "cell_type": "markdown",
   "metadata": {},
   "source": [
    "Изучение данных показало:    \n",
    "3214 строк   \n",
    "5 столбцов   \n",
    "нет пропущенных значений   \n",
    "нет дубликатов   \n",
    "\n",
    "Так как количество звонков и сообщений не может быть дробным, мы изменили тип значений в этих столбцах на целочисленный"
   ]
  },
  {
   "cell_type": "code",
   "execution_count": 4,
   "metadata": {},
   "outputs": [
    {
     "data": {
      "text/plain": [
       "0    0.693528\n",
       "1    0.306472\n",
       "Name: is_ultra, dtype: float64"
      ]
     },
     "execution_count": 4,
     "metadata": {},
     "output_type": "execute_result"
    }
   ],
   "source": [
    "df['is_ultra'].value_counts(normalize=True)\n"
   ]
  },
  {
   "cell_type": "markdown",
   "metadata": {},
   "source": [
    "Распределение по тарифам ~31% на ~69%, "
   ]
  },
  {
   "cell_type": "markdown",
   "metadata": {},
   "source": [
    "## Разбейте данные на выборки"
   ]
  },
  {
   "cell_type": "code",
   "execution_count": 5,
   "metadata": {},
   "outputs": [],
   "source": [
    "features = df.drop(['is_ultra'], axis=1)\n",
    "target = df['is_ultra']"
   ]
  },
  {
   "cell_type": "markdown",
   "metadata": {},
   "source": [
    "Разделим данные на три части: обучающую, валидационную и тестовую в соотношении 3:1:1."
   ]
  },
  {
   "cell_type": "code",
   "execution_count": 6,
   "metadata": {},
   "outputs": [],
   "source": [
    "features_train, features_valid, target_train, target_valid = train_test_split(\n",
    "    features, target, test_size=0.4, random_state=12345, stratify = target)\n",
    "features_valid, features_test, target_valid, target_test = train_test_split(\n",
    "    features_valid, target_valid, test_size=0.5, random_state=12345, stratify = target_valid)"
   ]
  },
  {
   "cell_type": "code",
   "execution_count": 7,
   "metadata": {},
   "outputs": [
    {
     "data": {
      "text/plain": [
       "(1928, 4)"
      ]
     },
     "metadata": {},
     "output_type": "display_data"
    },
    {
     "data": {
      "text/plain": [
       "(1928,)"
      ]
     },
     "metadata": {},
     "output_type": "display_data"
    },
    {
     "data": {
      "text/plain": [
       "(643, 4)"
      ]
     },
     "metadata": {},
     "output_type": "display_data"
    },
    {
     "data": {
      "text/plain": [
       "(643,)"
      ]
     },
     "metadata": {},
     "output_type": "display_data"
    },
    {
     "data": {
      "text/plain": [
       "(643, 4)"
      ]
     },
     "metadata": {},
     "output_type": "display_data"
    },
    {
     "data": {
      "text/plain": [
       "(643,)"
      ]
     },
     "execution_count": 7,
     "metadata": {},
     "output_type": "execute_result"
    }
   ],
   "source": [
    "display(features_train.shape)\n",
    "display(target_train.shape)\n",
    "display(features_valid.shape)\n",
    "display(target_valid.shape)\n",
    "display(features_test.shape)\n",
    "target_test.shape"
   ]
  },
  {
   "cell_type": "code",
   "execution_count": 8,
   "metadata": {},
   "outputs": [
    {
     "data": {
      "text/plain": [
       "0    0.693465\n",
       "1    0.306535\n",
       "Name: is_ultra, dtype: float64"
      ]
     },
     "metadata": {},
     "output_type": "display_data"
    },
    {
     "data": {
      "text/plain": [
       "0    0.693624\n",
       "1    0.306376\n",
       "Name: is_ultra, dtype: float64"
      ]
     },
     "metadata": {},
     "output_type": "display_data"
    },
    {
     "data": {
      "text/plain": [
       "0    0.693624\n",
       "1    0.306376\n",
       "Name: is_ultra, dtype: float64"
      ]
     },
     "execution_count": 8,
     "metadata": {},
     "output_type": "execute_result"
    }
   ],
   "source": [
    "display(target_train.value_counts(normalize=True))\n",
    "display(target_valid.value_counts(normalize=True))\n",
    "target_test.value_counts(normalize=True)"
   ]
  },
  {
   "cell_type": "markdown",
   "metadata": {},
   "source": [
    "Дисбаланс сохранился"
   ]
  },
  {
   "cell_type": "markdown",
   "metadata": {},
   "source": [
    "## Исследуйте модели"
   ]
  },
  {
   "cell_type": "markdown",
   "metadata": {},
   "source": [
    "### Модель DecisionTreeClassifier"
   ]
  },
  {
   "cell_type": "code",
   "execution_count": 9,
   "metadata": {},
   "outputs": [
    {
     "name": "stdout",
     "output_type": "stream",
     "text": [
      "Accuracy наилучшей модели Решающее дерево на валидационной выборке: 0.7776049766718507 Глубина деревьев: 3\n"
     ]
    }
   ],
   "source": [
    "best_model_tree = None\n",
    "best_result_tree = 0\n",
    "best_depth_tree = 0\n",
    "for depth in range(1, 5):\n",
    "    model = DecisionTreeClassifier(random_state=12345, max_depth = depth)\n",
    "    model.fit(features_train, target_train)\n",
    "    result = model.score(features_valid, target_valid)\n",
    "    if result > best_result_tree:\n",
    "        best_model_tree = model\n",
    "        best_result_tree = result\n",
    "        best_depth_tree = depth\n",
    "\n",
    "print(\"Accuracy наилучшей модели Решающее дерево на валидационной выборке:\", best_result_tree, 'Глубина деревьев:', best_depth_tree)\n",
    "    "
   ]
  },
  {
   "cell_type": "code",
   "execution_count": 19,
   "metadata": {},
   "outputs": [
    {
     "data": {
      "image/png": "[encoded data removed]",
      "text/plain": [
       "<Figure size 720x432 with 1 Axes>"
      ]
     },
     "metadata": {
      "needs_background": "light"
     },
     "output_type": "display_data"
    }
   ],
   "source": [
    "train_scores = []\n",
    "valid_scores = []\n",
    "\n",
    "\n",
    "depth_range = range(1, 21)\n",
    "\n",
    "\n",
    "for depth in depth_range:\n",
    "    model = DecisionTreeClassifier(random_state=12345, max_depth=depth)\n",
    "    model.fit(features_train, target_train)\n",
    "    train_score = model.score(features_train, target_train)\n",
    "    valid_score = model.score(features_valid, target_valid)\n",
    "\n",
    "    train_scores.append(train_score)\n",
    "    valid_scores.append(valid_score)\n",
    "\n",
    "plt.figure(figsize=(10, 6))\n",
    "plt.plot(depth_range, train_scores, label='Точность по обучающей выборке')\n",
    "plt.plot(depth_range, valid_scores, label='Точность по валидационной выборке')\n",
    "plt.xlabel('Глубина деревьев')\n",
    "plt.ylabel('Точность')\n",
    "plt.title('Эффективность Решающего дерева')\n",
    "plt.legend()\n",
    "plt.tight_layout()\n",
    "plt.grid(True)\n",
    "plt.show()"
   ]
  },
  {
   "cell_type": "code",
   "execution_count": 11,
   "metadata": {},
   "outputs": [
    {
     "data": {
      "image/png": "[encoded data removed]",
      "text/plain": [
       "<Figure size 1440x864 with 1 Axes>"
      ]
     },
     "metadata": {
      "needs_background": "light"
     },
     "output_type": "display_data"
    }
   ],
   "source": [
    "\n",
    "\n",
    "plt.figure(figsize=(20, 12))\n",
    "plot_tree(best_model_tree, \n",
    "          feature_names=features.columns, \n",
    "          class_names=['0', '1'], \n",
    "          impurity=False,  # Не показывать меру неопределенности\n",
    "          proportion=True,  # Показывать доли классов в узлах\n",
    "          rounded=True,  # Закруглить углы узлов\n",
    "          node_ids=True,  # Показывать ID узлов\n",
    "          max_depth=3,  # Ограничить глубину дерева\n",
    "          filled=True)  # Закрасить узлы\n",
    "\n",
    "plt.title('Визуализация Решающего дерева', fontsize=15)\n",
    "plt.show()"
   ]
  },
  {
   "cell_type": "markdown",
   "metadata": {},
   "source": [
    "### Модель RandomForestClassifier"
   ]
  },
  {
   "cell_type": "code",
   "execution_count": 12,
   "metadata": {},
   "outputs": [
    {
     "name": "stdout",
     "output_type": "stream",
     "text": [
      "Accuracy наилучшей модели Случайный лес на валидационной выборке: 0.7993779160186625 Количество деревьев: 38 Глубина дерева 4\n",
      "CPU times: user 13.4 s, sys: 70.9 ms, total: 13.5 s\n",
      "Wall time: 13.5 s\n"
     ]
    }
   ],
   "source": [
    "%%time \n",
    "best_model_forest = None\n",
    "best_result_forest = 0\n",
    "best_depth_forest = 0\n",
    "best_est = 0\n",
    "for depth in range(1, 6):\n",
    "    for est in range(1, 50):\n",
    "        model = RandomForestClassifier(random_state=12345, n_estimators=est, max_depth=depth)\n",
    "        model.fit(features_train, target_train)\n",
    "        result = model.score(features_valid, target_valid)\n",
    "        if result > best_result_forest:\n",
    "            best_model_forest = model\n",
    "            best_result_forest = result\n",
    "            best_depth_forest = depth\n",
    "            best_est = est\n",
    "            \n",
    "            \n",
    "\n",
    "print(\"Accuracy наилучшей модели Случайный лес на валидационной выборке:\", best_result_forest, 'Количество деревьев:', best_est, 'Глубина дерева', best_depth_forest)"
   ]
  },
  {
   "cell_type": "markdown",
   "metadata": {},
   "source": [
    "### Модель LogisticRegression"
   ]
  },
  {
   "cell_type": "code",
   "execution_count": 13,
   "metadata": {},
   "outputs": [
    {
     "name": "stdout",
     "output_type": "stream",
     "text": [
      "Accuracy наилучшей модели Логистическая регрессия на валидационной выборке: 0.7387247278382582 Количество итераций обучения: 1000\n"
     ]
    }
   ],
   "source": [
    "best_model_log = None\n",
    "best_result_log = 0\n",
    "best_iter = 0\n",
    "for itr in range(1000, 10001, 1000):\n",
    "    model = LogisticRegression(random_state=12345, solver='lbfgs', max_iter=itr)\n",
    "    model.fit(features_train, target_train)\n",
    "    result = model.score(features_valid, target_valid)\n",
    "    if result > best_result_log:\n",
    "        best_model_log = model\n",
    "        best_result_log = result\n",
    "        best_iter = itr\n",
    "\n",
    "print(\"Accuracy наилучшей модели Логистическая регрессия на валидационной выборке:\", best_result_log, 'Количество итераций обучения:', best_iter)"
   ]
  },
  {
   "cell_type": "markdown",
   "metadata": {},
   "source": [
    "### Результаты исследования моделей"
   ]
  },
  {
   "cell_type": "code",
   "execution_count": 14,
   "metadata": {
    "scrolled": true
   },
   "outputs": [
    {
     "name": "stdout",
     "output_type": "stream",
     "text": [
      "На валидационной выборке:\n",
      "Accuracy для модели Решающее дерево: 0.7776049766718507 Глубина деревьев: 3\n",
      "Accuracy для модели Случайный лес: 0.7993779160186625 Количество деревьев: 38\n",
      "Accuracy для модели Логистическая регрессия: 0.7387247278382582 Количество итераций обучения: 1000\n",
      "\n",
      "\n",
      "Лучший результат на валидационной выборке показала модель - Случайный лес, при количестве деревьев 38, с точностью 0.7993779160186625\n"
     ]
    }
   ],
   "source": [
    "print('На валидационной выборке:')\n",
    "print(\"Accuracy для модели Решающее дерево:\", best_result_tree, 'Глубина деревьев:', best_depth_tree)\n",
    "print(\"Accuracy для модели Случайный лес:\", best_result_forest, 'Количество деревьев:', best_est)\n",
    "print(\"Accuracy для модели Логистическая регрессия:\", best_result_log, 'Количество итераций обучения:', best_iter)\n",
    "\n",
    "if best_result_tree > best_result_forest and best_result_tree > best_result_log:\n",
    "    best_result = best_result_tree\n",
    "    best_model = f'Решающее дерево, при глубине {best_depth},'\n",
    "elif best_result_forest > best_result_tree and best_result_forest > best_result_log:\n",
    "    best_result = best_result_forest\n",
    "    best_model = f'Случайный лес, при количестве деревьев {best_est},'\n",
    "elif best_result_log > best_result_tree and best_result_log > best_result_forest:\n",
    "    best_result = best_result_log\n",
    "    best_model = f'Логистическая регрессия, при количестве итераций обучения {best_iter},'\n",
    "\n",
    "print('\\n')\n",
    "print('Лучший результат на валидационной выборке показала модель -', best_model, 'с точностью', best_result)"
   ]
  },
  {
   "cell_type": "markdown",
   "metadata": {},
   "source": [
    "## Проверьте модель на тестовой выборке"
   ]
  },
  {
   "cell_type": "markdown",
   "metadata": {},
   "source": [
    "Проверим модели"
   ]
  },
  {
   "cell_type": "markdown",
   "metadata": {},
   "source": [
    "**Комментарий:   \n",
    "Можно было проверять одну (или две) лучшую модель, для того чтобы подтвердить результат исследования моделей - решил оставить - на итоговый результат наличие двух (или одной) личшней проверки не влияет**"
   ]
  },
  {
   "cell_type": "code",
   "execution_count": 15,
   "metadata": {},
   "outputs": [
    {
     "data": {
      "text/plain": [
       "(2571, 4)"
      ]
     },
     "metadata": {},
     "output_type": "display_data"
    },
    {
     "data": {
      "text/plain": [
       "(2571,)"
      ]
     },
     "metadata": {},
     "output_type": "display_data"
    },
    {
     "data": {
      "text/plain": [
       "0    0.693504\n",
       "1    0.306496\n",
       "Name: is_ultra, dtype: float64"
      ]
     },
     "metadata": {},
     "output_type": "display_data"
    }
   ],
   "source": [
    "combined_features = pd.concat([features_train, features_valid])\n",
    "display(combined_features.shape)\n",
    "combined_target = pd.concat([target_train, target_valid])\n",
    "display(combined_target.shape)\n",
    "display(combined_target.value_counts(normalize=True))\n"
   ]
  },
  {
   "cell_type": "code",
   "execution_count": 16,
   "metadata": {},
   "outputs": [
    {
     "data": {
      "text/plain": [
       "RandomForestClassifier(max_depth=4, n_estimators=38, random_state=12345)"
      ]
     },
     "execution_count": 16,
     "metadata": {},
     "output_type": "execute_result"
    }
   ],
   "source": [
    "combined_model = RandomForestClassifier(random_state=12345, n_estimators=38, max_depth=4)\n",
    "combined_model.fit(combined_features, combined_target)\n"
   ]
  },
  {
   "cell_type": "code",
   "execution_count": 17,
   "metadata": {
    "scrolled": true
   },
   "outputs": [
    {
     "name": "stdout",
     "output_type": "stream",
     "text": [
      "\n",
      "\n",
      "Модель Случайный лес на тестовой выборке показала точность 0.8087091757387247\n"
     ]
    }
   ],
   "source": [
    "test_score_forest = combined_model.score(features_test, target_test)\n",
    "\n",
    "print('\\n')\n",
    "print('Модель Случайный лес на тестовой выборке показала точность', test_score_forest)"
   ]
  },
  {
   "cell_type": "markdown",
   "metadata": {},
   "source": [
    "## (бонус) Проверьте модели на адекватность"
   ]
  },
  {
   "cell_type": "code",
   "execution_count": 18,
   "metadata": {},
   "outputs": [
    {
     "name": "stdout",
     "output_type": "stream",
     "text": [
      "Accuracy на тестовой выборке для DummyClassifier: 0.6936236391912908\n",
      "\n",
      "\n",
      "Модель Случайный лес лучше фиктивного классификатора, соответственно она адекватна\n"
     ]
    }
   ],
   "source": [
    "dummy_model = DummyClassifier(strategy=\"most_frequent\", random_state=12345)\n",
    "dummy_model.fit(features_train, target_train)\n",
    "\n",
    "test_score_dummy = dummy_model.score(features_test, target_test)\n",
    "print(\"Accuracy на тестовой выборке для DummyClassifier:\", test_score_dummy)\n",
    "\n",
    "\n",
    "print('\\n')\n",
    "if test_score_dummy > test_score_forest:\n",
    "    print(f'Модель Случайный лес неадекватна, необходимо вернуться к исследованию и проверке моделей')\n",
    "else:\n",
    "    print(f'Модель Случайный лес лучше фиктивного классификатора, соответственно она адекватна')"
   ]
  },
  {
   "cell_type": "markdown",
   "metadata": {},
   "source": [
    "## Выводы"
   ]
  },
  {
   "cell_type": "markdown",
   "metadata": {},
   "source": [
    "**\"Рекомендация тарифов\"**\n",
    "\n",
    "\n",
    "Оператор мобильной связи «Мегалайн» выяснил: многие клиенты пользуются архивными тарифами. Они хотят построить систему, способную проанализировать поведение клиентов и предложить пользователям новый тариф: «Смарт» или «Ультра».   \n",
    "В вашем распоряжении данные о поведении клиентов, которые уже перешли на эти тарифы. Нужно построить модель для задачи классификации, которая выберет подходящий тариф.   \n",
    "Необходимо исследовать модели и выбрать ту, которая покажет максимально большое значениеме accuracy. Доля правильных ответов должна быть не ниже 0.75.\n",
    "\n",
    "**Необходимо**:   \n",
    "1. Загрузить и изучить данные.\n",
    "2. Подготовить данные.\n",
    "3. Исследовать модели (больше одной).\n",
    "4. Проверить качество модели на тестовой выборке.\n",
    "5. Проверить модель на адекватность\n",
    "6. Сделать выводы из полученных результатов.\n",
    "\n",
    "\n",
    "**Задача**:   \n",
    "- Нужно построить модель для задачи классификации, которая выберет подходящий тариф для потенциальных клиентов\n",
    "\n",
    "**Описание данных**   \n",
    "Каждый объект в наборе данных — это информация о поведении одного пользователя за месяц.   \n",
    "Известно:   \n",
    "*сalls* — количество звонков,   \n",
    "*minutes* — суммарная длительность звонков в минутах,   \n",
    "*messages* — количество sms-сообщений,   \n",
    "*mb_used* — израсходованный интернет-трафик в Мб,   \n",
    "*is_ultra* — каким тарифом пользовался в течение месяца («Ультра» — 1, «Смарт» — 0).   \n",
    "\n",
    "\n",
    "**Изучение данных показало:*    \n",
    "3214 строк   \n",
    "5 столбцов   \n",
    "нет пропущенных значений   \n",
    "нет дубликатов   \n",
    "\n",
    "Так как количество звонков и сообщений не может быть дробным, мы изменили тип значений в этих столбцах на целочисленный\n",
    "\n",
    "Согласно ТЗ мы разделили данные на три части: обучающую, валидационную и тестовую в соотношении 3:1:1.\n",
    "\n",
    "**Исследовали три модели**   \n",
    "- Модель DecisionTreeClassifier   \n",
    "- Модель RandomForestClassifier\n",
    "- Модель LogisticRegression\n",
    "\n",
    "На валидационной выборке:\n",
    "- Accuracy для модели Решающее дерево: 0.7776049766718507 Глубина деревьев: 3\n",
    "- Accuracy для модели Случайный лес: 0.7993779160186625 Количество деревьев: 38\n",
    "- Accuracy для модели Логистическая регрессия: 0.7387247278382582 Количество итераций обучения: 1000\n",
    "\n",
    "\n",
    "Лучший результат на валидационной выборке показала модель - Случайный лес, при количестве деревьев 38, с точностью 0.7993779160186625\n",
    "\n",
    "\n",
    "\n",
    "\n",
    "**После проверили на тестовой выборке**\n",
    "Модель Случайный лес на тестовой выборке показала точность 0.8087091757387247\n",
    "Точность оказалась немного выше, чем на валидационной выборке. Значение выше 0.75 - значит нам подходит\n",
    "\n",
    "**Провели проверку на адекатность**\n",
    "Accuracy на тестовой выборке для DummyClassifier: 0.6842923794712286\n",
    "Модель Случайный лес лучше фиктивного классификатора, соответственно она адекватна\n",
    "\n",
    "Поставленная задача - **выполнена** модель можно использовать для выбора и предложения тарифа потенциальным клиентам \n"
   ]
  }
 ],
 "metadata": {
  "ExecuteTimeLog": [
   {
    "duration": 424,
    "start_time": "2024-03-13T12:11:59.304Z"
   },
   {
    "duration": 128,
    "start_time": "2024-03-13T12:11:59.730Z"
   },
   {
    "duration": 71,
    "start_time": "2024-03-13T12:13:31.021Z"
   },
   {
    "duration": 68,
    "start_time": "2024-03-13T12:13:56.408Z"
   },
   {
    "duration": 3,
    "start_time": "2024-03-13T12:15:26.369Z"
   },
   {
    "duration": 63,
    "start_time": "2024-03-13T12:15:41.165Z"
   },
   {
    "duration": 6,
    "start_time": "2024-03-13T12:15:45.699Z"
   },
   {
    "duration": 6,
    "start_time": "2024-03-13T12:15:57.349Z"
   },
   {
    "duration": 66,
    "start_time": "2024-03-13T12:16:48.761Z"
   },
   {
    "duration": 68,
    "start_time": "2024-03-13T12:17:59.382Z"
   },
   {
    "duration": 79,
    "start_time": "2024-03-13T12:18:34.677Z"
   },
   {
    "duration": 70,
    "start_time": "2024-03-13T12:21:02.358Z"
   },
   {
    "duration": 646,
    "start_time": "2024-03-13T12:25:07.268Z"
   },
   {
    "duration": 38,
    "start_time": "2024-03-13T12:25:10.065Z"
   },
   {
    "duration": 4,
    "start_time": "2024-03-13T12:29:59.327Z"
   },
   {
    "duration": 11,
    "start_time": "2024-03-13T12:30:07.980Z"
   },
   {
    "duration": 11,
    "start_time": "2024-03-13T12:31:14.554Z"
   },
   {
    "duration": 13,
    "start_time": "2024-03-13T12:32:24.075Z"
   },
   {
    "duration": 8,
    "start_time": "2024-03-13T12:35:56.387Z"
   },
   {
    "duration": 4,
    "start_time": "2024-03-13T12:36:07.775Z"
   },
   {
    "duration": 5,
    "start_time": "2024-03-13T12:36:08.429Z"
   },
   {
    "duration": 7,
    "start_time": "2024-03-13T12:36:58.317Z"
   },
   {
    "duration": 4,
    "start_time": "2024-03-13T12:37:03.199Z"
   },
   {
    "duration": 4,
    "start_time": "2024-03-13T12:37:15.004Z"
   },
   {
    "duration": 5,
    "start_time": "2024-03-13T12:37:22.762Z"
   },
   {
    "duration": 9,
    "start_time": "2024-03-13T12:37:45.174Z"
   },
   {
    "duration": 7,
    "start_time": "2024-03-13T12:37:58.910Z"
   },
   {
    "duration": 6,
    "start_time": "2024-03-13T12:38:11.940Z"
   },
   {
    "duration": 5,
    "start_time": "2024-03-13T12:53:41.652Z"
   },
   {
    "duration": 5,
    "start_time": "2024-03-13T12:53:45.522Z"
   },
   {
    "duration": 6,
    "start_time": "2024-03-13T12:53:47.562Z"
   },
   {
    "duration": 13,
    "start_time": "2024-03-13T12:55:11.732Z"
   },
   {
    "duration": 7,
    "start_time": "2024-03-13T12:55:15.644Z"
   },
   {
    "duration": 6,
    "start_time": "2024-03-13T12:55:56.109Z"
   },
   {
    "duration": 9,
    "start_time": "2024-03-13T12:55:58.557Z"
   },
   {
    "duration": 10,
    "start_time": "2024-03-13T13:02:20.532Z"
   },
   {
    "duration": 6,
    "start_time": "2024-03-13T13:02:24.365Z"
   },
   {
    "duration": 10,
    "start_time": "2024-03-13T13:02:25.347Z"
   },
   {
    "duration": 6,
    "start_time": "2024-03-13T13:02:39.301Z"
   },
   {
    "duration": 11,
    "start_time": "2024-03-13T13:02:39.809Z"
   },
   {
    "duration": 35,
    "start_time": "2024-03-13T13:12:28.917Z"
   },
   {
    "duration": 31,
    "start_time": "2024-03-13T13:12:57.717Z"
   },
   {
    "duration": 56,
    "start_time": "2024-03-13T13:13:07.096Z"
   },
   {
    "duration": 35,
    "start_time": "2024-03-13T13:13:16.353Z"
   },
   {
    "duration": 13,
    "start_time": "2024-03-13T13:13:22.075Z"
   },
   {
    "duration": 9,
    "start_time": "2024-03-13T13:15:37.981Z"
   },
   {
    "duration": 259,
    "start_time": "2024-03-13T13:16:45.538Z"
   },
   {
    "duration": 274,
    "start_time": "2024-03-13T13:18:20.632Z"
   },
   {
    "duration": 18,
    "start_time": "2024-03-13T13:19:12.654Z"
   },
   {
    "duration": 12,
    "start_time": "2024-03-13T13:19:29.200Z"
   },
   {
    "duration": 61,
    "start_time": "2024-03-13T13:19:39.388Z"
   },
   {
    "duration": 464,
    "start_time": "2024-03-13T13:19:47.580Z"
   },
   {
    "duration": 73,
    "start_time": "2024-03-13T13:20:02.575Z"
   },
   {
    "duration": 33,
    "start_time": "2024-03-13T13:20:09.696Z"
   },
   {
    "duration": 5201,
    "start_time": "2024-03-13T13:20:16.469Z"
   },
   {
    "duration": 270,
    "start_time": "2024-03-13T13:20:28.365Z"
   },
   {
    "duration": 19951,
    "start_time": "2024-03-13T13:20:35.077Z"
   },
   {
    "duration": 7194,
    "start_time": "2024-03-13T13:21:03.714Z"
   },
   {
    "duration": 5019,
    "start_time": "2024-03-13T13:21:17.763Z"
   },
   {
    "duration": 3260,
    "start_time": "2024-03-13T13:21:28.046Z"
   },
   {
    "duration": 836,
    "start_time": "2024-03-13T13:21:37.376Z"
   },
   {
    "duration": 1914,
    "start_time": "2024-03-13T13:21:44.994Z"
   },
   {
    "duration": 1334,
    "start_time": "2024-03-13T13:21:52.272Z"
   },
   {
    "duration": 1009,
    "start_time": "2024-03-13T13:21:59.048Z"
   },
   {
    "duration": 1128,
    "start_time": "2024-03-13T13:22:04.404Z"
   },
   {
    "duration": 1292,
    "start_time": "2024-03-13T13:22:09.225Z"
   },
   {
    "duration": 929,
    "start_time": "2024-03-13T13:24:04.376Z"
   },
   {
    "duration": 26,
    "start_time": "2024-03-13T13:24:10.360Z"
   },
   {
    "duration": 30,
    "start_time": "2024-03-13T13:28:27.454Z"
   },
   {
    "duration": 17,
    "start_time": "2024-03-13T13:30:12.285Z"
   },
   {
    "duration": 3,
    "start_time": "2024-03-13T13:30:39.563Z"
   },
   {
    "duration": 4266,
    "start_time": "2024-03-13T13:30:42.890Z"
   },
   {
    "duration": 32956,
    "start_time": "2024-03-13T13:31:05.038Z"
   },
   {
    "duration": 35597,
    "start_time": "2024-03-13T13:31:50.237Z"
   },
   {
    "duration": 1221,
    "start_time": "2024-03-13T13:32:35.011Z"
   },
   {
    "duration": 28,
    "start_time": "2024-03-13T13:37:40.404Z"
   },
   {
    "duration": 4,
    "start_time": "2024-03-13T13:37:49.046Z"
   },
   {
    "duration": 7,
    "start_time": "2024-03-13T13:37:50.097Z"
   },
   {
    "duration": 11,
    "start_time": "2024-03-13T13:37:50.716Z"
   },
   {
    "duration": 28,
    "start_time": "2024-03-13T13:37:52.493Z"
   },
   {
    "duration": 33,
    "start_time": "2024-03-13T13:38:40.889Z"
   },
   {
    "duration": 23,
    "start_time": "2024-03-13T13:39:38.139Z"
   },
   {
    "duration": 114,
    "start_time": "2024-03-13T13:39:44.459Z"
   },
   {
    "duration": 23,
    "start_time": "2024-03-13T13:39:54.129Z"
   },
   {
    "duration": 23,
    "start_time": "2024-03-13T13:40:39.669Z"
   },
   {
    "duration": 4326,
    "start_time": "2024-03-13T13:41:25.994Z"
   },
   {
    "duration": 4316,
    "start_time": "2024-03-13T13:41:48.842Z"
   },
   {
    "duration": 34654,
    "start_time": "2024-03-13T13:41:54.527Z"
   },
   {
    "duration": 48562,
    "start_time": "2024-03-13T13:42:50.153Z"
   },
   {
    "duration": 30,
    "start_time": "2024-03-13T13:45:39.823Z"
   },
   {
    "duration": 50644,
    "start_time": "2024-03-13T13:46:22.157Z"
   },
   {
    "duration": 9,
    "start_time": "2024-03-13T13:49:34.159Z"
   },
   {
    "duration": 3,
    "start_time": "2024-03-13T13:49:57.470Z"
   },
   {
    "duration": 32,
    "start_time": "2024-03-13T13:50:01.259Z"
   },
   {
    "duration": 78,
    "start_time": "2024-03-13T13:50:21.527Z"
   },
   {
    "duration": 31,
    "start_time": "2024-03-13T13:50:35.204Z"
   },
   {
    "duration": 33,
    "start_time": "2024-03-13T13:50:42.847Z"
   },
   {
    "duration": 263,
    "start_time": "2024-03-13T13:51:10.962Z"
   },
   {
    "duration": 919,
    "start_time": "2024-03-13T13:51:19.038Z"
   },
   {
    "duration": 905,
    "start_time": "2024-03-13T13:52:52.623Z"
   },
   {
    "duration": 907,
    "start_time": "2024-03-13T13:53:14.095Z"
   },
   {
    "duration": 30,
    "start_time": "2024-03-13T13:57:26.471Z"
   },
   {
    "duration": 29,
    "start_time": "2024-03-13T13:57:59.563Z"
   },
   {
    "duration": 985,
    "start_time": "2024-03-13T13:58:25.068Z"
   },
   {
    "duration": 5267,
    "start_time": "2024-03-13T14:01:58.374Z"
   },
   {
    "duration": 472,
    "start_time": "2024-03-13T14:02:45.230Z"
   },
   {
    "duration": 28,
    "start_time": "2024-03-13T14:02:55.345Z"
   },
   {
    "duration": 35,
    "start_time": "2024-03-13T14:04:22.592Z"
   },
   {
    "duration": 38,
    "start_time": "2024-03-13T14:04:50.229Z"
   },
   {
    "duration": 4980,
    "start_time": "2024-03-13T14:04:53.790Z"
   },
   {
    "duration": 63,
    "start_time": "2024-03-13T14:05:34.484Z"
   },
   {
    "duration": 3,
    "start_time": "2024-03-13T14:05:47.348Z"
   },
   {
    "duration": 72,
    "start_time": "2024-03-13T14:05:47.973Z"
   },
   {
    "duration": 11,
    "start_time": "2024-03-13T14:05:51.213Z"
   },
   {
    "duration": 4,
    "start_time": "2024-03-13T14:05:52.962Z"
   },
   {
    "duration": 6,
    "start_time": "2024-03-13T14:05:54.210Z"
   },
   {
    "duration": 10,
    "start_time": "2024-03-13T14:05:55.001Z"
   },
   {
    "duration": 59,
    "start_time": "2024-03-13T14:05:57.408Z"
   },
   {
    "duration": 523,
    "start_time": "2024-03-13T14:06:21.948Z"
   },
   {
    "duration": 477,
    "start_time": "2024-03-13T14:06:56.405Z"
   },
   {
    "duration": 510,
    "start_time": "2024-03-13T14:07:14.177Z"
   },
   {
    "duration": 469,
    "start_time": "2024-03-13T14:07:28.553Z"
   },
   {
    "duration": 32,
    "start_time": "2024-03-13T14:07:39.843Z"
   },
   {
    "duration": 5100,
    "start_time": "2024-03-13T14:08:24.778Z"
   },
   {
    "duration": 20336,
    "start_time": "2024-03-13T14:09:05.159Z"
   },
   {
    "duration": 1061,
    "start_time": "2024-03-13T14:10:02.130Z"
   },
   {
    "duration": 20331,
    "start_time": "2024-03-13T14:10:16.420Z"
   },
   {
    "duration": 5274,
    "start_time": "2024-03-13T14:11:13.406Z"
   },
   {
    "duration": 65,
    "start_time": "2024-03-13T14:11:27.445Z"
   },
   {
    "duration": 31,
    "start_time": "2024-03-13T14:11:35.064Z"
   },
   {
    "duration": 31,
    "start_time": "2024-03-13T14:12:25.346Z"
   },
   {
    "duration": 6,
    "start_time": "2024-03-13T14:19:50.604Z"
   },
   {
    "duration": 11,
    "start_time": "2024-03-13T14:19:58.848Z"
   },
   {
    "duration": 2,
    "start_time": "2024-03-13T14:20:06.445Z"
   },
   {
    "duration": 655,
    "start_time": "2024-03-13T14:20:09.326Z"
   },
   {
    "duration": 29,
    "start_time": "2024-03-13T14:20:33.592Z"
   },
   {
    "duration": 185,
    "start_time": "2024-03-13T14:21:37.185Z"
   },
   {
    "duration": 217,
    "start_time": "2024-03-13T14:22:31.169Z"
   },
   {
    "duration": 1959,
    "start_time": "2024-03-13T14:22:40.562Z"
   },
   {
    "duration": 205,
    "start_time": "2024-03-13T14:22:48.413Z"
   },
   {
    "duration": 24,
    "start_time": "2024-03-13T14:23:50.168Z"
   },
   {
    "duration": 5067,
    "start_time": "2024-03-13T14:24:04.973Z"
   },
   {
    "duration": 203,
    "start_time": "2024-03-13T14:24:10.046Z"
   },
   {
    "duration": 4,
    "start_time": "2024-03-13T14:25:47.402Z"
   },
   {
    "duration": 4,
    "start_time": "2024-03-13T14:26:52.978Z"
   },
   {
    "duration": 7,
    "start_time": "2024-03-13T14:34:08.373Z"
   },
   {
    "duration": 7,
    "start_time": "2024-03-13T14:34:29.640Z"
   },
   {
    "duration": 6,
    "start_time": "2024-03-13T14:36:09.504Z"
   },
   {
    "duration": 8,
    "start_time": "2024-03-13T14:36:27.159Z"
   },
   {
    "duration": 13,
    "start_time": "2024-03-13T14:38:42.977Z"
   },
   {
    "duration": 6,
    "start_time": "2024-03-13T14:39:00.546Z"
   },
   {
    "duration": 7,
    "start_time": "2024-03-13T14:41:03.958Z"
   },
   {
    "duration": 6,
    "start_time": "2024-03-13T14:41:42.272Z"
   },
   {
    "duration": 8,
    "start_time": "2024-03-13T14:45:44.046Z"
   },
   {
    "duration": 8,
    "start_time": "2024-03-13T14:47:02.816Z"
   },
   {
    "duration": 7,
    "start_time": "2024-03-13T14:47:20.029Z"
   },
   {
    "duration": 8,
    "start_time": "2024-03-13T14:47:31.308Z"
   },
   {
    "duration": 7,
    "start_time": "2024-03-13T14:47:36.997Z"
   },
   {
    "duration": 15,
    "start_time": "2024-03-13T14:49:55.926Z"
   },
   {
    "duration": 17,
    "start_time": "2024-03-13T14:52:47.351Z"
   },
   {
    "duration": 17,
    "start_time": "2024-03-13T14:55:06.324Z"
   },
   {
    "duration": 18,
    "start_time": "2024-03-13T14:55:37.161Z"
   },
   {
    "duration": 4,
    "start_time": "2024-03-13T15:01:59.853Z"
   },
   {
    "duration": 6,
    "start_time": "2024-03-13T15:03:07.958Z"
   },
   {
    "duration": 70,
    "start_time": "2024-03-13T15:06:43.245Z"
   },
   {
    "duration": 10,
    "start_time": "2024-03-13T15:06:52.929Z"
   },
   {
    "duration": 8,
    "start_time": "2024-03-13T15:07:04.838Z"
   },
   {
    "duration": 10,
    "start_time": "2024-03-13T15:07:31.231Z"
   },
   {
    "duration": 1136,
    "start_time": "2024-03-13T15:15:17.709Z"
   },
   {
    "duration": 78,
    "start_time": "2024-03-13T15:15:18.847Z"
   },
   {
    "duration": 14,
    "start_time": "2024-03-13T15:15:18.926Z"
   },
   {
    "duration": 20,
    "start_time": "2024-03-13T15:15:18.942Z"
   },
   {
    "duration": 34,
    "start_time": "2024-03-13T15:15:18.963Z"
   },
   {
    "duration": 26,
    "start_time": "2024-03-13T15:15:18.998Z"
   },
   {
    "duration": 41,
    "start_time": "2024-03-13T15:15:19.025Z"
   },
   {
    "duration": 5105,
    "start_time": "2024-03-13T15:15:19.068Z"
   },
   {
    "duration": 221,
    "start_time": "2024-03-13T15:15:24.174Z"
   },
   {
    "duration": 6,
    "start_time": "2024-03-13T15:15:24.398Z"
   },
   {
    "duration": 40,
    "start_time": "2024-03-13T15:15:24.405Z"
   },
   {
    "duration": 17,
    "start_time": "2024-03-13T15:15:24.448Z"
   },
   {
    "duration": 21,
    "start_time": "2024-03-13T15:36:33.169Z"
   },
   {
    "duration": 18,
    "start_time": "2024-03-13T15:39:30.606Z"
   },
   {
    "duration": 1060,
    "start_time": "2024-03-13T15:46:04.068Z"
   },
   {
    "duration": 75,
    "start_time": "2024-03-13T15:46:05.130Z"
   },
   {
    "duration": 10,
    "start_time": "2024-03-13T15:46:05.207Z"
   },
   {
    "duration": 7,
    "start_time": "2024-03-13T15:46:05.218Z"
   },
   {
    "duration": 25,
    "start_time": "2024-03-13T15:46:05.226Z"
   },
   {
    "duration": 10,
    "start_time": "2024-03-13T15:46:05.252Z"
   },
   {
    "duration": 24,
    "start_time": "2024-03-13T15:46:05.263Z"
   },
   {
    "duration": 4866,
    "start_time": "2024-03-13T15:46:05.288Z"
   },
   {
    "duration": 206,
    "start_time": "2024-03-13T15:46:10.156Z"
   },
   {
    "duration": 7,
    "start_time": "2024-03-13T15:46:10.364Z"
   },
   {
    "duration": 21,
    "start_time": "2024-03-13T15:46:10.372Z"
   },
   {
    "duration": 6,
    "start_time": "2024-03-13T15:46:10.394Z"
   },
   {
    "duration": 16,
    "start_time": "2024-03-13T15:47:42.496Z"
   },
   {
    "duration": 9,
    "start_time": "2024-03-13T15:48:03.608Z"
   },
   {
    "duration": 6,
    "start_time": "2024-03-13T15:51:06.987Z"
   },
   {
    "duration": 1162,
    "start_time": "2024-03-13T16:08:01.118Z"
   },
   {
    "duration": 129,
    "start_time": "2024-03-13T16:08:02.283Z"
   },
   {
    "duration": 14,
    "start_time": "2024-03-13T16:08:02.414Z"
   },
   {
    "duration": 72,
    "start_time": "2024-03-13T16:08:02.430Z"
   },
   {
    "duration": 16,
    "start_time": "2024-03-13T16:08:02.505Z"
   },
   {
    "duration": 49,
    "start_time": "2024-03-13T16:08:02.523Z"
   },
   {
    "duration": 47,
    "start_time": "2024-03-13T16:08:02.574Z"
   },
   {
    "duration": 6645,
    "start_time": "2024-03-13T16:08:02.623Z"
   },
   {
    "duration": 316,
    "start_time": "2024-03-13T16:08:09.269Z"
   },
   {
    "duration": 8,
    "start_time": "2024-03-13T16:08:09.591Z"
   },
   {
    "duration": 25,
    "start_time": "2024-03-13T16:08:09.602Z"
   },
   {
    "duration": 16,
    "start_time": "2024-03-13T16:08:09.628Z"
   },
   {
    "duration": 72,
    "start_time": "2024-03-13T16:23:53.202Z"
   },
   {
    "duration": 4,
    "start_time": "2024-03-13T16:26:38.867Z"
   },
   {
    "duration": 6,
    "start_time": "2024-03-13T16:26:52.945Z"
   },
   {
    "duration": 5,
    "start_time": "2024-03-13T16:29:07.343Z"
   },
   {
    "duration": 6,
    "start_time": "2024-03-13T16:29:13.868Z"
   },
   {
    "duration": 5,
    "start_time": "2024-03-13T16:29:38.059Z"
   },
   {
    "duration": 72,
    "start_time": "2024-03-13T16:30:34.209Z"
   },
   {
    "duration": 11,
    "start_time": "2024-03-13T16:30:39.786Z"
   },
   {
    "duration": 4,
    "start_time": "2024-03-13T16:31:00.678Z"
   },
   {
    "duration": 6,
    "start_time": "2024-03-13T16:31:33.158Z"
   },
   {
    "duration": 5,
    "start_time": "2024-03-13T16:31:40.309Z"
   },
   {
    "duration": 9,
    "start_time": "2024-03-13T16:38:23.834Z"
   },
   {
    "duration": 8,
    "start_time": "2024-03-13T16:38:28.796Z"
   },
   {
    "duration": 1243,
    "start_time": "2024-03-13T16:38:57.822Z"
   },
   {
    "duration": 918,
    "start_time": "2024-03-13T16:39:25.208Z"
   },
   {
    "duration": 6,
    "start_time": "2024-03-13T16:39:33.470Z"
   },
   {
    "duration": 6,
    "start_time": "2024-03-13T16:39:50.935Z"
   },
   {
    "duration": 10,
    "start_time": "2024-03-13T16:40:48.087Z"
   },
   {
    "duration": 26,
    "start_time": "2024-03-13T16:42:18.819Z"
   },
   {
    "duration": 643,
    "start_time": "2024-03-13T16:44:02.058Z"
   },
   {
    "duration": 4,
    "start_time": "2024-03-13T16:44:43.895Z"
   },
   {
    "duration": 480,
    "start_time": "2024-03-13T16:46:15.336Z"
   },
   {
    "duration": 362,
    "start_time": "2024-03-13T16:48:35.963Z"
   },
   {
    "duration": 555,
    "start_time": "2024-03-13T16:49:43.166Z"
   },
   {
    "duration": 610,
    "start_time": "2024-03-13T16:50:40.224Z"
   },
   {
    "duration": 531,
    "start_time": "2024-03-13T16:52:15.593Z"
   },
   {
    "duration": 527,
    "start_time": "2024-03-13T16:52:21.512Z"
   },
   {
    "duration": 511,
    "start_time": "2024-03-13T16:52:29.846Z"
   },
   {
    "duration": 563,
    "start_time": "2024-03-13T16:52:39.972Z"
   },
   {
    "duration": 764,
    "start_time": "2024-03-13T16:52:51.413Z"
   },
   {
    "duration": 721,
    "start_time": "2024-03-13T16:53:20.194Z"
   },
   {
    "duration": 729,
    "start_time": "2024-03-13T16:53:38.845Z"
   },
   {
    "duration": 75,
    "start_time": "2024-03-13T16:54:18.345Z"
   },
   {
    "duration": 806,
    "start_time": "2024-03-13T16:54:33.515Z"
   },
   {
    "duration": 80,
    "start_time": "2024-03-13T16:54:44.349Z"
   },
   {
    "duration": 565,
    "start_time": "2024-03-13T16:55:19.310Z"
   },
   {
    "duration": 630,
    "start_time": "2024-03-13T16:56:23.733Z"
   },
   {
    "duration": 633,
    "start_time": "2024-03-13T16:57:13.338Z"
   },
   {
    "duration": 478,
    "start_time": "2024-03-13T16:59:10.037Z"
   },
   {
    "duration": 79,
    "start_time": "2024-03-13T17:01:50.403Z"
   },
   {
    "duration": 12407,
    "start_time": "2024-03-13T17:01:56.237Z"
   },
   {
    "duration": 12512,
    "start_time": "2024-03-13T17:02:39.148Z"
   },
   {
    "duration": 12440,
    "start_time": "2024-03-13T17:03:04.476Z"
   },
   {
    "duration": 292,
    "start_time": "2024-03-13T17:04:34.845Z"
   },
   {
    "duration": 63,
    "start_time": "2024-03-13T17:05:37.888Z"
   },
   {
    "duration": 14,
    "start_time": "2024-03-13T17:24:34.400Z"
   },
   {
    "duration": 13,
    "start_time": "2024-03-13T17:25:09.565Z"
   },
   {
    "duration": 14,
    "start_time": "2024-03-13T17:25:21.470Z"
   },
   {
    "duration": 13,
    "start_time": "2024-03-13T17:25:31.853Z"
   },
   {
    "duration": 14,
    "start_time": "2024-03-13T17:25:52.459Z"
   },
   {
    "duration": 7,
    "start_time": "2024-03-13T17:25:56.890Z"
   },
   {
    "duration": 1303,
    "start_time": "2024-03-13T17:26:09.661Z"
   },
   {
    "duration": 71,
    "start_time": "2024-03-13T17:26:10.966Z"
   },
   {
    "duration": 10,
    "start_time": "2024-03-13T17:26:11.039Z"
   },
   {
    "duration": 6,
    "start_time": "2024-03-13T17:26:11.051Z"
   },
   {
    "duration": 11,
    "start_time": "2024-03-13T17:26:11.058Z"
   },
   {
    "duration": 19,
    "start_time": "2024-03-13T17:26:11.070Z"
   },
   {
    "duration": 32,
    "start_time": "2024-03-13T17:26:11.090Z"
   },
   {
    "duration": 29,
    "start_time": "2024-03-13T17:26:11.124Z"
   },
   {
    "duration": 29,
    "start_time": "2024-03-13T17:26:11.155Z"
   },
   {
    "duration": 194,
    "start_time": "2024-03-13T17:26:11.187Z"
   },
   {
    "duration": 0,
    "start_time": "2024-03-13T17:26:11.383Z"
   },
   {
    "duration": 0,
    "start_time": "2024-03-13T17:26:11.384Z"
   },
   {
    "duration": 0,
    "start_time": "2024-03-13T17:26:11.385Z"
   },
   {
    "duration": 0,
    "start_time": "2024-03-13T17:26:11.386Z"
   },
   {
    "duration": 0,
    "start_time": "2024-03-13T17:26:11.387Z"
   },
   {
    "duration": 0,
    "start_time": "2024-03-13T17:26:11.388Z"
   },
   {
    "duration": 388,
    "start_time": "2024-03-13T17:27:14.556Z"
   },
   {
    "duration": 642,
    "start_time": "2024-03-13T17:27:23.263Z"
   },
   {
    "duration": 1314,
    "start_time": "2024-03-13T17:27:36.169Z"
   },
   {
    "duration": 73,
    "start_time": "2024-03-13T17:27:37.485Z"
   },
   {
    "duration": 11,
    "start_time": "2024-03-13T17:27:37.560Z"
   },
   {
    "duration": 7,
    "start_time": "2024-03-13T17:27:37.573Z"
   },
   {
    "duration": 6,
    "start_time": "2024-03-13T17:27:37.582Z"
   },
   {
    "duration": 12,
    "start_time": "2024-03-13T17:27:37.589Z"
   },
   {
    "duration": 35,
    "start_time": "2024-03-13T17:27:37.602Z"
   },
   {
    "duration": 14,
    "start_time": "2024-03-13T17:27:37.639Z"
   },
   {
    "duration": 33,
    "start_time": "2024-03-13T17:27:37.654Z"
   },
   {
    "duration": 425,
    "start_time": "2024-03-13T17:27:37.689Z"
   },
   {
    "duration": 669,
    "start_time": "2024-03-13T17:27:38.116Z"
   },
   {
    "duration": 12523,
    "start_time": "2024-03-13T17:27:38.786Z"
   },
   {
    "duration": 311,
    "start_time": "2024-03-13T17:27:51.310Z"
   },
   {
    "duration": 13,
    "start_time": "2024-03-13T17:27:51.623Z"
   },
   {
    "duration": 22,
    "start_time": "2024-03-13T17:27:51.637Z"
   },
   {
    "duration": 122,
    "start_time": "2024-03-13T17:27:51.661Z"
   },
   {
    "duration": 7,
    "start_time": "2024-03-13T17:30:10.923Z"
   },
   {
    "duration": 1307,
    "start_time": "2024-03-13T17:30:21.691Z"
   },
   {
    "duration": 70,
    "start_time": "2024-03-13T17:30:23.000Z"
   },
   {
    "duration": 10,
    "start_time": "2024-03-13T17:30:23.071Z"
   },
   {
    "duration": 13,
    "start_time": "2024-03-13T17:30:23.082Z"
   },
   {
    "duration": 15,
    "start_time": "2024-03-13T17:30:23.096Z"
   },
   {
    "duration": 26,
    "start_time": "2024-03-13T17:30:23.112Z"
   },
   {
    "duration": 10,
    "start_time": "2024-03-13T17:30:23.140Z"
   },
   {
    "duration": 32,
    "start_time": "2024-03-13T17:30:23.152Z"
   },
   {
    "duration": 36,
    "start_time": "2024-03-13T17:30:23.185Z"
   },
   {
    "duration": 392,
    "start_time": "2024-03-13T17:30:23.223Z"
   },
   {
    "duration": 669,
    "start_time": "2024-03-13T17:30:23.616Z"
   },
   {
    "duration": 12672,
    "start_time": "2024-03-13T17:30:24.286Z"
   },
   {
    "duration": 295,
    "start_time": "2024-03-13T17:30:36.959Z"
   },
   {
    "duration": 6,
    "start_time": "2024-03-13T17:30:37.255Z"
   },
   {
    "duration": 12,
    "start_time": "2024-03-13T17:30:37.262Z"
   },
   {
    "duration": 5,
    "start_time": "2024-03-13T17:30:37.276Z"
   },
   {
    "duration": 76,
    "start_time": "2024-03-13T17:35:36.060Z"
   },
   {
    "duration": 1406,
    "start_time": "2024-03-13T17:37:11.615Z"
   },
   {
    "duration": 73,
    "start_time": "2024-03-13T17:37:13.023Z"
   },
   {
    "duration": 11,
    "start_time": "2024-03-13T17:37:13.097Z"
   },
   {
    "duration": 14,
    "start_time": "2024-03-13T17:37:13.110Z"
   },
   {
    "duration": 4,
    "start_time": "2024-03-13T17:37:13.125Z"
   },
   {
    "duration": 8,
    "start_time": "2024-03-13T17:37:13.133Z"
   },
   {
    "duration": 9,
    "start_time": "2024-03-13T17:37:13.142Z"
   },
   {
    "duration": 10,
    "start_time": "2024-03-13T17:37:13.153Z"
   },
   {
    "duration": 30,
    "start_time": "2024-03-13T17:37:13.165Z"
   },
   {
    "duration": 424,
    "start_time": "2024-03-13T17:37:13.232Z"
   },
   {
    "duration": 708,
    "start_time": "2024-03-13T17:37:13.657Z"
   },
   {
    "duration": 12415,
    "start_time": "2024-03-13T17:37:14.367Z"
   },
   {
    "duration": 320,
    "start_time": "2024-03-13T17:37:26.783Z"
   },
   {
    "duration": 8,
    "start_time": "2024-03-13T17:37:27.105Z"
   },
   {
    "duration": 29,
    "start_time": "2024-03-13T17:37:27.115Z"
   },
   {
    "duration": 6,
    "start_time": "2024-03-13T17:37:27.145Z"
   },
   {
    "duration": 14,
    "start_time": "2024-03-13T17:41:09.945Z"
   },
   {
    "duration": 7,
    "start_time": "2024-03-13T17:41:20.117Z"
   },
   {
    "duration": 104,
    "start_time": "2024-03-13T17:41:58.948Z"
   },
   {
    "duration": 7,
    "start_time": "2024-03-13T17:42:24.232Z"
   },
   {
    "duration": 7,
    "start_time": "2024-03-13T17:42:34.178Z"
   },
   {
    "duration": 11,
    "start_time": "2024-03-13T17:43:18.542Z"
   },
   {
    "duration": 11,
    "start_time": "2024-03-13T17:45:49.619Z"
   },
   {
    "duration": 13,
    "start_time": "2024-03-13T17:47:28.034Z"
   },
   {
    "duration": 93,
    "start_time": "2024-03-13T17:47:29.015Z"
   },
   {
    "duration": 70,
    "start_time": "2024-03-13T17:48:10.768Z"
   },
   {
    "duration": 10,
    "start_time": "2024-03-13T17:48:15.137Z"
   },
   {
    "duration": 97,
    "start_time": "2024-03-13T17:48:15.746Z"
   },
   {
    "duration": 1312,
    "start_time": "2024-03-13T17:49:14.665Z"
   },
   {
    "duration": 70,
    "start_time": "2024-03-13T17:49:15.978Z"
   },
   {
    "duration": 11,
    "start_time": "2024-03-13T17:49:16.049Z"
   },
   {
    "duration": 10,
    "start_time": "2024-03-13T17:49:16.061Z"
   },
   {
    "duration": 5,
    "start_time": "2024-03-13T17:49:16.072Z"
   },
   {
    "duration": 13,
    "start_time": "2024-03-13T17:49:16.079Z"
   },
   {
    "duration": 9,
    "start_time": "2024-03-13T17:49:16.094Z"
   },
   {
    "duration": 43,
    "start_time": "2024-03-13T17:49:16.105Z"
   },
   {
    "duration": 30,
    "start_time": "2024-03-13T17:49:16.150Z"
   },
   {
    "duration": 422,
    "start_time": "2024-03-13T17:49:16.182Z"
   },
   {
    "duration": 642,
    "start_time": "2024-03-13T17:49:16.606Z"
   },
   {
    "duration": 12545,
    "start_time": "2024-03-13T17:49:17.250Z"
   },
   {
    "duration": 348,
    "start_time": "2024-03-13T17:49:29.797Z"
   },
   {
    "duration": 6,
    "start_time": "2024-03-13T17:49:30.146Z"
   },
   {
    "duration": 34,
    "start_time": "2024-03-13T17:49:30.153Z"
   },
   {
    "duration": 154,
    "start_time": "2024-03-13T17:49:30.188Z"
   },
   {
    "duration": 14,
    "start_time": "2024-03-13T17:49:30.343Z"
   },
   {
    "duration": 78,
    "start_time": "2024-03-13T17:49:30.359Z"
   },
   {
    "duration": 12,
    "start_time": "2024-03-13T17:50:29.366Z"
   },
   {
    "duration": 15,
    "start_time": "2024-03-13T17:51:16.438Z"
   },
   {
    "duration": 1373,
    "start_time": "2024-03-13T17:51:42.755Z"
   },
   {
    "duration": 73,
    "start_time": "2024-03-13T17:51:44.130Z"
   },
   {
    "duration": 10,
    "start_time": "2024-03-13T17:51:44.204Z"
   },
   {
    "duration": 14,
    "start_time": "2024-03-13T17:51:44.216Z"
   },
   {
    "duration": 21,
    "start_time": "2024-03-13T17:51:44.232Z"
   },
   {
    "duration": 18,
    "start_time": "2024-03-13T17:51:44.256Z"
   },
   {
    "duration": 32,
    "start_time": "2024-03-13T17:51:44.275Z"
   },
   {
    "duration": 42,
    "start_time": "2024-03-13T17:51:44.308Z"
   },
   {
    "duration": 24,
    "start_time": "2024-03-13T17:51:44.351Z"
   },
   {
    "duration": 416,
    "start_time": "2024-03-13T17:51:44.377Z"
   },
   {
    "duration": 750,
    "start_time": "2024-03-13T17:51:44.795Z"
   },
   {
    "duration": 12792,
    "start_time": "2024-03-13T17:51:45.548Z"
   },
   {
    "duration": 317,
    "start_time": "2024-03-13T17:51:58.342Z"
   },
   {
    "duration": 8,
    "start_time": "2024-03-13T17:51:58.660Z"
   },
   {
    "duration": 34,
    "start_time": "2024-03-13T17:51:58.669Z"
   },
   {
    "duration": 93,
    "start_time": "2024-03-13T17:51:58.705Z"
   },
   {
    "duration": 11,
    "start_time": "2024-03-13T17:51:58.799Z"
   },
   {
    "duration": 6,
    "start_time": "2024-03-13T17:51:58.812Z"
   },
   {
    "duration": 1573,
    "start_time": "2024-03-14T10:09:39.252Z"
   },
   {
    "duration": 184,
    "start_time": "2024-03-14T10:09:40.828Z"
   },
   {
    "duration": 13,
    "start_time": "2024-03-14T10:09:41.014Z"
   },
   {
    "duration": 7,
    "start_time": "2024-03-14T10:09:41.029Z"
   },
   {
    "duration": 9,
    "start_time": "2024-03-14T10:09:41.037Z"
   },
   {
    "duration": 12,
    "start_time": "2024-03-14T10:09:41.047Z"
   },
   {
    "duration": 10,
    "start_time": "2024-03-14T10:09:41.061Z"
   },
   {
    "duration": 51,
    "start_time": "2024-03-14T10:09:41.073Z"
   },
   {
    "duration": 29,
    "start_time": "2024-03-14T10:09:41.126Z"
   },
   {
    "duration": 500,
    "start_time": "2024-03-14T10:09:41.158Z"
   },
   {
    "duration": 707,
    "start_time": "2024-03-14T10:09:41.660Z"
   },
   {
    "duration": 13490,
    "start_time": "2024-03-14T10:09:42.369Z"
   },
   {
    "duration": 335,
    "start_time": "2024-03-14T10:09:55.861Z"
   },
   {
    "duration": 6,
    "start_time": "2024-03-14T10:09:56.197Z"
   },
   {
    "duration": 35,
    "start_time": "2024-03-14T10:09:56.204Z"
   },
   {
    "duration": 103,
    "start_time": "2024-03-14T10:09:56.241Z"
   },
   {
    "duration": 14,
    "start_time": "2024-03-14T10:09:56.345Z"
   },
   {
    "duration": 6,
    "start_time": "2024-03-14T10:09:56.361Z"
   },
   {
    "duration": 559,
    "start_time": "2024-03-14T10:10:44.628Z"
   }
  ],
  "kernelspec": {
   "display_name": "Python 3 (ipykernel)",
   "language": "python",
   "name": "python3"
  },
  "language_info": {
   "codemirror_mode": {
    "name": "ipython",
    "version": 3
   },
   "file_extension": ".py",
   "mimetype": "text/x-python",
   "name": "python",
   "nbconvert_exporter": "python",
   "pygments_lexer": "ipython3",
   "version": "3.9.5"
  },
  "toc": {
   "base_numbering": 1,
   "nav_menu": {},
   "number_sections": true,
   "sideBar": true,
   "skip_h1_title": true,
   "title_cell": "Table of Contents",
   "title_sidebar": "Contents",
   "toc_cell": false,
   "toc_position": {
    "height": "calc(100% - 180px)",
    "left": "10px",
    "top": "150px",
    "width": "384px"
   },
   "toc_section_display": true,
   "toc_window_display": true
  }
 },
 "nbformat": 4,
 "nbformat_minor": 2
}
