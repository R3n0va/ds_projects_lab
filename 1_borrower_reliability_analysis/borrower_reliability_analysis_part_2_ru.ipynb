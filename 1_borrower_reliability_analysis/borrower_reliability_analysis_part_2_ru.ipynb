{
 "cells": [
  {
   "cell_type": "markdown",
   "id": "f8d26ad3",
   "metadata": {
    "deletable": false,
    "editable": false,
    "id": "c81daeeb"
   },
   "source": [
    "# Исследование надежности заемщиков\n"
   ]
  },
  {
   "cell_type": "markdown",
   "id": "6ced5e4e",
   "metadata": {
    "deletable": false,
    "editable": false,
    "id": "744d7639"
   },
   "source": [
    "## Откройте таблицу и изучите общую информацию о данных"
   ]
  },
  {
   "cell_type": "markdown",
   "id": "30b3f587",
   "metadata": {
    "deletable": false,
    "editable": false,
    "id": "e7a14c31"
   },
   "source": [
    "**Задание 1. Импортируйте библиотеку pandas. Считайте данные из csv-файла в датафрейм и сохраните в переменную `data`. Путь к файлу:**\n",
    "\n",
    "`/datasets/data.csv`"
   ]
  },
  {
   "cell_type": "code",
   "execution_count": 2,
   "id": "6aeea39d",
   "metadata": {
    "deletable": false,
    "id": "7bcf75c9"
   },
   "outputs": [],
   "source": [
    "import pandas as pd\n",
    "\n",
    "try:\n",
    "    data = pd.read_csv('/datasets/data.csv')\n",
    "except:\n",
    "    data = pd.read_csv('https://code.s3.yandex.net/datasets/data.csv')"
   ]
  },
  {
   "cell_type": "markdown",
   "id": "bca381a8",
   "metadata": {
    "deletable": false,
    "editable": false,
    "id": "b8038fe3"
   },
   "source": [
    "**Задание 2. Выведите первые 20 строчек датафрейма `data` на экран.**"
   ]
  },
  {
   "cell_type": "code",
   "execution_count": 3,
   "id": "430f4aba",
   "metadata": {
    "deletable": false,
    "id": "2a7cab99",
    "outputId": "1a8f3ef2-d323-4ec2-ddf7-89670b5944c4"
   },
   "outputs": [
    {
     "data": {
      "text/html": [
       "<div>\n",
       "<style scoped>\n",
       "    .dataframe tbody tr th:only-of-type {\n",
       "        vertical-align: middle;\n",
       "    }\n",
       "\n",
       "    .dataframe tbody tr th {\n",
       "        vertical-align: top;\n",
       "    }\n",
       "\n",
       "    .dataframe thead th {\n",
       "        text-align: right;\n",
       "    }\n",
       "</style>\n",
       "<table border=\"1\" class=\"dataframe\">\n",
       "  <thead>\n",
       "    <tr style=\"text-align: right;\">\n",
       "      <th></th>\n",
       "      <th>children</th>\n",
       "      <th>days_employed</th>\n",
       "      <th>dob_years</th>\n",
       "      <th>education</th>\n",
       "      <th>education_id</th>\n",
       "      <th>family_status</th>\n",
       "      <th>family_status_id</th>\n",
       "      <th>gender</th>\n",
       "      <th>income_type</th>\n",
       "      <th>debt</th>\n",
       "      <th>total_income</th>\n",
       "      <th>purpose</th>\n",
       "    </tr>\n",
       "  </thead>\n",
       "  <tbody>\n",
       "    <tr>\n",
       "      <th>0</th>\n",
       "      <td>1</td>\n",
       "      <td>-8437.673028</td>\n",
       "      <td>42</td>\n",
       "      <td>высшее</td>\n",
       "      <td>0</td>\n",
       "      <td>женат / замужем</td>\n",
       "      <td>0</td>\n",
       "      <td>F</td>\n",
       "      <td>сотрудник</td>\n",
       "      <td>0</td>\n",
       "      <td>253875.639453</td>\n",
       "      <td>покупка жилья</td>\n",
       "    </tr>\n",
       "    <tr>\n",
       "      <th>1</th>\n",
       "      <td>1</td>\n",
       "      <td>-4024.803754</td>\n",
       "      <td>36</td>\n",
       "      <td>среднее</td>\n",
       "      <td>1</td>\n",
       "      <td>женат / замужем</td>\n",
       "      <td>0</td>\n",
       "      <td>F</td>\n",
       "      <td>сотрудник</td>\n",
       "      <td>0</td>\n",
       "      <td>112080.014102</td>\n",
       "      <td>приобретение автомобиля</td>\n",
       "    </tr>\n",
       "    <tr>\n",
       "      <th>2</th>\n",
       "      <td>0</td>\n",
       "      <td>-5623.422610</td>\n",
       "      <td>33</td>\n",
       "      <td>Среднее</td>\n",
       "      <td>1</td>\n",
       "      <td>женат / замужем</td>\n",
       "      <td>0</td>\n",
       "      <td>M</td>\n",
       "      <td>сотрудник</td>\n",
       "      <td>0</td>\n",
       "      <td>145885.952297</td>\n",
       "      <td>покупка жилья</td>\n",
       "    </tr>\n",
       "    <tr>\n",
       "      <th>3</th>\n",
       "      <td>3</td>\n",
       "      <td>-4124.747207</td>\n",
       "      <td>32</td>\n",
       "      <td>среднее</td>\n",
       "      <td>1</td>\n",
       "      <td>женат / замужем</td>\n",
       "      <td>0</td>\n",
       "      <td>M</td>\n",
       "      <td>сотрудник</td>\n",
       "      <td>0</td>\n",
       "      <td>267628.550329</td>\n",
       "      <td>дополнительное образование</td>\n",
       "    </tr>\n",
       "    <tr>\n",
       "      <th>4</th>\n",
       "      <td>0</td>\n",
       "      <td>340266.072047</td>\n",
       "      <td>53</td>\n",
       "      <td>среднее</td>\n",
       "      <td>1</td>\n",
       "      <td>гражданский брак</td>\n",
       "      <td>1</td>\n",
       "      <td>F</td>\n",
       "      <td>пенсионер</td>\n",
       "      <td>0</td>\n",
       "      <td>158616.077870</td>\n",
       "      <td>сыграть свадьбу</td>\n",
       "    </tr>\n",
       "    <tr>\n",
       "      <th>5</th>\n",
       "      <td>0</td>\n",
       "      <td>-926.185831</td>\n",
       "      <td>27</td>\n",
       "      <td>высшее</td>\n",
       "      <td>0</td>\n",
       "      <td>гражданский брак</td>\n",
       "      <td>1</td>\n",
       "      <td>M</td>\n",
       "      <td>компаньон</td>\n",
       "      <td>0</td>\n",
       "      <td>255763.565419</td>\n",
       "      <td>покупка жилья</td>\n",
       "    </tr>\n",
       "    <tr>\n",
       "      <th>6</th>\n",
       "      <td>0</td>\n",
       "      <td>-2879.202052</td>\n",
       "      <td>43</td>\n",
       "      <td>высшее</td>\n",
       "      <td>0</td>\n",
       "      <td>женат / замужем</td>\n",
       "      <td>0</td>\n",
       "      <td>F</td>\n",
       "      <td>компаньон</td>\n",
       "      <td>0</td>\n",
       "      <td>240525.971920</td>\n",
       "      <td>операции с жильем</td>\n",
       "    </tr>\n",
       "    <tr>\n",
       "      <th>7</th>\n",
       "      <td>0</td>\n",
       "      <td>-152.779569</td>\n",
       "      <td>50</td>\n",
       "      <td>СРЕДНЕЕ</td>\n",
       "      <td>1</td>\n",
       "      <td>женат / замужем</td>\n",
       "      <td>0</td>\n",
       "      <td>M</td>\n",
       "      <td>сотрудник</td>\n",
       "      <td>0</td>\n",
       "      <td>135823.934197</td>\n",
       "      <td>образование</td>\n",
       "    </tr>\n",
       "    <tr>\n",
       "      <th>8</th>\n",
       "      <td>2</td>\n",
       "      <td>-6929.865299</td>\n",
       "      <td>35</td>\n",
       "      <td>ВЫСШЕЕ</td>\n",
       "      <td>0</td>\n",
       "      <td>гражданский брак</td>\n",
       "      <td>1</td>\n",
       "      <td>F</td>\n",
       "      <td>сотрудник</td>\n",
       "      <td>0</td>\n",
       "      <td>95856.832424</td>\n",
       "      <td>на проведение свадьбы</td>\n",
       "    </tr>\n",
       "    <tr>\n",
       "      <th>9</th>\n",
       "      <td>0</td>\n",
       "      <td>-2188.756445</td>\n",
       "      <td>41</td>\n",
       "      <td>среднее</td>\n",
       "      <td>1</td>\n",
       "      <td>женат / замужем</td>\n",
       "      <td>0</td>\n",
       "      <td>M</td>\n",
       "      <td>сотрудник</td>\n",
       "      <td>0</td>\n",
       "      <td>144425.938277</td>\n",
       "      <td>покупка жилья для семьи</td>\n",
       "    </tr>\n",
       "    <tr>\n",
       "      <th>10</th>\n",
       "      <td>2</td>\n",
       "      <td>-4171.483647</td>\n",
       "      <td>36</td>\n",
       "      <td>высшее</td>\n",
       "      <td>0</td>\n",
       "      <td>женат / замужем</td>\n",
       "      <td>0</td>\n",
       "      <td>M</td>\n",
       "      <td>компаньон</td>\n",
       "      <td>0</td>\n",
       "      <td>113943.491460</td>\n",
       "      <td>покупка недвижимости</td>\n",
       "    </tr>\n",
       "    <tr>\n",
       "      <th>11</th>\n",
       "      <td>0</td>\n",
       "      <td>-792.701887</td>\n",
       "      <td>40</td>\n",
       "      <td>среднее</td>\n",
       "      <td>1</td>\n",
       "      <td>женат / замужем</td>\n",
       "      <td>0</td>\n",
       "      <td>F</td>\n",
       "      <td>сотрудник</td>\n",
       "      <td>0</td>\n",
       "      <td>77069.234271</td>\n",
       "      <td>покупка коммерческой недвижимости</td>\n",
       "    </tr>\n",
       "    <tr>\n",
       "      <th>12</th>\n",
       "      <td>0</td>\n",
       "      <td>NaN</td>\n",
       "      <td>65</td>\n",
       "      <td>среднее</td>\n",
       "      <td>1</td>\n",
       "      <td>гражданский брак</td>\n",
       "      <td>1</td>\n",
       "      <td>M</td>\n",
       "      <td>пенсионер</td>\n",
       "      <td>0</td>\n",
       "      <td>NaN</td>\n",
       "      <td>сыграть свадьбу</td>\n",
       "    </tr>\n",
       "    <tr>\n",
       "      <th>13</th>\n",
       "      <td>0</td>\n",
       "      <td>-1846.641941</td>\n",
       "      <td>54</td>\n",
       "      <td>неоконченное высшее</td>\n",
       "      <td>2</td>\n",
       "      <td>женат / замужем</td>\n",
       "      <td>0</td>\n",
       "      <td>F</td>\n",
       "      <td>сотрудник</td>\n",
       "      <td>0</td>\n",
       "      <td>130458.228857</td>\n",
       "      <td>приобретение автомобиля</td>\n",
       "    </tr>\n",
       "    <tr>\n",
       "      <th>14</th>\n",
       "      <td>0</td>\n",
       "      <td>-1844.956182</td>\n",
       "      <td>56</td>\n",
       "      <td>высшее</td>\n",
       "      <td>0</td>\n",
       "      <td>гражданский брак</td>\n",
       "      <td>1</td>\n",
       "      <td>F</td>\n",
       "      <td>компаньон</td>\n",
       "      <td>1</td>\n",
       "      <td>165127.911772</td>\n",
       "      <td>покупка жилой недвижимости</td>\n",
       "    </tr>\n",
       "    <tr>\n",
       "      <th>15</th>\n",
       "      <td>1</td>\n",
       "      <td>-972.364419</td>\n",
       "      <td>26</td>\n",
       "      <td>среднее</td>\n",
       "      <td>1</td>\n",
       "      <td>женат / замужем</td>\n",
       "      <td>0</td>\n",
       "      <td>F</td>\n",
       "      <td>сотрудник</td>\n",
       "      <td>0</td>\n",
       "      <td>116820.904450</td>\n",
       "      <td>строительство собственной недвижимости</td>\n",
       "    </tr>\n",
       "    <tr>\n",
       "      <th>16</th>\n",
       "      <td>0</td>\n",
       "      <td>-1719.934226</td>\n",
       "      <td>35</td>\n",
       "      <td>среднее</td>\n",
       "      <td>1</td>\n",
       "      <td>женат / замужем</td>\n",
       "      <td>0</td>\n",
       "      <td>F</td>\n",
       "      <td>сотрудник</td>\n",
       "      <td>0</td>\n",
       "      <td>289202.704229</td>\n",
       "      <td>недвижимость</td>\n",
       "    </tr>\n",
       "    <tr>\n",
       "      <th>17</th>\n",
       "      <td>0</td>\n",
       "      <td>-2369.999720</td>\n",
       "      <td>33</td>\n",
       "      <td>высшее</td>\n",
       "      <td>0</td>\n",
       "      <td>гражданский брак</td>\n",
       "      <td>1</td>\n",
       "      <td>M</td>\n",
       "      <td>сотрудник</td>\n",
       "      <td>0</td>\n",
       "      <td>90410.586745</td>\n",
       "      <td>строительство недвижимости</td>\n",
       "    </tr>\n",
       "    <tr>\n",
       "      <th>18</th>\n",
       "      <td>0</td>\n",
       "      <td>400281.136913</td>\n",
       "      <td>53</td>\n",
       "      <td>среднее</td>\n",
       "      <td>1</td>\n",
       "      <td>вдовец / вдова</td>\n",
       "      <td>2</td>\n",
       "      <td>F</td>\n",
       "      <td>пенсионер</td>\n",
       "      <td>0</td>\n",
       "      <td>56823.777243</td>\n",
       "      <td>на покупку подержанного автомобиля</td>\n",
       "    </tr>\n",
       "    <tr>\n",
       "      <th>19</th>\n",
       "      <td>0</td>\n",
       "      <td>-10038.818549</td>\n",
       "      <td>48</td>\n",
       "      <td>СРЕДНЕЕ</td>\n",
       "      <td>1</td>\n",
       "      <td>в разводе</td>\n",
       "      <td>3</td>\n",
       "      <td>F</td>\n",
       "      <td>сотрудник</td>\n",
       "      <td>0</td>\n",
       "      <td>242831.107982</td>\n",
       "      <td>на покупку своего автомобиля</td>\n",
       "    </tr>\n",
       "  </tbody>\n",
       "</table>\n",
       "</div>"
      ],
      "text/plain": [
       "    children  days_employed  dob_years            education  education_id  \\\n",
       "0          1   -8437.673028         42               высшее             0   \n",
       "1          1   -4024.803754         36              среднее             1   \n",
       "2          0   -5623.422610         33              Среднее             1   \n",
       "3          3   -4124.747207         32              среднее             1   \n",
       "4          0  340266.072047         53              среднее             1   \n",
       "5          0    -926.185831         27               высшее             0   \n",
       "6          0   -2879.202052         43               высшее             0   \n",
       "7          0    -152.779569         50              СРЕДНЕЕ             1   \n",
       "8          2   -6929.865299         35               ВЫСШЕЕ             0   \n",
       "9          0   -2188.756445         41              среднее             1   \n",
       "10         2   -4171.483647         36               высшее             0   \n",
       "11         0    -792.701887         40              среднее             1   \n",
       "12         0            NaN         65              среднее             1   \n",
       "13         0   -1846.641941         54  неоконченное высшее             2   \n",
       "14         0   -1844.956182         56               высшее             0   \n",
       "15         1    -972.364419         26              среднее             1   \n",
       "16         0   -1719.934226         35              среднее             1   \n",
       "17         0   -2369.999720         33               высшее             0   \n",
       "18         0  400281.136913         53              среднее             1   \n",
       "19         0  -10038.818549         48              СРЕДНЕЕ             1   \n",
       "\n",
       "       family_status  family_status_id gender income_type  debt  \\\n",
       "0    женат / замужем                 0      F   сотрудник     0   \n",
       "1    женат / замужем                 0      F   сотрудник     0   \n",
       "2    женат / замужем                 0      M   сотрудник     0   \n",
       "3    женат / замужем                 0      M   сотрудник     0   \n",
       "4   гражданский брак                 1      F   пенсионер     0   \n",
       "5   гражданский брак                 1      M   компаньон     0   \n",
       "6    женат / замужем                 0      F   компаньон     0   \n",
       "7    женат / замужем                 0      M   сотрудник     0   \n",
       "8   гражданский брак                 1      F   сотрудник     0   \n",
       "9    женат / замужем                 0      M   сотрудник     0   \n",
       "10   женат / замужем                 0      M   компаньон     0   \n",
       "11   женат / замужем                 0      F   сотрудник     0   \n",
       "12  гражданский брак                 1      M   пенсионер     0   \n",
       "13   женат / замужем                 0      F   сотрудник     0   \n",
       "14  гражданский брак                 1      F   компаньон     1   \n",
       "15   женат / замужем                 0      F   сотрудник     0   \n",
       "16   женат / замужем                 0      F   сотрудник     0   \n",
       "17  гражданский брак                 1      M   сотрудник     0   \n",
       "18    вдовец / вдова                 2      F   пенсионер     0   \n",
       "19         в разводе                 3      F   сотрудник     0   \n",
       "\n",
       "     total_income                                 purpose  \n",
       "0   253875.639453                           покупка жилья  \n",
       "1   112080.014102                 приобретение автомобиля  \n",
       "2   145885.952297                           покупка жилья  \n",
       "3   267628.550329              дополнительное образование  \n",
       "4   158616.077870                         сыграть свадьбу  \n",
       "5   255763.565419                           покупка жилья  \n",
       "6   240525.971920                       операции с жильем  \n",
       "7   135823.934197                             образование  \n",
       "8    95856.832424                   на проведение свадьбы  \n",
       "9   144425.938277                 покупка жилья для семьи  \n",
       "10  113943.491460                    покупка недвижимости  \n",
       "11   77069.234271       покупка коммерческой недвижимости  \n",
       "12            NaN                         сыграть свадьбу  \n",
       "13  130458.228857                 приобретение автомобиля  \n",
       "14  165127.911772              покупка жилой недвижимости  \n",
       "15  116820.904450  строительство собственной недвижимости  \n",
       "16  289202.704229                            недвижимость  \n",
       "17   90410.586745              строительство недвижимости  \n",
       "18   56823.777243      на покупку подержанного автомобиля  \n",
       "19  242831.107982            на покупку своего автомобиля  "
      ]
     },
     "execution_count": 3,
     "metadata": {},
     "output_type": "execute_result"
    }
   ],
   "source": [
    "data.head(20)"
   ]
  },
  {
   "cell_type": "markdown",
   "id": "403c5716",
   "metadata": {
    "deletable": false,
    "editable": false,
    "id": "1c12e233"
   },
   "source": [
    "**Задание 3. Выведите основную информацию о датафрейме с помощью метода `info()`.**"
   ]
  },
  {
   "cell_type": "code",
   "execution_count": 4,
   "id": "7bade28a",
   "metadata": {
    "deletable": false,
    "id": "2b757bca",
    "outputId": "15376089-8dad-46c9-b520-c05248d43158"
   },
   "outputs": [
    {
     "name": "stdout",
     "output_type": "stream",
     "text": [
      "<class 'pandas.core.frame.DataFrame'>\n",
      "RangeIndex: 21525 entries, 0 to 21524\n",
      "Data columns (total 12 columns):\n",
      " #   Column            Non-Null Count  Dtype  \n",
      "---  ------            --------------  -----  \n",
      " 0   children          21525 non-null  int64  \n",
      " 1   days_employed     19351 non-null  float64\n",
      " 2   dob_years         21525 non-null  int64  \n",
      " 3   education         21525 non-null  object \n",
      " 4   education_id      21525 non-null  int64  \n",
      " 5   family_status     21525 non-null  object \n",
      " 6   family_status_id  21525 non-null  int64  \n",
      " 7   gender            21525 non-null  object \n",
      " 8   income_type       21525 non-null  object \n",
      " 9   debt              21525 non-null  int64  \n",
      " 10  total_income      19351 non-null  float64\n",
      " 11  purpose           21525 non-null  object \n",
      "dtypes: float64(2), int64(5), object(5)\n",
      "memory usage: 2.0+ MB\n"
     ]
    }
   ],
   "source": [
    "data.info()"
   ]
  },
  {
   "cell_type": "markdown",
   "id": "47b50d47",
   "metadata": {
    "deletable": false,
    "editable": false,
    "id": "333ec665"
   },
   "source": [
    "## Предобработка данных"
   ]
  },
  {
   "cell_type": "markdown",
   "id": "463fdbf8",
   "metadata": {
    "deletable": false,
    "editable": false,
    "id": "02d92d53"
   },
   "source": [
    "### Удаление пропусков"
   ]
  },
  {
   "cell_type": "markdown",
   "id": "086efe70",
   "metadata": {
    "deletable": false,
    "editable": false,
    "id": "cd84967c"
   },
   "source": [
    "**Задание 4. Выведите количество пропущенных значений для каждого столбца. Используйте комбинацию двух методов.**"
   ]
  },
  {
   "cell_type": "code",
   "execution_count": 5,
   "id": "6954ab31",
   "metadata": {
    "deletable": false,
    "id": "7f9b2309",
    "outputId": "81f4d817-781c-465c-ed15-91ce4446810d"
   },
   "outputs": [
    {
     "data": {
      "text/plain": [
       "children               0\n",
       "days_employed       2174\n",
       "dob_years              0\n",
       "education              0\n",
       "education_id           0\n",
       "family_status          0\n",
       "family_status_id       0\n",
       "gender                 0\n",
       "income_type            0\n",
       "debt                   0\n",
       "total_income        2174\n",
       "purpose                0\n",
       "dtype: int64"
      ]
     },
     "execution_count": 5,
     "metadata": {},
     "output_type": "execute_result"
    }
   ],
   "source": [
    "data.isna().sum()"
   ]
  },
  {
   "cell_type": "markdown",
   "id": "76d4e6c7",
   "metadata": {
    "deletable": false,
    "editable": false,
    "id": "db86e27b"
   },
   "source": [
    "**Задание 5. В двух столбцах есть пропущенные значения. Один из них — `days_employed`. Пропуски в этом столбце вы обработаете на следующем этапе. Другой столбец с пропущенными значениями — `total_income` — хранит данные о доходах. На сумму дохода сильнее всего влияет тип занятости, поэтому заполнить пропуски в этом столбце нужно медианным значением по каждому типу из столбца `income_type`. Например, у человека с типом занятости `сотрудник` пропуск в столбце `total_income` должен быть заполнен медианным доходом среди всех записей с тем же типом.**"
   ]
  },
  {
   "cell_type": "code",
   "execution_count": 6,
   "id": "0dcb4863",
   "metadata": {
    "deletable": false,
    "id": "42006a93"
   },
   "outputs": [],
   "source": [
    "for t in data['income_type'].unique():\n",
    "    data.loc[(data['income_type'] == t) & (data['total_income'].isna()), 'total_income'] = \\\n",
    "    data.loc[(data['income_type'] == t), 'total_income'].median()"
   ]
  },
  {
   "cell_type": "markdown",
   "id": "145d73a9",
   "metadata": {
    "deletable": false,
    "editable": false,
    "id": "89da5ece"
   },
   "source": [
    "### Обработка аномальных значений"
   ]
  },
  {
   "cell_type": "markdown",
   "id": "69bca59d",
   "metadata": {
    "deletable": false,
    "editable": false,
    "id": "57964554"
   },
   "source": [
    "**Задание 6. В данных могут встречаться артефакты (аномалии) — значения, которые не отражают действительность и появились по какой-то ошибке. таким артефактом будет отрицательное количество дней трудового стажа в столбце `days_employed`. Для реальных данных это нормально. Обработайте значения в этом столбце: замените все отрицательные значения положительными с помощью метода `abs()`.**"
   ]
  },
  {
   "cell_type": "code",
   "execution_count": 7,
   "id": "f91c8ab3",
   "metadata": {
    "deletable": false,
    "id": "f6f055bf"
   },
   "outputs": [],
   "source": [
    "data['days_employed'] = data['days_employed'].abs()"
   ]
  },
  {
   "cell_type": "markdown",
   "id": "d0f5444f",
   "metadata": {
    "deletable": false,
    "editable": false,
    "id": "6107dd2f"
   },
   "source": [
    "**Задание 7. Для каждого типа занятости выведите медианное значение трудового стажа `days_employed` в днях.**"
   ]
  },
  {
   "cell_type": "code",
   "execution_count": 8,
   "id": "83cbe18d",
   "metadata": {
    "deletable": false,
    "id": "85a5faf6",
    "outputId": "801ef80e-522b-4668-f34e-565af7432bcf"
   },
   "outputs": [
    {
     "data": {
      "text/plain": [
       "income_type\n",
       "безработный        366413.652744\n",
       "в декрете            3296.759962\n",
       "госслужащий          2689.368353\n",
       "компаньон            1547.382223\n",
       "пенсионер          365213.306266\n",
       "предприниматель       520.848083\n",
       "сотрудник            1574.202821\n",
       "студент               578.751554\n",
       "Name: days_employed, dtype: float64"
      ]
     },
     "execution_count": 8,
     "metadata": {},
     "output_type": "execute_result"
    }
   ],
   "source": [
    "data.groupby('income_type')['days_employed'].agg('median')"
   ]
  },
  {
   "cell_type": "markdown",
   "id": "222af975",
   "metadata": {
    "deletable": false,
    "editable": false,
    "id": "38d1a030"
   },
   "source": [
    "У двух типов (безработные и пенсионеры) получатся аномально большие значения. Исправить такие значения сложно, поэтому оставьте их как есть. Тем более этот столбец не понадобится вам для исследования."
   ]
  },
  {
   "cell_type": "markdown",
   "id": "baad22fa",
   "metadata": {
    "deletable": false,
    "editable": false,
    "id": "d8a9f147"
   },
   "source": [
    "**Задание 8. Выведите перечень уникальных значений столбца `children`.**"
   ]
  },
  {
   "cell_type": "code",
   "execution_count": 9,
   "id": "14ea4f86",
   "metadata": {
    "deletable": false,
    "id": "ef5056eb",
    "outputId": "6975b15c-7f95-4697-d16d-a0c79b657b03"
   },
   "outputs": [
    {
     "data": {
      "text/plain": [
       "array([ 1,  0,  3,  2, -1,  4, 20,  5])"
      ]
     },
     "execution_count": 9,
     "metadata": {},
     "output_type": "execute_result"
    }
   ],
   "source": [
    "data['children'].unique()"
   ]
  },
  {
   "cell_type": "markdown",
   "id": "491f8fef",
   "metadata": {
    "deletable": false,
    "editable": false,
    "id": "40b9ebf2"
   },
   "source": [
    "**Задание 9. В столбце `children` есть два аномальных значения. Удалите строки, в которых встречаются такие аномальные значения из датафрейма `data`.**"
   ]
  },
  {
   "cell_type": "code",
   "execution_count": 10,
   "id": "74e894cc",
   "metadata": {
    "deletable": false,
    "id": "3ff9801d"
   },
   "outputs": [],
   "source": [
    "data = data[(data['children'] != -1) & (data['children'] != 20)]"
   ]
  },
  {
   "cell_type": "markdown",
   "id": "9e88dfe1",
   "metadata": {
    "deletable": false,
    "editable": false,
    "id": "bbc4d0ce"
   },
   "source": [
    "**Задание 10. Ещё раз выведите перечень уникальных значений столбца `children`, чтобы убедиться, что артефакты удалены.**"
   ]
  },
  {
   "cell_type": "code",
   "execution_count": 11,
   "id": "03cb2dc4",
   "metadata": {
    "deletable": false,
    "id": "ad4fa8b7",
    "outputId": "b2097101-d49d-44d9-901b-32a65c9463d1"
   },
   "outputs": [
    {
     "data": {
      "text/plain": [
       "array([1, 0, 3, 2, 4, 5])"
      ]
     },
     "execution_count": 11,
     "metadata": {},
     "output_type": "execute_result"
    }
   ],
   "source": [
    "data['children'].unique()"
   ]
  },
  {
   "cell_type": "markdown",
   "id": "f1538376",
   "metadata": {
    "deletable": false,
    "editable": false,
    "id": "75440b63"
   },
   "source": [
    "### Удаление пропусков (продолжение)"
   ]
  },
  {
   "cell_type": "markdown",
   "id": "4105ff5b",
   "metadata": {
    "deletable": false,
    "editable": false,
    "id": "f4ea573f"
   },
   "source": [
    "**Задание 11. Заполните пропуски в столбце `days_employed` медианными значениями по каждого типа занятости `income_type`.**"
   ]
  },
  {
   "cell_type": "code",
   "execution_count": 12,
   "id": "27855951",
   "metadata": {
    "deletable": false,
    "id": "af6b1a7e"
   },
   "outputs": [],
   "source": [
    "for t in data['income_type'].unique():\n",
    "    data.loc[(data['income_type'] == t) & (data['days_employed'].isna()), 'days_employed'] = \\\n",
    "    data.loc[(data['income_type'] == t), 'days_employed'].median()"
   ]
  },
  {
   "cell_type": "markdown",
   "id": "d65d795f",
   "metadata": {
    "deletable": false,
    "editable": false,
    "id": "2753f40d"
   },
   "source": [
    "**Задание 12. Убедитесь, что все пропуски заполнены. Проверьте себя и ещё раз выведите количество пропущенных значений для каждого столбца с помощью двух методов.**"
   ]
  },
  {
   "cell_type": "code",
   "execution_count": 13,
   "id": "0feab326",
   "metadata": {
    "deletable": false,
    "id": "55f78bc2",
    "outputId": "8da1e4e1-358e-4e87-98c9-f261bce0a7b2"
   },
   "outputs": [
    {
     "data": {
      "text/plain": [
       "children            0\n",
       "days_employed       0\n",
       "dob_years           0\n",
       "education           0\n",
       "education_id        0\n",
       "family_status       0\n",
       "family_status_id    0\n",
       "gender              0\n",
       "income_type         0\n",
       "debt                0\n",
       "total_income        0\n",
       "purpose             0\n",
       "dtype: int64"
      ]
     },
     "execution_count": 13,
     "metadata": {},
     "output_type": "execute_result"
    }
   ],
   "source": [
    "data.isna().sum()"
   ]
  },
  {
   "cell_type": "markdown",
   "id": "90ffd4d6",
   "metadata": {
    "deletable": false,
    "editable": false,
    "id": "ddc81e43"
   },
   "source": [
    "### Изменение типов данных"
   ]
  },
  {
   "cell_type": "markdown",
   "id": "e20a215b",
   "metadata": {
    "deletable": false,
    "editable": false,
    "id": "42d19d24"
   },
   "source": [
    "**Задание 13. Замените вещественный тип данных в столбце `total_income` на целочисленный с помощью метода `astype()`.**"
   ]
  },
  {
   "cell_type": "code",
   "execution_count": 14,
   "id": "0c7d4acd",
   "metadata": {
    "deletable": false,
    "id": "920b65ad"
   },
   "outputs": [],
   "source": [
    "data['total_income'] = data['total_income'].astype(int)"
   ]
  },
  {
   "cell_type": "markdown",
   "id": "b1844cb7",
   "metadata": {
    "deletable": false,
    "editable": false,
    "id": "80c420ba"
   },
   "source": [
    "### Обработка дубликатов"
   ]
  },
  {
   "cell_type": "markdown",
   "id": "0806fdfc",
   "metadata": {
    "deletable": false,
    "editable": false
   },
   "source": [
    "**Задание 14. Обработайте неявные дубликаты в столбце `education`. В этом столбце есть одни и те же значения, но записанные по-разному: с использованием заглавных и строчных букв. Приведите их к нижнему регистру. Проверьте остальные столбцы.**"
   ]
  },
  {
   "cell_type": "code",
   "execution_count": 15,
   "id": "0d91f370",
   "metadata": {
    "deletable": false
   },
   "outputs": [],
   "source": [
    "data['education'] = data['education'].str.lower()"
   ]
  },
  {
   "cell_type": "markdown",
   "id": "51f9d27d",
   "metadata": {
    "deletable": false,
    "editable": false,
    "id": "dc587695"
   },
   "source": [
    "**Задание 15. Выведите на экран количество строк-дубликатов в данных. Если такие строки присутствуют, удалите их.**"
   ]
  },
  {
   "cell_type": "code",
   "execution_count": 16,
   "id": "0e70707a",
   "metadata": {
    "deletable": false,
    "id": "3ee445e4",
    "outputId": "9684deba-1934-42d1-99e1-cda61740f822"
   },
   "outputs": [
    {
     "data": {
      "text/plain": [
       "71"
      ]
     },
     "execution_count": 16,
     "metadata": {},
     "output_type": "execute_result"
    }
   ],
   "source": [
    "data.duplicated().sum()"
   ]
  },
  {
   "cell_type": "code",
   "execution_count": 17,
   "id": "b2af8496",
   "metadata": {
    "deletable": false,
    "id": "8575fe05"
   },
   "outputs": [],
   "source": [
    "data = data.drop_duplicates()"
   ]
  },
  {
   "cell_type": "markdown",
   "id": "04d6c7d7",
   "metadata": {
    "deletable": false,
    "editable": false,
    "id": "9904cf55"
   },
   "source": [
    "### Категоризация данных"
   ]
  },
  {
   "cell_type": "markdown",
   "id": "7d97a492",
   "metadata": {
    "deletable": false,
    "editable": false,
    "id": "72fcc8a2"
   },
   "source": [
    "**Задание 16. На основании диапазонов, указанных ниже, создайте в датафрейме `data` столбец `total_income_category` с категориями:**\n",
    "\n",
    "- 0–30000 — `'E'`;\n",
    "- 30001–50000 — `'D'`;\n",
    "- 50001–200000 — `'C'`;\n",
    "- 200001–1000000 — `'B'`;\n",
    "- 1000001 и выше — `'A'`.\n",
    "\n",
    "\n",
    "**Например, кредитополучателю с доходом 25000 нужно назначить категорию `'E'`, а клиенту, получающему 235000, — `'B'`. Используйте собственную функцию с именем `categorize_income()` и метод `apply()`.**"
   ]
  },
  {
   "cell_type": "code",
   "execution_count": 18,
   "id": "358a083c",
   "metadata": {
    "deletable": false,
    "id": "e1771346"
   },
   "outputs": [],
   "source": [
    "def categorize_income(income):\n",
    "    try:\n",
    "        if income <= 30000:\n",
    "            return 'E'\n",
    "        elif income <= 50000:\n",
    "            return 'D'\n",
    "        elif income <= 200000:\n",
    "            return 'C'\n",
    "        elif income <= 1000000:\n",
    "            return 'B'\n",
    "        else:\n",
    "            return 'A'\n",
    "    except:\n",
    "        pass"
   ]
  },
  {
   "cell_type": "code",
   "execution_count": 19,
   "id": "9d7df057",
   "metadata": {
    "deletable": false,
    "id": "d5f3586d"
   },
   "outputs": [],
   "source": [
    "data['total_income_category'] = data['total_income'].apply(categorize_income)"
   ]
  },
  {
   "cell_type": "markdown",
   "id": "cf99e589",
   "metadata": {
    "deletable": false,
    "editable": false,
    "id": "dde49b5c"
   },
   "source": [
    "**Задание 17. Выведите на экран перечень уникальных целей взятия кредита из столбца `purpose`.**"
   ]
  },
  {
   "cell_type": "code",
   "execution_count": 20,
   "id": "02b31ce3",
   "metadata": {
    "deletable": false,
    "id": "f67ce9b3",
    "outputId": "673c12d9-7d7e-4ae0-9812-c622c89dd244"
   },
   "outputs": [
    {
     "data": {
      "text/plain": [
       "array(['покупка жилья', 'приобретение автомобиля',\n",
       "       'дополнительное образование', 'сыграть свадьбу',\n",
       "       'операции с жильем', 'образование', 'на проведение свадьбы',\n",
       "       'покупка жилья для семьи', 'покупка недвижимости',\n",
       "       'покупка коммерческой недвижимости', 'покупка жилой недвижимости',\n",
       "       'строительство собственной недвижимости', 'недвижимость',\n",
       "       'строительство недвижимости', 'на покупку подержанного автомобиля',\n",
       "       'на покупку своего автомобиля',\n",
       "       'операции с коммерческой недвижимостью',\n",
       "       'строительство жилой недвижимости', 'жилье',\n",
       "       'операции со своей недвижимостью', 'автомобили',\n",
       "       'заняться образованием', 'сделка с подержанным автомобилем',\n",
       "       'получение образования', 'автомобиль', 'свадьба',\n",
       "       'получение дополнительного образования', 'покупка своего жилья',\n",
       "       'операции с недвижимостью', 'получение высшего образования',\n",
       "       'свой автомобиль', 'сделка с автомобилем',\n",
       "       'профильное образование', 'высшее образование',\n",
       "       'покупка жилья для сдачи', 'на покупку автомобиля', 'ремонт жилью',\n",
       "       'заняться высшим образованием'], dtype=object)"
      ]
     },
     "execution_count": 20,
     "metadata": {},
     "output_type": "execute_result"
    }
   ],
   "source": [
    "data['purpose'].unique()"
   ]
  },
  {
   "cell_type": "markdown",
   "id": "3a7ff3fb",
   "metadata": {
    "deletable": false,
    "editable": false,
    "id": "85d0aef0"
   },
   "source": [
    "**Задание 18. Создайте функцию, которая на основании данных из столбца `purpose` сформирует новый столбец `purpose_category`, в который войдут следующие категории:**\n",
    "\n",
    "- `'операции с автомобилем'`,\n",
    "- `'операции с недвижимостью'`,\n",
    "- `'проведение свадьбы'`,\n",
    "- `'получение образования'`.\n",
    "\n",
    "**Например, если в столбце `purpose` находится подстрока `'на покупку автомобиля'`, то в столбце `purpose_category` должна появиться строка `'операции с автомобилем'`.**\n",
    "\n",
    "**Используйте собственную функцию с именем `categorize_purpose()` и метод `apply()`. Изучите данные в столбце `purpose` и определите, какие подстроки помогут вам правильно определить категорию.**"
   ]
  },
  {
   "cell_type": "code",
   "execution_count": 21,
   "id": "a4a4f2c3",
   "metadata": {
    "deletable": false,
    "id": "e149fab4"
   },
   "outputs": [],
   "source": [
    "def categorize_purpose(row):\n",
    "    try:\n",
    "        if 'автом' in row:\n",
    "            return 'операции с автомобилем'\n",
    "        elif 'жил' in row or 'недвиж' in row:\n",
    "            return 'операции с недвижимостью'\n",
    "        elif 'свад' in row:\n",
    "            return 'проведение свадьбы'\n",
    "        elif 'образов' in row:\n",
    "            return 'получение образования'\n",
    "    except:\n",
    "        return 'нет категории'"
   ]
  },
  {
   "cell_type": "code",
   "execution_count": 22,
   "id": "84438142",
   "metadata": {
    "deletable": false,
    "id": "bf36e69b"
   },
   "outputs": [],
   "source": [
    "data['purpose_category'] = data['purpose'].apply(categorize_purpose)"
   ]
  },
  {
   "cell_type": "markdown",
   "id": "d4376062",
   "metadata": {
    "deletable": false,
    "editable": false,
    "id": "09b242bf"
   },
   "source": [
    "### Шаг 3. Исследуйте данные и ответьте на вопросы"
   ]
  },
  {
   "cell_type": "markdown",
   "id": "ea40ccee",
   "metadata": {
    "deletable": false,
    "editable": false,
    "id": "c5d66278"
   },
   "source": [
    "#### 3.1 Есть ли зависимость между количеством детей и возвратом кредита в срок?"
   ]
  },
  {
   "cell_type": "code",
   "execution_count": 23,
   "id": "40af70ca",
   "metadata": {
    "deletable": false,
    "id": "2cacfc4a"
   },
   "outputs": [
    {
     "data": {
      "text/plain": [
       "children\n",
       "0    14091\n",
       "1     4808\n",
       "2     2052\n",
       "3      330\n",
       "4       41\n",
       "5        9\n",
       "Name: debt, dtype: int64"
      ]
     },
     "execution_count": 23,
     "metadata": {},
     "output_type": "execute_result"
    }
   ],
   "source": [
    "# Ваш код будет здесь. Вы можете создавать новые ячейки.\n",
    "# Сначала хотелось бы понять можем ли мы использовать все категории заемщиков (по количеству детей) для оценки и анализа\n",
    "data.groupby('children')['debt'].count()"
   ]
  },
  {
   "cell_type": "code",
   "execution_count": 24,
   "id": "29d38e17",
   "metadata": {},
   "outputs": [
    {
     "data": {
      "text/plain": [
       "children\n",
       "0    1063\n",
       "1     444\n",
       "2     194\n",
       "3      27\n",
       "4       4\n",
       "5       0\n",
       "Name: debt, dtype: int64"
      ]
     },
     "execution_count": 24,
     "metadata": {},
     "output_type": "execute_result"
    }
   ],
   "source": [
    "# Выведем данные по категориям заемщиков (по количеству детей), у которых были \"проблемы\" по возврату кредитов \n",
    "data.groupby('children')['debt'].sum()\n",
    "\n",
    "#этот шаг не обязательно выводить отдельно, можно сразу перейти к следующему\n"
   ]
  },
  {
   "cell_type": "code",
   "execution_count": 25,
   "id": "2f2dc2ee",
   "metadata": {},
   "outputs": [
    {
     "data": {
      "text/plain": [
       "children\n",
       "0    7.54%\n",
       "1    9.23%\n",
       "2    9.45%\n",
       "3    8.18%\n",
       "4    9.76%\n",
       "5     0.0%\n",
       "Name: debt, dtype: object"
      ]
     },
     "execution_count": 25,
     "metadata": {},
     "output_type": "execute_result"
    }
   ],
   "source": [
    "# Следующим шагом увидим % проблемных заемщиков в группе (по количеству детей)\n",
    "ratio_by_children = data.groupby('children')['debt'].mean()\n",
    "(ratio_by_children * 100).round(2).astype(float).astype(str) + '%'"
   ]
  },
  {
   "cell_type": "code",
   "execution_count": 26,
   "id": "5536c864",
   "metadata": {},
   "outputs": [
    {
     "data": {
      "text/html": [
       "<div>\n",
       "<style scoped>\n",
       "    .dataframe tbody tr th:only-of-type {\n",
       "        vertical-align: middle;\n",
       "    }\n",
       "\n",
       "    .dataframe tbody tr th {\n",
       "        vertical-align: top;\n",
       "    }\n",
       "\n",
       "    .dataframe thead th {\n",
       "        text-align: right;\n",
       "    }\n",
       "</style>\n",
       "<table border=\"1\" class=\"dataframe\">\n",
       "  <thead>\n",
       "    <tr style=\"text-align: right;\">\n",
       "      <th></th>\n",
       "      <th>count</th>\n",
       "      <th>mean</th>\n",
       "    </tr>\n",
       "    <tr>\n",
       "      <th>children</th>\n",
       "      <th></th>\n",
       "      <th></th>\n",
       "    </tr>\n",
       "  </thead>\n",
       "  <tbody>\n",
       "    <tr>\n",
       "      <th>0</th>\n",
       "      <td>14091.0</td>\n",
       "      <td>0.075438</td>\n",
       "    </tr>\n",
       "    <tr>\n",
       "      <th>1</th>\n",
       "      <td>4808.0</td>\n",
       "      <td>0.092346</td>\n",
       "    </tr>\n",
       "    <tr>\n",
       "      <th>2</th>\n",
       "      <td>2052.0</td>\n",
       "      <td>0.094542</td>\n",
       "    </tr>\n",
       "    <tr>\n",
       "      <th>3</th>\n",
       "      <td>330.0</td>\n",
       "      <td>0.081818</td>\n",
       "    </tr>\n",
       "    <tr>\n",
       "      <th>4</th>\n",
       "      <td>41.0</td>\n",
       "      <td>0.097561</td>\n",
       "    </tr>\n",
       "    <tr>\n",
       "      <th>5</th>\n",
       "      <td>9.0</td>\n",
       "      <td>0.000000</td>\n",
       "    </tr>\n",
       "  </tbody>\n",
       "</table>\n",
       "</div>"
      ],
      "text/plain": [
       "            count      mean\n",
       "children                   \n",
       "0         14091.0  0.075438\n",
       "1          4808.0  0.092346\n",
       "2          2052.0  0.094542\n",
       "3           330.0  0.081818\n",
       "4            41.0  0.097561\n",
       "5             9.0  0.000000"
      ]
     },
     "execution_count": 26,
     "metadata": {},
     "output_type": "execute_result"
    }
   ],
   "source": [
    "# те же результаты с помощью pivot_table - в колонке count количество заемщиков в группе, \n",
    "# в колонке mean - доля проблемных заемщиков в этой группе\n",
    "data_pivot_children = data.pivot_table(index='children', values='debt', aggfunc={'count', 'mean'})\n",
    "data_pivot_children"
   ]
  },
  {
   "cell_type": "markdown",
   "id": "458acfdf",
   "metadata": {
    "deletable": false,
    "id": "3a6b99ec"
   },
   "source": [
    "**Вывод:** \n",
    "Группами с 3, 4 и 5 детьми в подготовке выводов можно пренебречь, так как эти группы очень малы относительно общего количества заемщиков(всего ~ 1.8%).\n",
    "Доля проблемных клиентов значительно меньше в группе без детей. Вероятнее всего это связанно с частыми непредвиденными расходами на нужды ребенка, а также возможно с частыми пропусками работы родителями детей в связи с болезнями. "
   ]
  },
  {
   "cell_type": "markdown",
   "id": "6f69b383",
   "metadata": {
    "deletable": false,
    "editable": false,
    "id": "97be82ca"
   },
   "source": [
    "#### 3.2 Есть ли зависимость между семейным положением и возвратом кредита в срок?"
   ]
  },
  {
   "cell_type": "code",
   "execution_count": 27,
   "id": "1ce3ec56",
   "metadata": {
    "deletable": false,
    "id": "dc3f7ee8"
   },
   "outputs": [
    {
     "data": {
      "text/plain": [
       "family_status\n",
       "Не женат / не замужем     2796\n",
       "в разводе                 1189\n",
       "вдовец / вдова             951\n",
       "гражданский брак          4134\n",
       "женат / замужем          12261\n",
       "Name: debt, dtype: int64"
      ]
     },
     "execution_count": 27,
     "metadata": {},
     "output_type": "execute_result"
    }
   ],
   "source": [
    "# Ваш код будет здесь. Вы можете создавать новые ячейки.\n",
    "# Посмотрим на количество заемщиков в разбивке по семейному положению\n",
    "data.groupby('family_status')['debt'].count()"
   ]
  },
  {
   "cell_type": "code",
   "execution_count": 28,
   "id": "55dace72",
   "metadata": {},
   "outputs": [
    {
     "data": {
      "text/plain": [
       "family_status\n",
       "Не женат / не замужем    273\n",
       "в разводе                 84\n",
       "вдовец / вдова            63\n",
       "гражданский брак         385\n",
       "женат / замужем          927\n",
       "Name: debt, dtype: int64"
      ]
     },
     "execution_count": 28,
     "metadata": {},
     "output_type": "execute_result"
    }
   ],
   "source": [
    "# Посмотрим на количество заемщиков в разбивке по семейному положению\n",
    "data.groupby('family_status')['debt'].sum()\n",
    "#этот шаг не обязательно выводить отдельно, можно сразу перейти к следующему"
   ]
  },
  {
   "cell_type": "code",
   "execution_count": 29,
   "id": "80aa58cd",
   "metadata": {},
   "outputs": [
    {
     "data": {
      "text/plain": [
       "family_status\n",
       "Не женат / не замужем    9.76%\n",
       "в разводе                7.06%\n",
       "вдовец / вдова           6.62%\n",
       "гражданский брак         9.31%\n",
       "женат / замужем          7.56%\n",
       "Name: debt, dtype: object"
      ]
     },
     "execution_count": 29,
     "metadata": {},
     "output_type": "execute_result"
    }
   ],
   "source": [
    "# Следующим шагом увидим % проблемных заемщиков в группе \n",
    "ratio_by_family_status = data.groupby('family_status')['debt'].mean()\n",
    "(ratio_by_family_status * 100).round(2).astype(float).astype(str) + '%'"
   ]
  },
  {
   "cell_type": "markdown",
   "id": "68b9162d",
   "metadata": {
    "deletable": false,
    "id": "1cef7837"
   },
   "source": [
    "**Вывод:** \n",
    "Заемщики, которые были женаты/замужем, причем не важно в каком статусе они сейчас (женат/замужем, в разводе, вдовец/вдова) статистически благонадежнее тех заемщиков, которые не состояли в браке (не женат/не замужем, граждаский брак)"
   ]
  },
  {
   "cell_type": "code",
   "execution_count": 30,
   "id": "dbfe0195",
   "metadata": {},
   "outputs": [
    {
     "data": {
      "text/html": [
       "<div>\n",
       "<style scoped>\n",
       "    .dataframe tbody tr th:only-of-type {\n",
       "        vertical-align: middle;\n",
       "    }\n",
       "\n",
       "    .dataframe tbody tr th {\n",
       "        vertical-align: top;\n",
       "    }\n",
       "\n",
       "    .dataframe thead th {\n",
       "        text-align: right;\n",
       "    }\n",
       "</style>\n",
       "<table border=\"1\" class=\"dataframe\">\n",
       "  <thead>\n",
       "    <tr style=\"text-align: right;\">\n",
       "      <th></th>\n",
       "      <th>count</th>\n",
       "      <th>mean</th>\n",
       "    </tr>\n",
       "    <tr>\n",
       "      <th>family_status</th>\n",
       "      <th></th>\n",
       "      <th></th>\n",
       "    </tr>\n",
       "  </thead>\n",
       "  <tbody>\n",
       "    <tr>\n",
       "      <th>Не женат / не замужем</th>\n",
       "      <td>2796.0</td>\n",
       "      <td>0.097639</td>\n",
       "    </tr>\n",
       "    <tr>\n",
       "      <th>в разводе</th>\n",
       "      <td>1189.0</td>\n",
       "      <td>0.070648</td>\n",
       "    </tr>\n",
       "    <tr>\n",
       "      <th>вдовец / вдова</th>\n",
       "      <td>951.0</td>\n",
       "      <td>0.066246</td>\n",
       "    </tr>\n",
       "    <tr>\n",
       "      <th>гражданский брак</th>\n",
       "      <td>4134.0</td>\n",
       "      <td>0.093130</td>\n",
       "    </tr>\n",
       "    <tr>\n",
       "      <th>женат / замужем</th>\n",
       "      <td>12261.0</td>\n",
       "      <td>0.075606</td>\n",
       "    </tr>\n",
       "  </tbody>\n",
       "</table>\n",
       "</div>"
      ],
      "text/plain": [
       "                         count      mean\n",
       "family_status                           \n",
       "Не женат / не замужем   2796.0  0.097639\n",
       "в разводе               1189.0  0.070648\n",
       "вдовец / вдова           951.0  0.066246\n",
       "гражданский брак        4134.0  0.093130\n",
       "женат / замужем        12261.0  0.075606"
      ]
     },
     "execution_count": 30,
     "metadata": {},
     "output_type": "execute_result"
    }
   ],
   "source": [
    "# получение данных через сводную таблицу\n",
    "data_pivot_family = data.pivot_table(index='family_status', values='debt', aggfunc={'count', 'mean'})\n",
    "data_pivot_family"
   ]
  },
  {
   "cell_type": "markdown",
   "id": "931ceb46",
   "metadata": {
    "deletable": false,
    "editable": false,
    "id": "1e8b2fca"
   },
   "source": [
    "#### 3.3 Есть ли зависимость между уровнем дохода и возвратом кредита в срок?"
   ]
  },
  {
   "cell_type": "code",
   "execution_count": 31,
   "id": "be537a30",
   "metadata": {},
   "outputs": [
    {
     "data": {
      "text/plain": [
       "income_category\n",
       "A       22\n",
       "B      349\n",
       "C    15921\n",
       "D     5014\n",
       "E       25\n",
       "Name: debt, dtype: int64"
      ]
     },
     "execution_count": 31,
     "metadata": {},
     "output_type": "execute_result"
    }
   ],
   "source": [
    "# Категоризация заказчика\n",
    "\n",
    "# Объявим функцию для присвоения категории уровня дохода\n",
    "def income_categorize(income):\n",
    "    try:\n",
    "        if income < 30000:\n",
    "            return 'A'\n",
    "        elif income < 50000:\n",
    "            return 'B'\n",
    "        elif income < 200000:\n",
    "            return 'C'\n",
    "        elif income < 1000000:\n",
    "            return 'D'\n",
    "        else:\n",
    "            return 'E'\n",
    "    except:\n",
    "        pass\n",
    "\n",
    "# Создадим новый столбец для категории уровня дохода и заполним его значениями с помощью созданной выше функции    \n",
    "data['income_category'] = data['total_income'].apply(income_categorize)\n",
    "\n",
    "# Посмотрим на получившееся количество в группах\n",
    "data.groupby('income_category')['debt'].count()"
   ]
  },
  {
   "cell_type": "code",
   "execution_count": 32,
   "id": "d7185caf",
   "metadata": {},
   "outputs": [
    {
     "data": {
      "text/html": [
       "<div>\n",
       "<style scoped>\n",
       "    .dataframe tbody tr th:only-of-type {\n",
       "        vertical-align: middle;\n",
       "    }\n",
       "\n",
       "    .dataframe tbody tr th {\n",
       "        vertical-align: top;\n",
       "    }\n",
       "\n",
       "    .dataframe thead th {\n",
       "        text-align: right;\n",
       "    }\n",
       "</style>\n",
       "<table border=\"1\" class=\"dataframe\">\n",
       "  <thead>\n",
       "    <tr style=\"text-align: right;\">\n",
       "      <th></th>\n",
       "      <th>count</th>\n",
       "      <th>mean</th>\n",
       "    </tr>\n",
       "    <tr>\n",
       "      <th>income_category</th>\n",
       "      <th></th>\n",
       "      <th></th>\n",
       "    </tr>\n",
       "  </thead>\n",
       "  <tbody>\n",
       "    <tr>\n",
       "      <th>A</th>\n",
       "      <td>22.0</td>\n",
       "      <td>0.090909</td>\n",
       "    </tr>\n",
       "    <tr>\n",
       "      <th>B</th>\n",
       "      <td>349.0</td>\n",
       "      <td>0.060172</td>\n",
       "    </tr>\n",
       "    <tr>\n",
       "      <th>C</th>\n",
       "      <td>15921.0</td>\n",
       "      <td>0.084982</td>\n",
       "    </tr>\n",
       "    <tr>\n",
       "      <th>D</th>\n",
       "      <td>5014.0</td>\n",
       "      <td>0.070602</td>\n",
       "    </tr>\n",
       "    <tr>\n",
       "      <th>E</th>\n",
       "      <td>25.0</td>\n",
       "      <td>0.080000</td>\n",
       "    </tr>\n",
       "  </tbody>\n",
       "</table>\n",
       "</div>"
      ],
      "text/plain": [
       "                   count      mean\n",
       "income_category                   \n",
       "A                   22.0  0.090909\n",
       "B                  349.0  0.060172\n",
       "C                15921.0  0.084982\n",
       "D                 5014.0  0.070602\n",
       "E                   25.0  0.080000"
      ]
     },
     "execution_count": 32,
     "metadata": {},
     "output_type": "execute_result"
    }
   ],
   "source": [
    "# получение данных через сводную таблицу\n",
    "data_pivot_income = data.pivot_table(index='income_category', values='debt', aggfunc={'count', 'mean'})\n",
    "data_pivot_income"
   ]
  },
  {
   "cell_type": "markdown",
   "id": "8acd5f7c",
   "metadata": {},
   "source": [
    "**Вывод:**\n",
    "1. Категоризация заказчика:\n",
    "Так как группы А, В и Е слишком малочисленны мы можем сравнить только две оставшиеся группы. Вывод из этой части исследования: заемщики с доходом от 50 до 200 тыс. менее благонадежны, чем заемщики с доходом от 200 тыс до 1 млн."
   ]
  },
  {
   "cell_type": "code",
   "execution_count": 33,
   "id": "ba0e7f6b",
   "metadata": {
    "deletable": false,
    "id": "cd7e3720"
   },
   "outputs": [
    {
     "data": {
      "text/plain": [
       "income_category\n",
       "A    4444\n",
       "B    7110\n",
       "C    4738\n",
       "D    2242\n",
       "E    2797\n",
       "Name: debt, dtype: int64"
      ]
     },
     "execution_count": 33,
     "metadata": {},
     "output_type": "execute_result"
    }
   ],
   "source": [
    "# Предлагаемая категоризация\n",
    "# Объявим функцию для присвоения категории уровня дохода\n",
    "def income_categorize(income):\n",
    "    try:\n",
    "        if income < 100000:\n",
    "            return 'A'\n",
    "        elif income < 150000:\n",
    "            return 'B'\n",
    "        elif income < 200000:\n",
    "            return 'C'\n",
    "        elif income < 250000:\n",
    "            return 'D'\n",
    "        else:\n",
    "            return 'E'\n",
    "    except:\n",
    "        pass\n",
    "\n",
    "# Создадим новый столбец для категории уровня дохода и заполним его значениями с помощью созданной выше функции    \n",
    "data['income_category'] = data['total_income'].apply(income_categorize)\n",
    "\n",
    "# Посмотрим на получившееся количество в группах\n",
    "data.groupby('income_category')['debt'].count()"
   ]
  },
  {
   "cell_type": "code",
   "execution_count": 34,
   "id": "393f5956",
   "metadata": {},
   "outputs": [
    {
     "data": {
      "text/plain": [
       "income_category\n",
       "A    7.97%\n",
       "B    8.71%\n",
       "C    8.51%\n",
       "D    7.23%\n",
       "E    6.94%\n",
       "Name: debt, dtype: object"
      ]
     },
     "execution_count": 34,
     "metadata": {},
     "output_type": "execute_result"
    }
   ],
   "source": [
    "# Следующим шагом увидим % проблемных заемщиков в группе\n",
    "ratio_by_income = data.groupby('income_category')['debt'].mean()\n",
    "(ratio_by_income * 100).round(2).astype(float).astype(str) + '%'"
   ]
  },
  {
   "cell_type": "code",
   "execution_count": 32,
   "id": "058853ac",
   "metadata": {},
   "outputs": [
    {
     "data": {
      "text/html": [
       "<div>\n",
       "<style scoped>\n",
       "    .dataframe tbody tr th:only-of-type {\n",
       "        vertical-align: middle;\n",
       "    }\n",
       "\n",
       "    .dataframe tbody tr th {\n",
       "        vertical-align: top;\n",
       "    }\n",
       "\n",
       "    .dataframe thead th {\n",
       "        text-align: right;\n",
       "    }\n",
       "</style>\n",
       "<table border=\"1\" class=\"dataframe\">\n",
       "  <thead>\n",
       "    <tr style=\"text-align: right;\">\n",
       "      <th></th>\n",
       "      <th>count</th>\n",
       "      <th>mean</th>\n",
       "    </tr>\n",
       "    <tr>\n",
       "      <th>income_category</th>\n",
       "      <th></th>\n",
       "      <th></th>\n",
       "    </tr>\n",
       "  </thead>\n",
       "  <tbody>\n",
       "    <tr>\n",
       "      <th>A</th>\n",
       "      <td>4444.0</td>\n",
       "      <td>0.079658</td>\n",
       "    </tr>\n",
       "    <tr>\n",
       "      <th>B</th>\n",
       "      <td>7110.0</td>\n",
       "      <td>0.087060</td>\n",
       "    </tr>\n",
       "    <tr>\n",
       "      <th>C</th>\n",
       "      <td>4738.0</td>\n",
       "      <td>0.085057</td>\n",
       "    </tr>\n",
       "    <tr>\n",
       "      <th>D</th>\n",
       "      <td>2242.0</td>\n",
       "      <td>0.072257</td>\n",
       "    </tr>\n",
       "    <tr>\n",
       "      <th>E</th>\n",
       "      <td>2797.0</td>\n",
       "      <td>0.069360</td>\n",
       "    </tr>\n",
       "  </tbody>\n",
       "</table>\n",
       "</div>"
      ],
      "text/plain": [
       "                  count      mean\n",
       "income_category                  \n",
       "A                4444.0  0.079658\n",
       "B                7110.0  0.087060\n",
       "C                4738.0  0.085057\n",
       "D                2242.0  0.072257\n",
       "E                2797.0  0.069360"
      ]
     },
     "execution_count": 32,
     "metadata": {},
     "output_type": "execute_result"
    }
   ],
   "source": [
    "# получение данных через сводную таблицу\n",
    "data_pivot_income = data.pivot_table(index='income_category', values='debt', aggfunc={'count', 'mean'})\n",
    "data_pivot_income"
   ]
  },
  {
   "cell_type": "markdown",
   "id": "bd493f5d",
   "metadata": {
    "deletable": false,
    "id": "e8593def"
   },
   "source": [
    "**Вывод:**\n",
    "2. Предлагаемая категоризация:\n",
    "Меньше всего проблем с возвратом кредитов у заемщиков с уровнем дохода более 250.000 (группа Е), и больше всего проблем у заемщиков с доходами в диапазоне от 100.000 до 200.000 (группы В и С)"
   ]
  },
  {
   "cell_type": "markdown",
   "id": "931bac00",
   "metadata": {
    "deletable": false,
    "editable": false,
    "id": "99ecbd1f"
   },
   "source": [
    "#### 3.4 Как разные цели кредита влияют на его возврат в срок?"
   ]
  },
  {
   "cell_type": "code",
   "execution_count": 33,
   "id": "4a92345c",
   "metadata": {
    "deletable": false,
    "id": "2b687290"
   },
   "outputs": [
    {
     "data": {
      "text/plain": [
       "purpose_category\n",
       "операции с автомобилем       4279\n",
       "операции с недвижимостью    10751\n",
       "получение образования        3988\n",
       "проведение свадьбы           2313\n",
       "Name: debt, dtype: int64"
      ]
     },
     "execution_count": 33,
     "metadata": {},
     "output_type": "execute_result"
    }
   ],
   "source": [
    "# Посмотрим на распределение заемщиков по группам (по цели кредита)\n",
    "data.groupby('purpose_category')['debt'].count()"
   ]
  },
  {
   "cell_type": "code",
   "execution_count": 34,
   "id": "0dfce7b5",
   "metadata": {},
   "outputs": [
    {
     "data": {
      "text/plain": [
       "purpose_category\n",
       "операции с автомобилем      9.35%\n",
       "операции с недвижимостью    7.26%\n",
       "получение образования       9.25%\n",
       "проведение свадьбы          7.91%\n",
       "Name: debt, dtype: object"
      ]
     },
     "execution_count": 34,
     "metadata": {},
     "output_type": "execute_result"
    }
   ],
   "source": [
    "# Посмотрим на распределение заемщиков по группам (по цели кредита)\n",
    "ratio_by_purpose = data.groupby('purpose_category')['debt'].mean()\n",
    "(ratio_by_purpose * 100).round(2).astype(float).astype(str) + '%'"
   ]
  },
  {
   "cell_type": "code",
   "execution_count": 35,
   "id": "d85e0452",
   "metadata": {},
   "outputs": [
    {
     "data": {
      "text/html": [
       "<div>\n",
       "<style scoped>\n",
       "    .dataframe tbody tr th:only-of-type {\n",
       "        vertical-align: middle;\n",
       "    }\n",
       "\n",
       "    .dataframe tbody tr th {\n",
       "        vertical-align: top;\n",
       "    }\n",
       "\n",
       "    .dataframe thead th {\n",
       "        text-align: right;\n",
       "    }\n",
       "</style>\n",
       "<table border=\"1\" class=\"dataframe\">\n",
       "  <thead>\n",
       "    <tr style=\"text-align: right;\">\n",
       "      <th></th>\n",
       "      <th>count</th>\n",
       "      <th>mean</th>\n",
       "    </tr>\n",
       "    <tr>\n",
       "      <th>purpose_category</th>\n",
       "      <th></th>\n",
       "      <th></th>\n",
       "    </tr>\n",
       "  </thead>\n",
       "  <tbody>\n",
       "    <tr>\n",
       "      <th>операции с автомобилем</th>\n",
       "      <td>4279.0</td>\n",
       "      <td>0.093480</td>\n",
       "    </tr>\n",
       "    <tr>\n",
       "      <th>операции с недвижимостью</th>\n",
       "      <td>10751.0</td>\n",
       "      <td>0.072551</td>\n",
       "    </tr>\n",
       "    <tr>\n",
       "      <th>получение образования</th>\n",
       "      <td>3988.0</td>\n",
       "      <td>0.092528</td>\n",
       "    </tr>\n",
       "    <tr>\n",
       "      <th>проведение свадьбы</th>\n",
       "      <td>2313.0</td>\n",
       "      <td>0.079118</td>\n",
       "    </tr>\n",
       "  </tbody>\n",
       "</table>\n",
       "</div>"
      ],
      "text/plain": [
       "                            count      mean\n",
       "purpose_category                           \n",
       "операции с автомобилем     4279.0  0.093480\n",
       "операции с недвижимостью  10751.0  0.072551\n",
       "получение образования      3988.0  0.092528\n",
       "проведение свадьбы         2313.0  0.079118"
      ]
     },
     "execution_count": 35,
     "metadata": {},
     "output_type": "execute_result"
    }
   ],
   "source": [
    "# получение данных через сводную таблицу\n",
    "data_pivot_purpose = data.pivot_table(index='purpose_category', values='debt', aggfunc={'count', 'mean'})\n",
    "data_pivot_purpose"
   ]
  },
  {
   "cell_type": "markdown",
   "id": "45f0dbea",
   "metadata": {
    "deletable": false,
    "id": "b4bb2ce6"
   },
   "source": [
    "**Вывод:**\n",
    "Меньше проблем с возвратом кредитов у заемщиков с целями недвижимость и свадьба. К обоим решениям подходят очень ответственно и серьезно. Создание семьи - это самый ответственный шаг для человека, а \"крыша над головой\" это основа благосостояния.\n",
    "\n",
    "Aвтомобиль это ТС повышенной опасности и возможными крупными дополнительными расходами (ремонт/обслуживание), а для заемщиков в категории \"образование\" одной из возможных причин возникновения проблем может стать сложность совмещения работы и образования и как следствие появление финансовых сложностей."
   ]
  },
  {
   "cell_type": "markdown",
   "id": "d550ca80",
   "metadata": {
    "deletable": false,
    "editable": false,
    "id": "09c3ac4c"
   },
   "source": [
    "#### 3.5 Приведите возможные причины появления пропусков в исходных данных."
   ]
  },
  {
   "cell_type": "markdown",
   "id": "eef7bfbe",
   "metadata": {
    "deletable": false,
    "id": "9da2ceda"
   },
   "source": [
    "*Ответ:* \n",
    "Заемщики могут не заполнять определенные поля в анкетах или онлайн-формах, по ошибке(или сознательно) пропуская важные сведения.\n",
    "Некоторые поля могут быть необязательными для заполнения.\n",
    "Могут возникать технические ошибки/сбои в процессе получения, сохранения и передачи информации от заемщиков.\n",
    "Возможны ошибки в программном обеспечении или системных процессах, которые приводят к пропускам."
   ]
  },
  {
   "cell_type": "markdown",
   "id": "5c3aa982",
   "metadata": {
    "deletable": false,
    "editable": false,
    "id": "7b0487d6"
   },
   "source": [
    "#### 3.6 Объясните, почему заполнить пропуски медианным значением — лучшее решение для количественных переменных."
   ]
  },
  {
   "cell_type": "markdown",
   "id": "e9742b2e",
   "metadata": {
    "deletable": false,
    "id": "7ecf2b8e"
   },
   "source": [
    "*Ответ:*\n",
    "Медианное значение позволяет минимизировать влияние экстремальных значений(когда некоторые значения сильно выделяются среди большинства). Например в штате из 5 человек четверо получают зарплату 5 тыс, а один 80 тыс - в среднем по 20 тыс, что не будет являться корректным описанием выборки. Можно либо поработать с данными до анализа и исключить слишком выдающиеся результаты либо взять медиану, которая в данном случае = 5 тыс. и более корректно покажет ситуацию для большинства в выбранной группе."
   ]
  },
  {
   "cell_type": "markdown",
   "id": "2577c878",
   "metadata": {
    "deletable": false,
    "editable": false,
    "id": "6db5255a"
   },
   "source": [
    "### Шаг 4: общий вывод."
   ]
  },
  {
   "cell_type": "markdown",
   "id": "4fd80ce2",
   "metadata": {
    "deletable": false,
    "id": "bad65432"
   },
   "source": [
    "Описание проекта\n",
    "Заказчик — кредитный отдел банка. Нужно разобраться, влияет ли семейное положение и количество детей клиента на факт погашения кредита в срок. Входные данные от банка — статистика о платёжеспособности клиентов.\n",
    "Результаты исследования будут учтены при построении модели кредитного скоринга — специальной системы, которая оценивает способность потенциального заёмщика вернуть кредит банку.\n",
    "\n",
    "\n",
    "Описание данных\n",
    "таблица состоящая из 12 столбцов и 21525 строк\n",
    "\n",
    "children — количество детей в семье\n",
    "days_employed — общий трудовой стаж в днях\n",
    "dob_years — возраст клиента в годах\n",
    "education — уровень образования клиента\n",
    "education_id — идентификатор уровня образования\n",
    "family_status — семейное положение\n",
    "family_status_id — идентификатор семейного положения\n",
    "gender — пол клиента\n",
    "income_type — тип занятости\n",
    "debt — имел ли задолженность по возврату кредитов\n",
    "total_income — ежемесячный доход\n",
    "purpose — цель получения кредита\n",
    "\n",
    "Для проведения анализа были осуществлены следующие шаги:\n",
    "*изучены предоставленые данные\n",
    "*выявлены пропуски информации, ценность пропущенной информации и возможность ее восполнения\n",
    "*проведена категоризация данных для целей анализа\n",
    "*где возможно, данные были восполнены усредненными(медианными) значениями с учетом проведенной категоризации\n",
    "*проведен анализ параметров/данных/статуса заемщиков и кредитов для выявления взаимосвязи с уровнем риска возникновения проблем по возврату\n",
    "\n",
    "Результатом анализа являются ответы на вопросы:\n",
    "Есть ли зависимость между количеством детей и возвратом кредита в срок?\n",
    "Есть ли зависимость между семейным положением и возвратом кредита в срок?\n",
    "Есть ли зависимость между уровнем дохода и возвратом кредита в срок?\n",
    "Как разные цели кредита влияют на его возврат в срок?\n",
    "\n",
    "По результату проведенного исследования установлено, что:\n",
    "Когда-либо состоявшие в браке/ либо состоящие сейчас, не имеющие детей, имеющие ежемесячный доход от 200 тыс до 1 млн. (либо при использовании предлагаемой категоризации от 200 тыс.) и взявшие кредит для покупки недвижимости - это самые благонадежные заемщики.\n",
    "Не оформившие свои отношения официально (не женатыые/не замужем), имеющие двоих детей, доход от 50 до 200 тыс (либо при использовании предлагаемой категоризации от 100 до 200 тыс.) и взявшие кредит для покупки авто - это группа с наибольшим уровнем риска.\n",
    "\n",
    "\n",
    "В качестве рекомендации:\n",
    "рассмотреть другие уровни дохода для категоризации - для более корректной оценки влияния доходов на платежеспособность\n",
    "рассмотреть сгруппированные данные сразу по нескольким предложенным проблемным вопросам - например сравнить платежеспособность заемщиков с самым высоким доходом с детьми и без детей. \n",
    "\n",
    "\n",
    "\n"
   ]
  }
 ],
 "metadata": {
  "ExecuteTimeLog": [
   {
    "duration": 43,
    "start_time": "2024-02-01T18:51:48.624Z"
   },
   {
    "duration": 401,
    "start_time": "2024-02-01T18:51:56.497Z"
   },
   {
    "duration": 20,
    "start_time": "2024-02-01T18:51:59.165Z"
   },
   {
    "duration": 14,
    "start_time": "2024-02-01T18:52:01.106Z"
   },
   {
    "duration": 11,
    "start_time": "2024-02-01T18:52:03.446Z"
   },
   {
    "duration": 33,
    "start_time": "2024-02-01T18:52:04.860Z"
   },
   {
    "duration": 3,
    "start_time": "2024-02-01T18:52:06.351Z"
   },
   {
    "duration": 10,
    "start_time": "2024-02-01T18:52:07.622Z"
   },
   {
    "duration": 4,
    "start_time": "2024-02-01T18:52:10.831Z"
   },
   {
    "duration": 6,
    "start_time": "2024-02-01T18:52:12.381Z"
   },
   {
    "duration": 4,
    "start_time": "2024-02-01T18:52:13.909Z"
   },
   {
    "duration": 32,
    "start_time": "2024-02-01T18:52:17.492Z"
   },
   {
    "duration": 10,
    "start_time": "2024-02-01T18:52:19.214Z"
   },
   {
    "duration": 3,
    "start_time": "2024-02-01T18:52:25.159Z"
   },
   {
    "duration": 10,
    "start_time": "2024-02-01T18:52:26.340Z"
   },
   {
    "duration": 18,
    "start_time": "2024-02-01T18:52:27.797Z"
   },
   {
    "duration": 15,
    "start_time": "2024-02-01T18:52:28.255Z"
   },
   {
    "duration": 3,
    "start_time": "2024-02-01T18:52:29.766Z"
   },
   {
    "duration": 10,
    "start_time": "2024-02-01T18:52:30.690Z"
   },
   {
    "duration": 6,
    "start_time": "2024-02-01T18:52:31.903Z"
   },
   {
    "duration": 3,
    "start_time": "2024-02-01T18:52:33.325Z"
   },
   {
    "duration": 8,
    "start_time": "2024-02-01T18:52:34.236Z"
   },
   {
    "duration": 5,
    "start_time": "2024-02-01T18:52:36.529Z"
   },
   {
    "duration": 19,
    "start_time": "2024-02-01T18:52:52.491Z"
   },
   {
    "duration": 6,
    "start_time": "2024-02-01T18:53:56.758Z"
   },
   {
    "duration": 5,
    "start_time": "2024-02-01T18:54:05.184Z"
   },
   {
    "duration": 21,
    "start_time": "2024-02-01T18:56:09.973Z"
   },
   {
    "duration": 7,
    "start_time": "2024-02-01T18:57:43.544Z"
   },
   {
    "duration": 9,
    "start_time": "2024-02-01T18:58:03.341Z"
   },
   {
    "duration": 22,
    "start_time": "2024-02-01T18:58:10.885Z"
   },
   {
    "duration": 6,
    "start_time": "2024-02-01T18:59:15.978Z"
   },
   {
    "duration": 831,
    "start_time": "2024-02-01T18:59:46.477Z"
   },
   {
    "duration": 4,
    "start_time": "2024-02-01T19:01:28.190Z"
   },
   {
    "duration": 6,
    "start_time": "2024-02-01T19:01:39.679Z"
   },
   {
    "duration": 10,
    "start_time": "2024-02-01T19:02:37.459Z"
   },
   {
    "duration": 7,
    "start_time": "2024-02-01T19:02:46.293Z"
   },
   {
    "duration": 6,
    "start_time": "2024-02-01T19:03:06.494Z"
   },
   {
    "duration": 6,
    "start_time": "2024-02-01T19:03:11.260Z"
   },
   {
    "duration": 6,
    "start_time": "2024-02-01T19:03:51.918Z"
   },
   {
    "duration": 7,
    "start_time": "2024-02-01T19:04:00.309Z"
   },
   {
    "duration": 5,
    "start_time": "2024-02-01T19:05:40.353Z"
   },
   {
    "duration": 5,
    "start_time": "2024-02-01T19:05:49.485Z"
   },
   {
    "duration": 8,
    "start_time": "2024-02-01T19:06:25.206Z"
   },
   {
    "duration": 8,
    "start_time": "2024-02-01T19:07:04.949Z"
   },
   {
    "duration": 7,
    "start_time": "2024-02-01T19:08:08.582Z"
   },
   {
    "duration": 4,
    "start_time": "2024-02-01T19:08:33.866Z"
   },
   {
    "duration": 73,
    "start_time": "2024-02-01T19:18:47.683Z"
   },
   {
    "duration": 5,
    "start_time": "2024-02-01T19:18:58.904Z"
   },
   {
    "duration": 5,
    "start_time": "2024-02-01T19:21:36.574Z"
   },
   {
    "duration": 8,
    "start_time": "2024-02-01T19:22:59.226Z"
   },
   {
    "duration": 6,
    "start_time": "2024-02-01T19:23:30.720Z"
   },
   {
    "duration": 6,
    "start_time": "2024-02-01T19:23:51.503Z"
   },
   {
    "duration": 5,
    "start_time": "2024-02-01T19:24:06.398Z"
   },
   {
    "duration": 5,
    "start_time": "2024-02-01T19:24:14.086Z"
   },
   {
    "duration": 5,
    "start_time": "2024-02-01T19:24:22.682Z"
   },
   {
    "duration": 5,
    "start_time": "2024-02-01T19:25:38.677Z"
   },
   {
    "duration": 78,
    "start_time": "2024-02-01T19:26:10.219Z"
   },
   {
    "duration": 77,
    "start_time": "2024-02-01T19:26:16.449Z"
   },
   {
    "duration": 68,
    "start_time": "2024-02-01T19:26:26.208Z"
   },
   {
    "duration": 64,
    "start_time": "2024-02-01T19:27:03.165Z"
   },
   {
    "duration": 7,
    "start_time": "2024-02-01T19:27:24.792Z"
   },
   {
    "duration": 6,
    "start_time": "2024-02-01T19:28:18.438Z"
   },
   {
    "duration": 4,
    "start_time": "2024-02-01T19:28:51.903Z"
   },
   {
    "duration": 4,
    "start_time": "2024-02-01T19:29:12.570Z"
   },
   {
    "duration": 5,
    "start_time": "2024-02-01T19:29:23.045Z"
   },
   {
    "duration": 5,
    "start_time": "2024-02-01T19:30:16.421Z"
   },
   {
    "duration": 6,
    "start_time": "2024-02-01T19:30:25.274Z"
   },
   {
    "duration": 6,
    "start_time": "2024-02-01T19:30:32.561Z"
   },
   {
    "duration": 6,
    "start_time": "2024-02-01T19:38:31.118Z"
   },
   {
    "duration": 8,
    "start_time": "2024-02-01T19:40:42.616Z"
   },
   {
    "duration": 5,
    "start_time": "2024-02-01T19:42:03.741Z"
   },
   {
    "duration": 7,
    "start_time": "2024-02-01T19:42:05.373Z"
   },
   {
    "duration": 10,
    "start_time": "2024-02-01T19:42:06.125Z"
   },
   {
    "duration": 10,
    "start_time": "2024-02-01T19:44:44.894Z"
   },
   {
    "duration": 4,
    "start_time": "2024-02-01T19:52:32.671Z"
   },
   {
    "duration": 32,
    "start_time": "2024-02-01T19:52:49.368Z"
   },
   {
    "duration": 7,
    "start_time": "2024-02-01T19:53:13.993Z"
   },
   {
    "duration": 8,
    "start_time": "2024-02-01T19:53:32.413Z"
   },
   {
    "duration": 53,
    "start_time": "2024-02-01T19:54:05.923Z"
   },
   {
    "duration": 4,
    "start_time": "2024-02-01T19:54:14.380Z"
   },
   {
    "duration": 12,
    "start_time": "2024-02-01T20:00:05.143Z"
   },
   {
    "duration": 12,
    "start_time": "2024-02-01T20:00:16.608Z"
   },
   {
    "duration": 11,
    "start_time": "2024-02-01T20:00:29.495Z"
   },
   {
    "duration": 12,
    "start_time": "2024-02-01T20:01:06.504Z"
   },
   {
    "duration": 13,
    "start_time": "2024-02-01T20:01:21.409Z"
   },
   {
    "duration": 17,
    "start_time": "2024-02-01T20:02:35.257Z"
   },
   {
    "duration": 17,
    "start_time": "2024-02-01T20:03:05.083Z"
   },
   {
    "duration": 16,
    "start_time": "2024-02-01T20:03:38.703Z"
   },
   {
    "duration": 19,
    "start_time": "2024-02-01T20:03:43.919Z"
   },
   {
    "duration": 20,
    "start_time": "2024-02-01T20:03:57.445Z"
   },
   {
    "duration": 17,
    "start_time": "2024-02-01T20:04:13.008Z"
   },
   {
    "duration": 9,
    "start_time": "2024-02-01T20:04:41.415Z"
   },
   {
    "duration": 7,
    "start_time": "2024-02-01T20:04:54.435Z"
   },
   {
    "duration": 17,
    "start_time": "2024-02-01T20:05:26.321Z"
   },
   {
    "duration": 6,
    "start_time": "2024-02-01T20:05:30.436Z"
   },
   {
    "duration": 17,
    "start_time": "2024-02-01T20:05:56.784Z"
   },
   {
    "duration": 5,
    "start_time": "2024-02-01T20:05:58.831Z"
   },
   {
    "duration": 7,
    "start_time": "2024-02-01T20:07:12.505Z"
   },
   {
    "duration": 17,
    "start_time": "2024-02-01T20:08:16.378Z"
   },
   {
    "duration": 17,
    "start_time": "2024-02-01T20:08:37.264Z"
   },
   {
    "duration": 5,
    "start_time": "2024-02-01T20:09:21.487Z"
   },
   {
    "duration": 6,
    "start_time": "2024-02-01T20:09:22.502Z"
   },
   {
    "duration": 7,
    "start_time": "2024-02-01T20:09:23.314Z"
   },
   {
    "duration": 6,
    "start_time": "2024-02-01T20:09:26.329Z"
   },
   {
    "duration": 7,
    "start_time": "2024-02-01T20:09:29.160Z"
   },
   {
    "duration": 10,
    "start_time": "2024-02-01T20:09:31.114Z"
   },
   {
    "duration": 17,
    "start_time": "2024-02-01T20:09:38.422Z"
   },
   {
    "duration": 16,
    "start_time": "2024-02-01T20:09:40.594Z"
   },
   {
    "duration": 4,
    "start_time": "2024-02-01T20:10:09.343Z"
   },
   {
    "duration": 70,
    "start_time": "2024-02-01T20:10:32.351Z"
   },
   {
    "duration": 14,
    "start_time": "2024-02-01T20:10:34.789Z"
   },
   {
    "duration": 13,
    "start_time": "2024-02-01T20:10:37.032Z"
   },
   {
    "duration": 11,
    "start_time": "2024-02-01T20:10:40.105Z"
   },
   {
    "duration": 31,
    "start_time": "2024-02-01T20:10:43.516Z"
   },
   {
    "duration": 3,
    "start_time": "2024-02-01T20:10:45.116Z"
   },
   {
    "duration": 7,
    "start_time": "2024-02-01T20:10:47.872Z"
   },
   {
    "duration": 4,
    "start_time": "2024-02-01T20:10:48.179Z"
   },
   {
    "duration": 5,
    "start_time": "2024-02-01T20:10:50.828Z"
   },
   {
    "duration": 4,
    "start_time": "2024-02-01T20:10:52.266Z"
   },
   {
    "duration": 31,
    "start_time": "2024-02-01T20:10:54.876Z"
   },
   {
    "duration": 9,
    "start_time": "2024-02-01T20:10:56.396Z"
   },
   {
    "duration": 3,
    "start_time": "2024-02-01T20:11:01.152Z"
   },
   {
    "duration": 11,
    "start_time": "2024-02-01T20:11:02.830Z"
   },
   {
    "duration": 79,
    "start_time": "2024-02-01T20:11:02.843Z"
   },
   {
    "duration": 16,
    "start_time": "2024-02-01T20:11:03.937Z"
   },
   {
    "duration": 4,
    "start_time": "2024-02-01T20:11:15.139Z"
   },
   {
    "duration": 10,
    "start_time": "2024-02-01T20:11:24.466Z"
   },
   {
    "duration": 5,
    "start_time": "2024-02-01T20:11:26.746Z"
   },
   {
    "duration": 9,
    "start_time": "2024-02-01T20:11:59.625Z"
   },
   {
    "duration": 6,
    "start_time": "2024-02-01T20:12:16.510Z"
   },
   {
    "duration": 7,
    "start_time": "2024-02-01T20:12:21.340Z"
   },
   {
    "duration": 15,
    "start_time": "2024-02-01T20:12:24.402Z"
   },
   {
    "duration": 18,
    "start_time": "2024-02-01T20:12:33.630Z"
   },
   {
    "duration": 5,
    "start_time": "2024-02-01T20:13:16.229Z"
   },
   {
    "duration": 12,
    "start_time": "2024-02-01T20:20:29.984Z"
   },
   {
    "duration": 27,
    "start_time": "2024-02-01T20:20:30.012Z"
   },
   {
    "duration": 13,
    "start_time": "2024-02-01T20:21:45.958Z"
   },
   {
    "duration": 10,
    "start_time": "2024-02-01T20:21:51.592Z"
   },
   {
    "duration": 12,
    "start_time": "2024-02-01T20:22:29.880Z"
   },
   {
    "duration": 10,
    "start_time": "2024-02-01T20:22:37.758Z"
   },
   {
    "duration": 12,
    "start_time": "2024-02-01T20:26:34.241Z"
   },
   {
    "duration": 72,
    "start_time": "2024-02-01T20:27:12.508Z"
   },
   {
    "duration": 14,
    "start_time": "2024-02-01T20:27:13.828Z"
   },
   {
    "duration": 15,
    "start_time": "2024-02-01T20:27:15.465Z"
   },
   {
    "duration": 15,
    "start_time": "2024-02-01T20:27:20.139Z"
   },
   {
    "duration": 33,
    "start_time": "2024-02-01T20:27:21.367Z"
   },
   {
    "duration": 3,
    "start_time": "2024-02-01T20:27:23.340Z"
   },
   {
    "duration": 7,
    "start_time": "2024-02-01T20:27:24.808Z"
   },
   {
    "duration": 5,
    "start_time": "2024-02-01T20:27:27.251Z"
   },
   {
    "duration": 5,
    "start_time": "2024-02-01T20:27:28.509Z"
   },
   {
    "duration": 4,
    "start_time": "2024-02-01T20:27:29.669Z"
   },
   {
    "duration": 37,
    "start_time": "2024-02-01T20:27:31.462Z"
   },
   {
    "duration": 10,
    "start_time": "2024-02-01T20:27:32.809Z"
   },
   {
    "duration": 3,
    "start_time": "2024-02-01T20:27:34.674Z"
   },
   {
    "duration": 10,
    "start_time": "2024-02-01T20:27:36.627Z"
   },
   {
    "duration": 18,
    "start_time": "2024-02-01T20:27:38.250Z"
   },
   {
    "duration": 15,
    "start_time": "2024-02-01T20:27:38.934Z"
   },
   {
    "duration": 3,
    "start_time": "2024-02-01T20:27:40.935Z"
   },
   {
    "duration": 10,
    "start_time": "2024-02-01T20:27:43.379Z"
   },
   {
    "duration": 5,
    "start_time": "2024-02-01T20:27:45.885Z"
   },
   {
    "duration": 3,
    "start_time": "2024-02-01T20:27:47.752Z"
   },
   {
    "duration": 9,
    "start_time": "2024-02-01T20:27:48.297Z"
   },
   {
    "duration": 6,
    "start_time": "2024-02-01T20:27:50.161Z"
   },
   {
    "duration": 7,
    "start_time": "2024-02-01T20:27:50.856Z"
   },
   {
    "duration": 7,
    "start_time": "2024-02-01T20:27:52.477Z"
   },
   {
    "duration": 6,
    "start_time": "2024-02-01T20:27:55.099Z"
   },
   {
    "duration": 7,
    "start_time": "2024-02-01T20:27:55.979Z"
   },
   {
    "duration": 11,
    "start_time": "2024-02-01T20:27:56.825Z"
   },
   {
    "duration": 13,
    "start_time": "2024-02-01T20:27:59.686Z"
   },
   {
    "duration": 10,
    "start_time": "2024-02-01T20:28:00.618Z"
   },
   {
    "duration": 6,
    "start_time": "2024-02-01T20:28:04.431Z"
   },
   {
    "duration": 7,
    "start_time": "2024-02-01T20:28:58.774Z"
   },
   {
    "duration": 10,
    "start_time": "2024-02-01T20:29:50.424Z"
   },
   {
    "duration": 12,
    "start_time": "2024-02-01T21:18:26.648Z"
   },
   {
    "duration": 10,
    "start_time": "2024-02-01T21:18:28.727Z"
   },
   {
    "duration": 454,
    "start_time": "2024-02-02T09:01:00.411Z"
   },
   {
    "duration": 21,
    "start_time": "2024-02-02T09:01:00.867Z"
   },
   {
    "duration": 74,
    "start_time": "2024-02-02T09:01:00.889Z"
   },
   {
    "duration": 31,
    "start_time": "2024-02-02T09:01:00.965Z"
   },
   {
    "duration": 78,
    "start_time": "2024-02-02T09:01:00.997Z"
   },
   {
    "duration": 48,
    "start_time": "2024-02-02T09:01:01.076Z"
   },
   {
    "duration": 67,
    "start_time": "2024-02-02T09:01:01.126Z"
   },
   {
    "duration": 58,
    "start_time": "2024-02-02T09:01:01.195Z"
   },
   {
    "duration": 62,
    "start_time": "2024-02-02T09:01:01.255Z"
   },
   {
    "duration": 103,
    "start_time": "2024-02-02T09:01:01.320Z"
   },
   {
    "duration": 100,
    "start_time": "2024-02-02T09:01:01.424Z"
   },
   {
    "duration": 75,
    "start_time": "2024-02-02T09:01:01.526Z"
   },
   {
    "duration": 74,
    "start_time": "2024-02-02T09:01:01.602Z"
   },
   {
    "duration": 54,
    "start_time": "2024-02-02T09:01:01.678Z"
   },
   {
    "duration": 33,
    "start_time": "2024-02-02T09:01:01.734Z"
   },
   {
    "duration": 19,
    "start_time": "2024-02-02T09:01:01.769Z"
   },
   {
    "duration": 4,
    "start_time": "2024-02-02T09:01:01.789Z"
   },
   {
    "duration": 38,
    "start_time": "2024-02-02T09:01:01.795Z"
   },
   {
    "duration": 49,
    "start_time": "2024-02-02T09:01:01.835Z"
   },
   {
    "duration": 29,
    "start_time": "2024-02-02T09:01:01.885Z"
   },
   {
    "duration": 31,
    "start_time": "2024-02-02T09:01:01.916Z"
   },
   {
    "duration": 33,
    "start_time": "2024-02-02T09:01:01.948Z"
   },
   {
    "duration": 91,
    "start_time": "2024-02-02T09:01:01.983Z"
   },
   {
    "duration": 57,
    "start_time": "2024-02-02T09:01:02.075Z"
   },
   {
    "duration": 25,
    "start_time": "2024-02-02T09:01:02.133Z"
   },
   {
    "duration": 59,
    "start_time": "2024-02-02T09:01:02.160Z"
   },
   {
    "duration": 35,
    "start_time": "2024-02-02T09:01:02.221Z"
   },
   {
    "duration": 44,
    "start_time": "2024-02-02T09:01:02.259Z"
   },
   {
    "duration": 38,
    "start_time": "2024-02-02T09:01:02.305Z"
   },
   {
    "duration": 19,
    "start_time": "2024-02-02T09:01:02.345Z"
   },
   {
    "duration": 18,
    "start_time": "2024-02-02T09:01:02.366Z"
   },
   {
    "duration": 83,
    "start_time": "2024-02-02T09:29:01.045Z"
   },
   {
    "duration": 84,
    "start_time": "2024-02-02T09:29:10.403Z"
   },
   {
    "duration": 117,
    "start_time": "2024-02-02T09:31:07.162Z"
   },
   {
    "duration": 47,
    "start_time": "2024-02-02T09:36:21.095Z"
   },
   {
    "duration": 679,
    "start_time": "2024-02-02T09:37:39.398Z"
   },
   {
    "duration": 32,
    "start_time": "2024-02-02T09:37:40.304Z"
   },
   {
    "duration": 16,
    "start_time": "2024-02-02T09:37:41.058Z"
   },
   {
    "duration": 16,
    "start_time": "2024-02-02T09:37:45.290Z"
   },
   {
    "duration": 36,
    "start_time": "2024-02-02T09:37:46.669Z"
   },
   {
    "duration": 4,
    "start_time": "2024-02-02T09:37:51.560Z"
   },
   {
    "duration": 8,
    "start_time": "2024-02-02T09:37:53.268Z"
   },
   {
    "duration": 5,
    "start_time": "2024-02-02T09:37:55.976Z"
   },
   {
    "duration": 6,
    "start_time": "2024-02-02T09:37:58.466Z"
   },
   {
    "duration": 4,
    "start_time": "2024-02-02T09:38:00.369Z"
   },
   {
    "duration": 36,
    "start_time": "2024-02-02T09:38:02.201Z"
   },
   {
    "duration": 11,
    "start_time": "2024-02-02T09:38:03.132Z"
   },
   {
    "duration": 4,
    "start_time": "2024-02-02T09:38:05.045Z"
   },
   {
    "duration": 12,
    "start_time": "2024-02-02T09:38:06.562Z"
   },
   {
    "duration": 21,
    "start_time": "2024-02-02T09:38:07.596Z"
   },
   {
    "duration": 28,
    "start_time": "2024-02-02T09:38:08.032Z"
   },
   {
    "duration": 4,
    "start_time": "2024-02-02T09:38:21.740Z"
   },
   {
    "duration": 9,
    "start_time": "2024-02-02T09:38:38.182Z"
   },
   {
    "duration": 6,
    "start_time": "2024-02-02T09:38:49.836Z"
   },
   {
    "duration": 3,
    "start_time": "2024-02-02T09:38:53.034Z"
   },
   {
    "duration": 9,
    "start_time": "2024-02-02T09:38:53.968Z"
   },
   {
    "duration": 7,
    "start_time": "2024-02-02T09:39:06.252Z"
   },
   {
    "duration": 7,
    "start_time": "2024-02-02T09:39:08.684Z"
   },
   {
    "duration": 9,
    "start_time": "2024-02-02T09:39:09.713Z"
   },
   {
    "duration": 84,
    "start_time": "2024-02-02T09:49:49.629Z"
   },
   {
    "duration": 41,
    "start_time": "2024-02-02T09:49:58.564Z"
   },
   {
    "duration": 14,
    "start_time": "2024-02-02T09:52:33.706Z"
   },
   {
    "duration": 14,
    "start_time": "2024-02-02T09:54:11.304Z"
   },
   {
    "duration": 34,
    "start_time": "2024-02-02T09:54:26.666Z"
   },
   {
    "duration": 38,
    "start_time": "2024-02-02T09:54:45.456Z"
   },
   {
    "duration": 24,
    "start_time": "2024-02-02T09:55:18.897Z"
   },
   {
    "duration": 16,
    "start_time": "2024-02-02T09:55:30.349Z"
   },
   {
    "duration": 14,
    "start_time": "2024-02-02T09:59:07.183Z"
   },
   {
    "duration": 14,
    "start_time": "2024-02-02T09:59:26.899Z"
   },
   {
    "duration": 14,
    "start_time": "2024-02-02T09:59:57.654Z"
   },
   {
    "duration": 13,
    "start_time": "2024-02-02T10:00:06.351Z"
   },
   {
    "duration": 53,
    "start_time": "2024-02-02T10:00:13.082Z"
   },
   {
    "duration": 14,
    "start_time": "2024-02-02T10:01:20.744Z"
   },
   {
    "duration": 125,
    "start_time": "2024-02-02T10:01:39.338Z"
   },
   {
    "duration": 6,
    "start_time": "2024-02-02T10:02:41.820Z"
   },
   {
    "duration": 7,
    "start_time": "2024-02-02T10:02:46.862Z"
   },
   {
    "duration": 723,
    "start_time": "2024-02-02T10:03:43.114Z"
   },
   {
    "duration": 683,
    "start_time": "2024-02-02T10:03:49.009Z"
   },
   {
    "duration": 67,
    "start_time": "2024-02-02T10:14:33.518Z"
   },
   {
    "duration": 21,
    "start_time": "2024-02-02T10:14:39.461Z"
   },
   {
    "duration": 16,
    "start_time": "2024-02-02T10:16:01.605Z"
   },
   {
    "duration": 17,
    "start_time": "2024-02-02T10:18:43.773Z"
   },
   {
    "duration": 22,
    "start_time": "2024-02-02T10:19:01.096Z"
   },
   {
    "duration": 19,
    "start_time": "2024-02-02T10:19:39.933Z"
   },
   {
    "duration": 8,
    "start_time": "2024-02-02T10:20:24.094Z"
   },
   {
    "duration": 9,
    "start_time": "2024-02-02T10:20:39.060Z"
   },
   {
    "duration": 12,
    "start_time": "2024-02-02T10:20:49.359Z"
   },
   {
    "duration": 5,
    "start_time": "2024-02-02T10:21:07.717Z"
   },
   {
    "duration": 7,
    "start_time": "2024-02-02T10:21:08.369Z"
   },
   {
    "duration": 9,
    "start_time": "2024-02-02T10:21:09.100Z"
   },
   {
    "duration": 19,
    "start_time": "2024-02-02T10:21:10.195Z"
   },
   {
    "duration": 19,
    "start_time": "2024-02-02T10:23:02.173Z"
   },
   {
    "duration": 7,
    "start_time": "2024-02-02T10:23:08.701Z"
   },
   {
    "duration": 7,
    "start_time": "2024-02-02T10:23:09.705Z"
   },
   {
    "duration": 12,
    "start_time": "2024-02-02T10:23:11.677Z"
   },
   {
    "duration": 20,
    "start_time": "2024-02-02T10:24:28.602Z"
   },
   {
    "duration": 13,
    "start_time": "2024-02-02T10:24:44.965Z"
   },
   {
    "duration": 10,
    "start_time": "2024-02-02T10:24:53.580Z"
   },
   {
    "duration": 16,
    "start_time": "2024-02-02T10:28:35.544Z"
   },
   {
    "duration": 23,
    "start_time": "2024-02-02T10:33:26.097Z"
   },
   {
    "duration": 14,
    "start_time": "2024-02-02T10:33:42.422Z"
   },
   {
    "duration": 10,
    "start_time": "2024-02-02T10:33:43.866Z"
   },
   {
    "duration": 20,
    "start_time": "2024-02-02T10:33:44.969Z"
   },
   {
    "duration": 10,
    "start_time": "2024-02-02T10:34:33.931Z"
   },
   {
    "duration": 21,
    "start_time": "2024-02-02T10:34:53.046Z"
   },
   {
    "duration": 505,
    "start_time": "2024-02-02T11:13:21.706Z"
   },
   {
    "duration": 26,
    "start_time": "2024-02-02T11:13:22.214Z"
   },
   {
    "duration": 17,
    "start_time": "2024-02-02T11:13:22.242Z"
   },
   {
    "duration": 12,
    "start_time": "2024-02-02T11:13:22.279Z"
   },
   {
    "duration": 45,
    "start_time": "2024-02-02T11:13:22.293Z"
   },
   {
    "duration": 4,
    "start_time": "2024-02-02T11:13:22.340Z"
   },
   {
    "duration": 36,
    "start_time": "2024-02-02T11:13:22.346Z"
   },
   {
    "duration": 23,
    "start_time": "2024-02-02T11:13:22.384Z"
   },
   {
    "duration": 34,
    "start_time": "2024-02-02T11:13:22.409Z"
   },
   {
    "duration": 18,
    "start_time": "2024-02-02T11:13:22.446Z"
   },
   {
    "duration": 53,
    "start_time": "2024-02-02T11:13:22.466Z"
   },
   {
    "duration": 12,
    "start_time": "2024-02-02T11:13:22.520Z"
   },
   {
    "duration": 18,
    "start_time": "2024-02-02T11:13:22.534Z"
   },
   {
    "duration": 35,
    "start_time": "2024-02-02T11:13:22.554Z"
   },
   {
    "duration": 44,
    "start_time": "2024-02-02T11:13:22.591Z"
   },
   {
    "duration": 17,
    "start_time": "2024-02-02T11:13:22.637Z"
   },
   {
    "duration": 9,
    "start_time": "2024-02-02T11:13:22.656Z"
   },
   {
    "duration": 23,
    "start_time": "2024-02-02T11:13:22.667Z"
   },
   {
    "duration": 12,
    "start_time": "2024-02-02T11:13:22.691Z"
   },
   {
    "duration": 37,
    "start_time": "2024-02-02T11:13:22.704Z"
   },
   {
    "duration": 35,
    "start_time": "2024-02-02T11:13:22.742Z"
   },
   {
    "duration": 22,
    "start_time": "2024-02-02T11:13:22.779Z"
   },
   {
    "duration": 26,
    "start_time": "2024-02-02T11:13:22.803Z"
   },
   {
    "duration": 30,
    "start_time": "2024-02-02T11:13:22.832Z"
   },
   {
    "duration": 41,
    "start_time": "2024-02-02T11:13:22.863Z"
   },
   {
    "duration": 9,
    "start_time": "2024-02-02T11:13:22.906Z"
   },
   {
    "duration": 18,
    "start_time": "2024-02-02T11:13:22.917Z"
   },
   {
    "duration": 9,
    "start_time": "2024-02-02T11:13:22.938Z"
   },
   {
    "duration": 39,
    "start_time": "2024-02-02T11:13:22.949Z"
   },
   {
    "duration": 15,
    "start_time": "2024-02-02T11:13:22.990Z"
   },
   {
    "duration": 29,
    "start_time": "2024-02-02T11:13:23.007Z"
   },
   {
    "duration": 56,
    "start_time": "2024-02-02T11:13:23.037Z"
   },
   {
    "duration": 10,
    "start_time": "2024-02-02T11:13:23.095Z"
   },
   {
    "duration": 32,
    "start_time": "2024-02-02T11:13:23.107Z"
   },
   {
    "duration": 29,
    "start_time": "2024-02-02T11:13:23.141Z"
   },
   {
    "duration": 50,
    "start_time": "2024-02-02T12:10:00.241Z"
   },
   {
    "duration": 682,
    "start_time": "2024-02-02T12:10:13.899Z"
   },
   {
    "duration": 23,
    "start_time": "2024-02-02T12:10:15.013Z"
   },
   {
    "duration": 15,
    "start_time": "2024-02-02T12:10:16.283Z"
   },
   {
    "duration": 10,
    "start_time": "2024-02-02T12:10:18.265Z"
   },
   {
    "duration": 37,
    "start_time": "2024-02-02T12:10:19.231Z"
   },
   {
    "duration": 3,
    "start_time": "2024-02-02T12:10:20.445Z"
   },
   {
    "duration": 7,
    "start_time": "2024-02-02T12:10:21.426Z"
   },
   {
    "duration": 5,
    "start_time": "2024-02-02T12:10:24.284Z"
   },
   {
    "duration": 8,
    "start_time": "2024-02-02T12:10:26.826Z"
   },
   {
    "duration": 4,
    "start_time": "2024-02-02T12:10:27.713Z"
   },
   {
    "duration": 35,
    "start_time": "2024-02-02T12:10:29.237Z"
   },
   {
    "duration": 10,
    "start_time": "2024-02-02T12:10:30.211Z"
   },
   {
    "duration": 3,
    "start_time": "2024-02-02T12:10:32.016Z"
   },
   {
    "duration": 12,
    "start_time": "2024-02-02T12:10:33.615Z"
   },
   {
    "duration": 24,
    "start_time": "2024-02-02T12:10:34.736Z"
   },
   {
    "duration": 16,
    "start_time": "2024-02-02T12:10:35.549Z"
   },
   {
    "duration": 3,
    "start_time": "2024-02-02T12:10:37.584Z"
   },
   {
    "duration": 14,
    "start_time": "2024-02-02T12:10:38.329Z"
   },
   {
    "duration": 8,
    "start_time": "2024-02-02T12:10:39.641Z"
   },
   {
    "duration": 3,
    "start_time": "2024-02-02T12:10:41.361Z"
   },
   {
    "duration": 9,
    "start_time": "2024-02-02T12:10:41.674Z"
   },
   {
    "duration": 6,
    "start_time": "2024-02-02T12:10:44.251Z"
   },
   {
    "duration": 6,
    "start_time": "2024-02-02T12:10:44.855Z"
   },
   {
    "duration": 8,
    "start_time": "2024-02-02T12:10:45.684Z"
   },
   {
    "duration": 23,
    "start_time": "2024-02-02T12:10:48.264Z"
   },
   {
    "duration": 7,
    "start_time": "2024-02-02T12:11:02.124Z"
   },
   {
    "duration": 9,
    "start_time": "2024-02-02T12:11:02.750Z"
   },
   {
    "duration": 9,
    "start_time": "2024-02-02T12:11:03.786Z"
   },
   {
    "duration": 20,
    "start_time": "2024-02-02T12:11:07.282Z"
   },
   {
    "duration": 16,
    "start_time": "2024-02-02T12:11:10.981Z"
   },
   {
    "duration": 24,
    "start_time": "2024-02-02T12:11:14.363Z"
   },
   {
    "duration": 14,
    "start_time": "2024-02-02T12:11:20.157Z"
   },
   {
    "duration": 11,
    "start_time": "2024-02-02T12:11:23.869Z"
   }
  ],
  "colab": {
   "name": "dpp_template_part2.ipynb",
   "provenance": []
  },
  "kernelspec": {
   "display_name": "Python 3 (ipykernel)",
   "language": "python",
   "name": "python3"
  },
  "language_info": {
   "codemirror_mode": {
    "name": "ipython",
    "version": 3
   },
   "file_extension": ".py",
   "mimetype": "text/x-python",
   "name": "python",
   "nbconvert_exporter": "python",
   "pygments_lexer": "ipython3",
   "version": "3.9.5"
  },
  "toc": {
   "base_numbering": 1,
   "nav_menu": {},
   "number_sections": true,
   "sideBar": true,
   "skip_h1_title": true,
   "title_cell": "Table of Contents",
   "title_sidebar": "Contents",
   "toc_cell": false,
   "toc_position": {},
   "toc_section_display": true,
   "toc_window_display": false
  }
 },
 "nbformat": 4,
 "nbformat_minor": 5
}
