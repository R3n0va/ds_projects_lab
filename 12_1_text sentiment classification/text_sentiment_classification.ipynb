{
 "cells": [
  {
   "cell_type": "code",
   "execution_count": 1,
   "id": "984e68b9",
   "metadata": {},
   "outputs": [],
   "source": [
    "import pandas as pd\n",
    "import os\n",
    "from sklearn.feature_extraction.text import TfidfVectorizer\n",
    "from sklearn.linear_model import LogisticRegression\n",
    "from sklearn.metrics import accuracy_score"
   ]
  },
  {
   "cell_type": "code",
   "execution_count": 2,
   "id": "f0283d5c",
   "metadata": {},
   "outputs": [
    {
     "name": "stdout",
     "output_type": "stream",
     "text": [
      "tweets_lemm_train.csv загружен локально\n",
      "tweets_lemm_test.csv загружен локально\n"
     ]
    }
   ],
   "source": [
    "pd.set_option('display.max_columns', None)\n",
    "\n",
    "def load_csv_safely(file_name: str) -> pd.DataFrame:\n",
    "    \"\"\"\n",
    "    Загружает CSV-файл локально или с сервера /datasets.\n",
    "    Возвращает DataFrame.\n",
    "    \"\"\"\n",
    "    local_path = file_name\n",
    "    server_path = f'/datasets/{file_name}'\n",
    "\n",
    "    if os.path.exists(local_path):\n",
    "        print(f\"{file_name} загружен локально\")\n",
    "        return pd.read_csv(local_path)\n",
    "    elif os.path.exists(server_path):\n",
    "        print(f\"{file_name} загружен с сервера\")\n",
    "        return pd.read_csv(server_path)\n",
    "    else:\n",
    "        raise FileNotFoundError(f\"Файл {file_name} не найден ни локально, ни на сервере.\")\n",
    "\n",
    "train = load_csv_safely('tweets_lemm_train.csv')\n",
    "test = load_csv_safely('tweets_lemm_test.csv')"
   ]
  },
  {
   "cell_type": "code",
   "execution_count": 3,
   "id": "ef016b6c",
   "metadata": {},
   "outputs": [],
   "source": [
    "X_train_texts = train['lemm_text'].astype(str).values\n",
    "y_train = train['positive'].values\n",
    "\n",
    "X_test_texts = test['lemm_text'].astype(str).values\n",
    "\n",
    "# TF-IDF трансформация\n",
    "vectorizer = TfidfVectorizer()\n",
    "X_train = vectorizer.fit_transform(X_train_texts)\n",
    "X_test = vectorizer.transform(X_test_texts)"
   ]
  },
  {
   "cell_type": "code",
   "execution_count": 4,
   "id": "ce0233aa",
   "metadata": {},
   "outputs": [
    {
     "name": "stdout",
     "output_type": "stream",
     "text": [
      "Accuracy на обучении: 0.871\n"
     ]
    }
   ],
   "source": [
    "model = LogisticRegression(random_state=42, max_iter=1000)\n",
    "model.fit(X_train, y_train)\n",
    "\n",
    "# Предсказания на тренировочных данных (для оценки качества)\n",
    "y_pred_train = model.predict(X_train)\n",
    "print(\"Accuracy на обучении:\", accuracy_score(y_train, y_pred_train))"
   ]
  },
  {
   "cell_type": "code",
   "execution_count": 5,
   "id": "df66de25",
   "metadata": {},
   "outputs": [],
   "source": [
    "# Предсказания\n",
    "y_test_pred = model.predict(X_test)\n",
    "\n",
    "# Создание таблицы с результатами\n",
    "submission = pd.DataFrame({'positive': y_test_pred})\n",
    "\n",
    "# Сохранение без индексов и без расширения\n",
    "submission.to_csv('predictions', index=False)"
   ]
  }
 ],
 "metadata": {
  "kernelspec": {
   "display_name": "Python 3",
   "language": "python",
   "name": "python3"
  },
  "language_info": {
   "codemirror_mode": {
    "name": "ipython",
    "version": 3
   },
   "file_extension": ".py",
   "mimetype": "text/x-python",
   "name": "python",
   "nbconvert_exporter": "python",
   "pygments_lexer": "ipython3",
   "version": "3.12.9"
  }
 },
 "nbformat": 4,
 "nbformat_minor": 5
}
